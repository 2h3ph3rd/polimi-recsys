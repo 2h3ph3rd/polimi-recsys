{
 "cells": [
  {
   "cell_type": "markdown",
   "metadata": {},
   "source": [
    "# Random recommender\n",
    "The simplest recommendation system. \n",
    "\n",
    "Accuracy: 0.00016"
   ]
  },
  {
   "cell_type": "markdown",
   "metadata": {},
   "source": [
    "### Import libraries"
   ]
  },
  {
   "cell_type": "code",
   "execution_count": 65,
   "metadata": {},
   "outputs": [],
   "source": [
    "import pandas as pd\n",
    "import numpy as np"
   ]
  },
  {
   "cell_type": "markdown",
   "metadata": {},
   "source": [
    "### Read data"
   ]
  },
  {
   "cell_type": "code",
   "execution_count": 66,
   "metadata": {},
   "outputs": [],
   "source": [
    "# base path for csv files\n",
    "base_path = \"data\"\n",
    "\n",
    "# interactions_and_impressions.csv\n",
    "# Contains the training set, describing implicit preferences expressed by the users.\n",
    "# user_id : identifier of the user\n",
    "# item_id : identifier of the item (TV series)\n",
    "# impression_list : string containing the items that were present on the screen when the user interacted with the item in column item_id. Not all interactions have a corresponding impressions list.\n",
    "# data : \"0\" if the user watched the item, \"1\" if the user opened the item details page.\n",
    "interactions_df_path = base_path + \"/interactions_and_impressions.csv\"\n",
    "\n",
    "# data_ICM_length.csv \n",
    "# Contains the number of episodes of the items. TV series may have multiple episodes.\n",
    "# item_id : identifier of the item\n",
    "# feature_id : identifier of the feature, only one value (0) exists since this ICM only contains the feature \"length\"\n",
    "# data : number of episodes. Some values may be 0 due to incomplete data.\n",
    "items_length_df_path = base_path + \"/data_ICM_length.csv\"\n",
    "\n",
    "# data_ICM_type.csv:\n",
    "# Contains the type of the items. An item can only have one type.\n",
    "# All types are anonymized and described only by a numerical identifier.\n",
    "# item_id : identifier of the item\n",
    "# feature_id : identifier of the type\n",
    "# data : \"1\" if the item is described by the type\n",
    "items_type_df_path = base_path + \"/data_ICM_type.csv\"\n",
    "\n",
    "# data_target_users_test.csv:\n",
    "# Contains the ids of the users that should appear in your submission file.\n",
    "# The submission file should contain all and only these users.\n",
    "users_df_path = base_path + \"/data_target_users_test.csv\""
   ]
  },
  {
   "cell_type": "code",
   "execution_count": 78,
   "metadata": {},
   "outputs": [],
   "source": [
    "dtype={0:int, 1:int, 2:str, 3:int}\n",
    "interactions_df = pd.read_csv(filepath_or_buffer=interactions_df_path, dtype=dtype)\n",
    "items_length_pf = pd.read_csv(filepath_or_buffer=items_length_df_path)\n",
    "items_types_df = pd.read_csv(filepath_or_buffer=items_type_df_path)\n",
    "users_df = pd.read_csv(filepath_or_buffer=users_df_path)"
   ]
  },
  {
   "cell_type": "markdown",
   "metadata": {},
   "source": [
    "### Metrics"
   ]
  },
  {
   "cell_type": "code",
   "execution_count": 68,
   "metadata": {},
   "outputs": [],
   "source": [
    "# Precision: how many of the recommended items are relevant\n",
    "def precision(recommended_items, relevant_items):\n",
    "    \n",
    "    is_relevant = np.in1d(recommended_items, relevant_items, assume_unique=True)\n",
    "    \n",
    "    precision_score = np.sum(is_relevant, dtype=np.float32) / len(is_relevant)\n",
    "    \n",
    "    return precision_score"
   ]
  },
  {
   "cell_type": "code",
   "execution_count": 69,
   "metadata": {},
   "outputs": [],
   "source": [
    "# Recall: how many of the relevant items I was able to recommend\n",
    "def recall(recommended_items, relevant_items):\n",
    "    \n",
    "    is_relevant = np.in1d(recommended_items, relevant_items, assume_unique=True)\n",
    "    \n",
    "    recall_score = np.sum(is_relevant, dtype=np.float32) / relevant_items.shape[0]\n",
    "    \n",
    "    return recall_score"
   ]
  },
  {
   "cell_type": "code",
   "execution_count": 70,
   "metadata": {},
   "outputs": [],
   "source": [
    "# Average Precision\n",
    "def AP(recommended_items, relevant_items):\n",
    "   \n",
    "    is_relevant = np.in1d(recommended_items, relevant_items, assume_unique=True)\n",
    "    \n",
    "    # Cumulative sum: precision at 1, at 2, at 3 ...\n",
    "    p_at_k = is_relevant * np.cumsum(is_relevant, dtype=np.float32) / (1 + np.arange(is_relevant.shape[0]))\n",
    "    \n",
    "    ap_score = np.sum(p_at_k) / np.min([relevant_items.shape[0], is_relevant.shape[0]])\n",
    "\n",
    "    return ap_score"
   ]
  },
  {
   "cell_type": "markdown",
   "metadata": {},
   "source": [
    "### Random recommender"
   ]
  },
  {
   "cell_type": "code",
   "execution_count": 71,
   "metadata": {},
   "outputs": [],
   "source": [
    "class RandomRecommender(object):\n",
    "\n",
    "    def fit(self, n_items):\n",
    "        self.n_items = n_items\n",
    "    \n",
    "    def recommend(self, user_id, at=5):\n",
    "    \n",
    "        recommended_items = np.random.choice(self.n_items, at)\n",
    "\n",
    "        return recommended_items"
   ]
  },
  {
   "cell_type": "code",
   "execution_count": 101,
   "metadata": {},
   "outputs": [],
   "source": [
    "randomRecommender = RandomRecommender()\n",
    "randomRecommender.fit(items_types_df.shape[0])\n",
    "\n",
    "out_df = pd.DataFrame(columns=[\"user_id\", \"item_list\"])\n",
    "\n",
    "for user_id in users_df['user_id']:\n",
    "    items_list = randomRecommender.recommend(user_id, at=10)\n",
    "    items_list = map(str, items_list)\n",
    "    items_list = \" \".join(items_list)\n",
    "    row = pd.DataFrame([[user_id, items_list]], columns=['user_id' , 'item_list'])\n",
    "    out_df = pd.concat([out_df, row])"
   ]
  },
  {
   "cell_type": "markdown",
   "metadata": {},
   "source": [
    "### Save result"
   ]
  },
  {
   "cell_type": "code",
   "execution_count": 102,
   "metadata": {},
   "outputs": [],
   "source": [
    "out_df.to_csv(\"submission.csv\", columns=[\"user_id\", \"item_list\"], index=False)"
   ]
  }
 ],
 "metadata": {
  "kernelspec": {
   "display_name": "Python 3.10.7 64-bit",
   "language": "python",
   "name": "python3"
  },
  "language_info": {
   "codemirror_mode": {
    "name": "ipython",
    "version": 3
   },
   "file_extension": ".py",
   "mimetype": "text/x-python",
   "name": "python",
   "nbconvert_exporter": "python",
   "pygments_lexer": "ipython3",
   "version": "3.10.7"
  },
  "orig_nbformat": 4,
  "vscode": {
   "interpreter": {
    "hash": "916dbcbb3f70747c44a77c7bcd40155683ae19c65e1c03b4aa3499c5328201f1"
   }
  }
 },
 "nbformat": 4,
 "nbformat_minor": 2
}
