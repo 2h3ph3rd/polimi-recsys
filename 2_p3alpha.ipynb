{
    "cells": [
        {
            "attachments": {},
            "cell_type": "markdown",
            "metadata": {},
            "source": [
                "# P3Alpha"
            ]
        },
        {
            "attachments": {},
            "cell_type": "markdown",
            "metadata": {},
            "source": [
                "### Import libraries"
            ]
        },
        {
            "cell_type": "code",
            "execution_count": null,
            "metadata": {},
            "outputs": [],
            "source": [
                "import pandas as pd\n",
                "import numpy as np\n",
                "from scipy import sparse\n",
                "import os\n",
                "import csv\n",
                "\n",
                "from utilities import load_sparse_matrix"
            ]
        },
        {
            "attachments": {},
            "cell_type": "markdown",
            "metadata": {},
            "source": [
                "### Load dataset"
            ]
        },
        {
            "cell_type": "code",
            "execution_count": null,
            "metadata": {},
            "outputs": [
                {
                    "name": "stdout",
                    "output_type": "stream",
                    "text": [
                        "Loaded urm.npz\n",
                        "Loaded urm_train.npz\n",
                        "Loaded urm_val.npz\n",
                        "Loaded icm.npz\n"
                    ]
                }
            ],
            "source": [
                "URM = load_sparse_matrix(\"urm.npz\")\n",
                "URM_train = load_sparse_matrix(\"urm_train.npz\")\n",
                "URM_val = load_sparse_matrix(\"urm_val.npz\")\n",
                "ICM = load_sparse_matrix(\"icm.npz\")"
            ]
        },
        {
            "cell_type": "code",
            "execution_count": null,
            "metadata": {},
            "outputs": [],
            "source": [
                "from src.Evaluation.Evaluator import EvaluatorHoldout\n",
                "\n",
                "evaluator_val = EvaluatorHoldout(URM_val, cutoff_list=[10])"
            ]
        },
        {
            "cell_type": "code",
            "execution_count": null,
            "metadata": {},
            "outputs": [],
            "source": [
                "from skopt.space import Real, Integer, Categorical\n",
                "\n",
                "hyperparameters_range_dictionary = {\n",
                "    \"topK\": Integer(5, 1000),\n",
                "    \"shrink\": Integer(0, 1000),\n",
                "    \"similarity\": Categorical([\"cosine\"]),\n",
                "    \"normalize\": Categorical([True, False]),\n",
                "}"
            ]
        },
        {
            "cell_type": "code",
            "execution_count": null,
            "metadata": {},
            "outputs": [],
            "source": [
                "from src.Recommenders.KNN.ItemKNNCFRecommender import ItemKNNCFRecommender\n",
                "from src.HyperparameterTuning.SearchBayesianSkopt import SearchBayesianSkopt\n",
                "\n",
                "recommender_class = ItemKNNCFRecommender\n",
                "\n",
                "hyperparameterSearch = SearchBayesianSkopt(recommender_class, evaluator_validation=evaluator_val)"
            ]
        },
        {
            "cell_type": "code",
            "execution_count": null,
            "metadata": {},
            "outputs": [],
            "source": [
                "from src.HyperparameterTuning.SearchAbstractClass import SearchInputRecommenderArgs\n",
                "  \n",
                "recommender_input_args = SearchInputRecommenderArgs(\n",
                "    CONSTRUCTOR_POSITIONAL_ARGS = [URM_train],     # For a CBF model simply put [URM_train, ICM_train]\n",
                "    CONSTRUCTOR_KEYWORD_ARGS = {},\n",
                "    FIT_POSITIONAL_ARGS = [],\n",
                "    FIT_KEYWORD_ARGS = {},\n",
                "    EARLYSTOPPING_KEYWORD_ARGS = {},\n",
                ")"
            ]
        }
    ],
    "metadata": {
        "kernelspec": {
            "display_name": "Python 3",
            "language": "python",
            "name": "python3"
        },
        "language_info": {
            "name": "python",
            "version": "3.10.7 (main, Nov 24 2022, 19:45:47) [GCC 12.2.0]"
        },
        "orig_nbformat": 4,
        "vscode": {
            "interpreter": {
                "hash": "e7370f93d1d0cde622a1f8e1c04877d8463912d04d973331ad4851f04de6915a"
            }
        }
    },
    "nbformat": 4,
    "nbformat_minor": 2
}