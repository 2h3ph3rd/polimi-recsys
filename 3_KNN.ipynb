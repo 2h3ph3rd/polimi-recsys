{
 "cells": [
  {
   "attachments": {},
   "cell_type": "markdown",
   "metadata": {},
   "source": [
    "# P3Alpha"
   ]
  },
  {
   "attachments": {},
   "cell_type": "markdown",
   "metadata": {},
   "source": [
    "### Import libraries"
   ]
  },
  {
   "cell_type": "code",
   "execution_count": 12,
   "metadata": {},
   "outputs": [],
   "source": [
    "import pandas as pd\n",
    "import numpy as np\n",
    "from scipy import sparse\n",
    "import os\n",
    "import csv\n",
    "\n",
    "from utilities import load_sparse_matrix"
   ]
  },
  {
   "attachments": {},
   "cell_type": "markdown",
   "metadata": {},
   "source": [
    "### Load dataset"
   ]
  },
  {
   "cell_type": "code",
   "execution_count": 13,
   "metadata": {},
   "outputs": [
    {
     "name": "stdout",
     "output_type": "stream",
     "text": [
      "Loaded icm.npz\n",
      "Loaded urm.npz\n",
      "Loaded urm_test.npz\n",
      "Loaded urm_train.npz\n",
      "Loaded urm_val.npz\n",
      "Loaded urm_train_val.npz\n"
     ]
    }
   ],
   "source": [
    "ICM = load_sparse_matrix(\"icm.npz\")\n",
    "URM = load_sparse_matrix(\"urm.npz\")\n",
    "URM_test = load_sparse_matrix(\"urm_test.npz\")\n",
    "URM_train = load_sparse_matrix(\"urm_train.npz\")\n",
    "URM_validation = load_sparse_matrix(\"urm_val.npz\")\n",
    "URM_train_validation = load_sparse_matrix(\"urm_train_val.npz\")"
   ]
  },
  {
   "cell_type": "code",
   "execution_count": 22,
   "metadata": {},
   "outputs": [
    {
     "name": "stdout",
     "output_type": "stream",
     "text": [
      "EvaluatorHoldout: Ignoring 759 ( 1.8%) Users that have less than 1 test interactions\n",
      "EvaluatorHoldout: Ignoring 322 ( 0.8%) Users that have less than 1 test interactions\n"
     ]
    }
   ],
   "source": [
    "from src.Evaluation.Evaluator import EvaluatorHoldout\n",
    "\n",
    "evaluator_val = EvaluatorHoldout(URM_validation, cutoff_list=[10])\n",
    "evaluator_test = EvaluatorHoldout(URM_test, cutoff_list=[10])"
   ]
  },
  {
   "cell_type": "code",
   "execution_count": 23,
   "metadata": {},
   "outputs": [],
   "source": [
    "from skopt.space import Real, Integer, Categorical\n",
    "\n",
    "hyperparameters_range_dictionary = {\n",
    "    \"topK\": Integer(5, 1000),\n",
    "    \"shrink\": Integer(0, 1000),\n",
    "    \"similarity\": Categorical([\"cosine\"]),\n",
    "    \"normalize\": Categorical([True, False]),\n",
    "}"
   ]
  },
  {
   "cell_type": "code",
   "execution_count": 24,
   "metadata": {},
   "outputs": [],
   "source": [
    "import os\n",
    "\n",
    "output_folder_path = \"result_experiments/\"\n",
    "\n",
    "# If directory does not exist, create\n",
    "if not os.path.exists(output_folder_path):\n",
    "    os.makedirs(output_folder_path)\n",
    "    \n",
    "n_cases = 100  # using 10 as an example\n",
    "n_random_starts = int(n_cases*0.3)\n",
    "metric_to_optimize = \"MAP\"   \n",
    "cutoff_to_optimize = 10"
   ]
  },
  {
   "cell_type": "code",
   "execution_count": 25,
   "metadata": {},
   "outputs": [
    {
     "name": "stdout",
     "output_type": "stream",
     "text": [
      "EvaluatorHoldout: Ignoring 759 ( 1.8%) Users that have less than 1 test interactions\n",
      "EvaluatorHoldout: Ignoring 322 ( 0.8%) Users that have less than 1 test interactions\n"
     ]
    }
   ],
   "source": [
    "from src.Evaluation.Evaluator import EvaluatorHoldout\n",
    "\n",
    "evaluator_validation = EvaluatorHoldout(URM_validation, cutoff_list=[10])\n",
    "evaluator_test = EvaluatorHoldout(URM_test, cutoff_list=[10])"
   ]
  },
  {
   "cell_type": "code",
   "execution_count": 26,
   "metadata": {},
   "outputs": [],
   "source": [
    "from src.Recommenders.KNN.ItemKNNCFRecommender import ItemKNNCFRecommender\n",
    "from src.HyperparameterTuning.SearchBayesianSkopt import SearchBayesianSkopt\n",
    "\n",
    "recommender_class = ItemKNNCFRecommender\n",
    "\n",
    "hyperparameterSearch = SearchBayesianSkopt(recommender_class,\n",
    "                                         evaluator_validation=evaluator_validation,\n",
    "                                         evaluator_test=evaluator_test)"
   ]
  },
  {
   "cell_type": "code",
   "execution_count": 27,
   "metadata": {},
   "outputs": [],
   "source": [
    "from src.HyperparameterTuning.SearchAbstractClass import SearchInputRecommenderArgs\n",
    "  \n",
    "recommender_input_args = SearchInputRecommenderArgs(\n",
    "    CONSTRUCTOR_POSITIONAL_ARGS = [URM_train],     # For a CBF model simply put [URM_train, ICM_train]\n",
    "    CONSTRUCTOR_KEYWORD_ARGS = {},\n",
    "    FIT_POSITIONAL_ARGS = [],\n",
    "    FIT_KEYWORD_ARGS = {},\n",
    "    EARLYSTOPPING_KEYWORD_ARGS = {},\n",
    ")\n",
    "\n",
    "recommender_input_args_last_test = SearchInputRecommenderArgs(\n",
    "    CONSTRUCTOR_POSITIONAL_ARGS = [URM_train_validation],     # For a CBF model simply put [URM_train_validation, ICM_train]\n",
    "    CONSTRUCTOR_KEYWORD_ARGS = {},\n",
    "    FIT_POSITIONAL_ARGS = [],\n",
    "    FIT_KEYWORD_ARGS = {},\n",
    "    EARLYSTOPPING_KEYWORD_ARGS = {},\n",
    ")"
   ]
  },
  {
   "cell_type": "code",
   "execution_count": 33,
   "metadata": {},
   "outputs": [],
   "source": [
    "import os\n",
    "\n",
    "output_folder_path = \"result_experiments/\"\n",
    "\n",
    "# If directory does not exist, create\n",
    "if not os.path.exists(output_folder_path):\n",
    "    os.makedirs(output_folder_path)\n",
    "    \n",
    "n_cases = 100  # using 10 as an example\n",
    "n_random_starts = int(n_cases*0.3)\n",
    "metric_to_optimize = \"MAP\"   \n",
    "cutoff_to_optimize = 100"
   ]
  },
  {
   "cell_type": "code",
   "execution_count": 31,
   "metadata": {},
   "outputs": [
    {
     "name": "stdout",
     "output_type": "stream",
     "text": [
      "Iteration No: 1 started. Evaluating function at random point.\n",
      "SearchBayesianSkopt: Testing config: {'topK': 793, 'shrink': 762, 'similarity': 'cosine', 'normalize': True}\n",
      "ItemKNNCFRecommender: URM Detected 3461 (12.4%) items with no interactions.\n",
      "Unable to load Cython Compute_Similarity, reverting to Python\n",
      "Similarity column 27968 (100.0%), 225.18 column/sec. Elapsed time 2.07 min\n",
      "EvaluatorHoldout: Processed 40870 (100.0%) in 1.34 min. Users per second: 507\n",
      "SearchBayesianSkopt: New best config found. Config 0: {'topK': 793, 'shrink': 762, 'similarity': 'cosine', 'normalize': True} - results: PRECISION: 0.0379912, PRECISION_RECALL_MIN_DEN: 0.0617753, RECALL: 0.0574406, MAP: 0.0169276, MAP_MIN_DEN: 0.0272486, MRR: 0.1261585, NDCG: 0.0584841, F1: 0.0457340, HIT_RATE: 0.2813066, ARHR_ALL_HITS: 0.1455158, NOVELTY: 0.0033503, AVERAGE_POPULARITY: 0.3440567, DIVERSITY_MEAN_INTER_LIST: 0.7557499, DIVERSITY_HERFINDAHL: 0.9755731, COVERAGE_ITEM: 0.1612557, COVERAGE_ITEM_HIT: 0.0165546, ITEMS_IN_GT: 0.8718535, COVERAGE_USER: 0.9817675, COVERAGE_USER_HIT: 0.2761777, USERS_IN_GT: 0.9817675, DIVERSITY_GINI: 0.0055927, SHANNON_ENTROPY: 6.6474498, RATIO_DIVERSITY_HERFINDAHL: 0.9758950, RATIO_DIVERSITY_GINI: 0.0126715, RATIO_SHANNON_ENTROPY: 0.4927838, RATIO_AVERAGE_POPULARITY: 6.8076179, RATIO_NOVELTY: 0.2906276, \n",
      "\n",
      "EvaluatorHoldout: Processed 41307 (100.0%) in 1.19 min. Users per second: 581\n",
      "SearchBayesianSkopt: Config evaluated with evaluator_test. Config: {'topK': 793, 'shrink': 762, 'similarity': 'cosine', 'normalize': True} - results:\n",
      "CUTOFF: 10 - PRECISION: 0.0475101, PRECISION_RECALL_MIN_DEN: 0.0662025, RECALL: 0.0581682, MAP: 0.0218654, MAP_MIN_DEN: 0.0301319, MRR: 0.1521913, NDCG: 0.0666964, F1: 0.0523017, HIT_RATE: 0.3277169, ARHR_ALL_HITS: 0.1814537, NOVELTY: 0.0033513, AVERAGE_POPULARITY: 0.3438045, DIVERSITY_MEAN_INTER_LIST: 0.7562345, DIVERSITY_HERFINDAHL: 0.9756216, COVERAGE_ITEM: 0.1625429, COVERAGE_ITEM_HIT: 0.0173412, ITEMS_IN_GT: 0.8747140, COVERAGE_USER: 0.9922650, COVERAGE_USER_HIT: 0.3251820, USERS_IN_GT: 0.9922650, DIVERSITY_GINI: 0.0056370, SHANNON_ENTROPY: 6.6547829, RATIO_DIVERSITY_HERFINDAHL: 0.9759435, RATIO_DIVERSITY_GINI: 0.0127718, RATIO_SHANNON_ENTROPY: 0.4933274, RATIO_AVERAGE_POPULARITY: 6.8026264, RATIO_NOVELTY: 0.2907125, \n",
      "\n",
      "\n",
      "Iteration No: 1 ended. Evaluation done at random point.\n",
      "Time taken: 276.9197\n",
      "Function value obtained: -0.0169\n",
      "Current minimum: -0.0169\n",
      "Iteration No: 2 started. Evaluating function at random point.\n",
      "SearchBayesianSkopt: Testing config: {'topK': 688, 'shrink': 741, 'similarity': 'cosine', 'normalize': False}\n",
      "ItemKNNCFRecommender: URM Detected 3461 (12.4%) items with no interactions.\n",
      "Unable to load Cython Compute_Similarity, reverting to Python\n",
      "Similarity column 27968 (100.0%), 322.83 column/sec. Elapsed time 1.44 min\n",
      "EvaluatorHoldout: Processed 40870 (100.0%) in 1.19 min. Users per second: 572\n",
      "SearchBayesianSkopt: Config 1 is suboptimal. Config: {'topK': 688, 'shrink': 741, 'similarity': 'cosine', 'normalize': False} - results: PRECISION: 0.0323416, PRECISION_RECALL_MIN_DEN: 0.0536543, RECALL: 0.0500911, MAP: 0.0138126, MAP_MIN_DEN: 0.0227136, MRR: 0.1068255, NDCG: 0.0496765, F1: 0.0393054, HIT_RATE: 0.2492293, ARHR_ALL_HITS: 0.1210787, NOVELTY: 0.0032101, AVERAGE_POPULARITY: 0.4151736, DIVERSITY_MEAN_INTER_LIST: 0.5834370, DIVERSITY_HERFINDAHL: 0.9583423, COVERAGE_ITEM: 0.1489559, COVERAGE_ITEM_HIT: 0.0117992, ITEMS_IN_GT: 0.8718535, COVERAGE_USER: 0.9817675, COVERAGE_USER_HIT: 0.2446852, USERS_IN_GT: 0.9817675, DIVERSITY_GINI: 0.0040572, SHANNON_ENTROPY: 5.7287346, RATIO_DIVERSITY_HERFINDAHL: 0.9586585, RATIO_DIVERSITY_GINI: 0.0091924, RATIO_SHANNON_ENTROPY: 0.4246783, RATIO_AVERAGE_POPULARITY: 8.2147600, RATIO_NOVELTY: 0.2784601, \n",
      "\n",
      "Iteration No: 2 ended. Evaluation done at random point.\n",
      "Time taken: 158.7715\n",
      "Function value obtained: -0.0138\n",
      "Current minimum: -0.0169\n",
      "Iteration No: 3 started. Evaluating function at random point.\n",
      "SearchBayesianSkopt: Testing config: {'topK': 373, 'shrink': 900, 'similarity': 'cosine', 'normalize': True}\n",
      "ItemKNNCFRecommender: URM Detected 3461 (12.4%) items with no interactions.\n",
      "Unable to load Cython Compute_Similarity, reverting to Python\n",
      "Similarity column 27968 (100.0%), 339.71 column/sec. Elapsed time 1.37 min\n",
      "EvaluatorHoldout: Processed 40870 (100.0%) in 1.07 min. Users per second: 638\n",
      "SearchBayesianSkopt: New best config found. Config 2: {'topK': 373, 'shrink': 900, 'similarity': 'cosine', 'normalize': True} - results: PRECISION: 0.0385221, PRECISION_RECALL_MIN_DEN: 0.0625152, RECALL: 0.0580598, MAP: 0.0172169, MAP_MIN_DEN: 0.0276555, MRR: 0.1277437, NDCG: 0.0592592, F1: 0.0463148, HIT_RATE: 0.2832151, ARHR_ALL_HITS: 0.1476321, NOVELTY: 0.0033887, AVERAGE_POPULARITY: 0.3294603, DIVERSITY_MEAN_INTER_LIST: 0.7790680, DIVERSITY_HERFINDAHL: 0.9779049, COVERAGE_ITEM: 0.2005149, COVERAGE_ITEM_HIT: 0.0175915, ITEMS_IN_GT: 0.8718535, COVERAGE_USER: 0.9817675, COVERAGE_USER_HIT: 0.2780514, USERS_IN_GT: 0.9817675, DIVERSITY_GINI: 0.0073738, SHANNON_ENTROPY: 6.8809014, RATIO_DIVERSITY_HERFINDAHL: 0.9782276, RATIO_DIVERSITY_GINI: 0.0167070, RATIO_SHANNON_ENTROPY: 0.5100898, RATIO_AVERAGE_POPULARITY: 6.5188089, RATIO_NOVELTY: 0.2939579, \n",
      "\n",
      "EvaluatorHoldout: Processed 41307 (100.0%) in 1.09 min. Users per second: 633\n",
      "SearchBayesianSkopt: Config evaluated with evaluator_test. Config: {'topK': 373, 'shrink': 900, 'similarity': 'cosine', 'normalize': True} - results:\n",
      "CUTOFF: 10 - PRECISION: 0.0482291, PRECISION_RECALL_MIN_DEN: 0.0671758, RECALL: 0.0589533, MAP: 0.0222944, MAP_MIN_DEN: 0.0306542, MRR: 0.1543969, NDCG: 0.0677229, F1: 0.0530547, HIT_RATE: 0.3308640, ARHR_ALL_HITS: 0.1845402, NOVELTY: 0.0033898, AVERAGE_POPULARITY: 0.3291324, DIVERSITY_MEAN_INTER_LIST: 0.7796711, DIVERSITY_HERFINDAHL: 0.9779652, COVERAGE_ITEM: 0.2022311, COVERAGE_ITEM_HIT: 0.0188430, ITEMS_IN_GT: 0.8747140, COVERAGE_USER: 0.9922650, COVERAGE_USER_HIT: 0.3283048, USERS_IN_GT: 0.9922650, DIVERSITY_GINI: 0.0074319, SHANNON_ENTROPY: 6.8885895, RATIO_DIVERSITY_HERFINDAHL: 0.9782879, RATIO_DIVERSITY_GINI: 0.0168386, RATIO_SHANNON_ENTROPY: 0.5106598, RATIO_AVERAGE_POPULARITY: 6.5123210, RATIO_NOVELTY: 0.2940514, \n",
      "\n",
      "\n",
      "Iteration No: 3 ended. Evaluation done at random point.\n",
      "Time taken: 212.5761\n",
      "Function value obtained: -0.0172\n",
      "Current minimum: -0.0172\n",
      "Iteration No: 4 started. Searching for the next optimal point.\n",
      "SearchBayesianSkopt: Testing config: {'topK': 5, 'shrink': 0, 'similarity': 'cosine', 'normalize': True}\n",
      "ItemKNNCFRecommender: URM Detected 3461 (12.4%) items with no interactions.\n",
      "Unable to load Cython Compute_Similarity, reverting to Python\n",
      "Similarity column 27968 (100.0%), 405.61 column/sec. Elapsed time 1.15 min\n",
      "EvaluatorHoldout: Processed 40870 (100.0%) in 30.41 sec. Users per second: 1344\n",
      "SearchBayesianSkopt: Config 3 is suboptimal. Config: {'topK': 5, 'shrink': 0, 'similarity': 'cosine', 'normalize': True} - results: PRECISION: 0.0379227, PRECISION_RECALL_MIN_DEN: 0.0594929, RECALL: 0.0548672, MAP: 0.0168764, MAP_MIN_DEN: 0.0262099, MRR: 0.1223234, NDCG: 0.0567414, F1: 0.0448478, HIT_RATE: 0.2745290, ARHR_ALL_HITS: 0.1431466, NOVELTY: 0.0042140, AVERAGE_POPULARITY: 0.1269319, DIVERSITY_MEAN_INTER_LIST: 0.9742520, DIVERSITY_HERFINDAHL: 0.9974228, COVERAGE_ITEM: 0.5532037, COVERAGE_ITEM_HIT: 0.0595681, ITEMS_IN_GT: 0.8718535, COVERAGE_USER: 0.9817675, COVERAGE_USER_HIT: 0.2695236, USERS_IN_GT: 0.9817675, DIVERSITY_GINI: 0.0800582, SHANNON_ENTROPY: 10.6711082, RATIO_DIVERSITY_HERFINDAHL: 0.9977519, RATIO_DIVERSITY_GINI: 0.1813889, RATIO_SHANNON_ENTROPY: 0.7910626, RATIO_AVERAGE_POPULARITY: 2.5115157, RATIO_NOVELTY: 0.3655509, \n",
      "\n",
      "Iteration No: 4 ended. Search finished for the next optimal point.\n",
      "Time taken: 100.0427\n",
      "Function value obtained: -0.0169\n",
      "Current minimum: -0.0172\n",
      "Iteration No: 5 started. Searching for the next optimal point.\n",
      "SearchBayesianSkopt: Testing config: {'topK': 16, 'shrink': 13, 'similarity': 'cosine', 'normalize': False}\n",
      "ItemKNNCFRecommender: URM Detected 3461 (12.4%) items with no interactions.\n",
      "Unable to load Cython Compute_Similarity, reverting to Python\n",
      "Similarity column 27968 (100.0%), 418.50 column/sec. Elapsed time 1.11 min\n",
      "EvaluatorHoldout: Processed 40870 (100.0%) in 48.06 sec. Users per second: 850\n",
      "SearchBayesianSkopt: Config 4 is suboptimal. Config: {'topK': 16, 'shrink': 13, 'similarity': 'cosine', 'normalize': False} - results: PRECISION: 0.0344801, PRECISION_RECALL_MIN_DEN: 0.0555873, RECALL: 0.0515221, MAP: 0.0154898, MAP_MIN_DEN: 0.0247965, MRR: 0.1154515, NDCG: 0.0530981, F1: 0.0413126, HIT_RATE: 0.2544898, ARHR_ALL_HITS: 0.1331312, NOVELTY: 0.0036314, AVERAGE_POPULARITY: 0.2637550, DIVERSITY_MEAN_INTER_LIST: 0.8630114, DIVERSITY_HERFINDAHL: 0.9862990, COVERAGE_ITEM: 0.4522311, COVERAGE_ITEM_HIT: 0.0249213, ITEMS_IN_GT: 0.8718535, COVERAGE_USER: 0.9817675, COVERAGE_USER_HIT: 0.2498499, USERS_IN_GT: 0.9817675, DIVERSITY_GINI: 0.0323869, SHANNON_ENTROPY: 8.2918547, RATIO_DIVERSITY_HERFINDAHL: 0.9866245, RATIO_DIVERSITY_GINI: 0.0733794, RATIO_SHANNON_ENTROPY: 0.6146856, RATIO_AVERAGE_POPULARITY: 5.2187410, RATIO_NOVELTY: 0.3150077, \n",
      "\n",
      "Iteration No: 5 ended. Search finished for the next optimal point.\n",
      "Time taken: 115.5941\n",
      "Function value obtained: -0.0155\n",
      "Current minimum: -0.0172\n",
      "Iteration No: 6 started. Searching for the next optimal point.\n",
      "SearchBayesianSkopt: Testing config: {'topK': 533, 'shrink': 22, 'similarity': 'cosine', 'normalize': True}\n",
      "ItemKNNCFRecommender: URM Detected 3461 (12.4%) items with no interactions.\n",
      "Unable to load Cython Compute_Similarity, reverting to Python\n",
      "Similarity column 27968 (100.0%), 324.84 column/sec. Elapsed time 1.43 min\n",
      "EvaluatorHoldout: Processed 40870 (100.0%) in 1.12 min. Users per second: 610\n",
      "SearchBayesianSkopt: New best config found. Config 5: {'topK': 533, 'shrink': 22, 'similarity': 'cosine', 'normalize': True} - results: PRECISION: 0.0431808, PRECISION_RECALL_MIN_DEN: 0.0689100, RECALL: 0.0638878, MAP: 0.0195315, MAP_MIN_DEN: 0.0308674, MRR: 0.1390180, NDCG: 0.0655333, F1: 0.0515319, HIT_RATE: 0.3045021, ARHR_ALL_HITS: 0.1639751, NOVELTY: 0.0037322, AVERAGE_POPULARITY: 0.2254376, DIVERSITY_MEAN_INTER_LIST: 0.9056155, DIVERSITY_HERFINDAHL: 0.9905593, COVERAGE_ITEM: 0.3533324, COVERAGE_ITEM_HIT: 0.0381507, ITEMS_IN_GT: 0.8718535, COVERAGE_USER: 0.9817675, COVERAGE_USER_HIT: 0.2989503, USERS_IN_GT: 0.9817675, DIVERSITY_GINI: 0.0235637, SHANNON_ENTROPY: 8.5691720, RATIO_DIVERSITY_HERFINDAHL: 0.9908862, RATIO_DIVERSITY_GINI: 0.0533887, RATIO_SHANNON_ENTROPY: 0.6352434, RATIO_AVERAGE_POPULARITY: 4.4605811, RATIO_NOVELTY: 0.3237497, \n",
      "\n",
      "EvaluatorHoldout: Processed 41307 (100.0%) in 1.14 min. Users per second: 606\n",
      "SearchBayesianSkopt: Config evaluated with evaluator_test. Config: {'topK': 533, 'shrink': 22, 'similarity': 'cosine', 'normalize': True} - results:\n",
      "CUTOFF: 10 - PRECISION: 0.0541264, PRECISION_RECALL_MIN_DEN: 0.0741172, RECALL: 0.0646525, MAP: 0.0253991, MAP_MIN_DEN: 0.0342888, MRR: 0.1680474, NDCG: 0.0749317, F1: 0.0589231, HIT_RATE: 0.3555572, ARHR_ALL_HITS: 0.2053615, NOVELTY: 0.0037342, AVERAGE_POPULARITY: 0.2250633, DIVERSITY_MEAN_INTER_LIST: 0.9059964, DIVERSITY_HERFINDAHL: 0.9905975, COVERAGE_ITEM: 0.3561928, COVERAGE_ITEM_HIT: 0.0405463, ITEMS_IN_GT: 0.8747140, COVERAGE_USER: 0.9922650, COVERAGE_USER_HIT: 0.3528069, USERS_IN_GT: 0.9922650, DIVERSITY_GINI: 0.0237691, SHANNON_ENTROPY: 8.5800446, RATIO_DIVERSITY_HERFINDAHL: 0.9909243, RATIO_DIVERSITY_GINI: 0.0538539, RATIO_SHANNON_ENTROPY: 0.6360494, RATIO_AVERAGE_POPULARITY: 4.4531756, RATIO_NOVELTY: 0.3239279, \n",
      "\n",
      "\n",
      "Iteration No: 6 ended. Search finished for the next optimal point.\n",
      "Time taken: 222.3445\n",
      "Function value obtained: -0.0195\n",
      "Current minimum: -0.0195\n",
      "Iteration No: 7 started. Searching for the next optimal point.\n",
      "SearchBayesianSkopt: Testing config: {'topK': 993, 'shrink': 34, 'similarity': 'cosine', 'normalize': True}\n",
      "ItemKNNCFRecommender: URM Detected 3461 (12.4%) items with no interactions.\n",
      "Unable to load Cython Compute_Similarity, reverting to Python\n",
      "Similarity column 27968 (100.0%), 301.83 column/sec. Elapsed time 1.54 min\n",
      "EvaluatorHoldout: Processed 40870 (100.0%) in 1.19 min. Users per second: 574\n",
      "SearchBayesianSkopt: Config 6 is suboptimal. Config: {'topK': 993, 'shrink': 34, 'similarity': 'cosine', 'normalize': True} - results: PRECISION: 0.0428138, PRECISION_RECALL_MIN_DEN: 0.0685296, RECALL: 0.0635364, MAP: 0.0193195, MAP_MIN_DEN: 0.0305395, MRR: 0.1381917, NDCG: 0.0650170, F1: 0.0511562, HIT_RATE: 0.3029606, ARHR_ALL_HITS: 0.1626075, NOVELTY: 0.0036680, AVERAGE_POPULARITY: 0.2404683, DIVERSITY_MEAN_INTER_LIST: 0.8917710, DIVERSITY_HERFINDAHL: 0.9891749, COVERAGE_ITEM: 0.2809640, COVERAGE_ITEM_HIT: 0.0342177, ITEMS_IN_GT: 0.8718535, COVERAGE_USER: 0.9817675, COVERAGE_USER_HIT: 0.2974369, USERS_IN_GT: 0.9817675, DIVERSITY_GINI: 0.0179880, SHANNON_ENTROPY: 8.2670952, RATIO_DIVERSITY_HERFINDAHL: 0.9895013, RATIO_DIVERSITY_GINI: 0.0407556, RATIO_SHANNON_ENTROPY: 0.6128501, RATIO_AVERAGE_POPULARITY: 4.7579840, RATIO_NOVELTY: 0.3181876, \n",
      "\n",
      "Iteration No: 7 ended. Search finished for the next optimal point.\n",
      "Time taken: 165.0330\n",
      "Function value obtained: -0.0193\n",
      "Current minimum: -0.0195\n",
      "Iteration No: 8 started. Searching for the next optimal point.\n",
      "SearchBayesianSkopt: Testing config: {'topK': 989, 'shrink': 3, 'similarity': 'cosine', 'normalize': False}\n",
      "ItemKNNCFRecommender: URM Detected 3461 (12.4%) items with no interactions.\n",
      "Unable to load Cython Compute_Similarity, reverting to Python\n",
      "Similarity column 27968 (100.0%), 306.23 column/sec. Elapsed time 1.52 min\n",
      "EvaluatorHoldout: Processed 40870 (100.0%) in 1.20 min. Users per second: 568\n",
      "SearchBayesianSkopt: Config 7 is suboptimal. Config: {'topK': 989, 'shrink': 3, 'similarity': 'cosine', 'normalize': False} - results: PRECISION: 0.0320455, PRECISION_RECALL_MIN_DEN: 0.0532622, RECALL: 0.0497459, MAP: 0.0136518, MAP_MIN_DEN: 0.0224572, MRR: 0.1059648, NDCG: 0.0492311, F1: 0.0389804, HIT_RATE: 0.2481771, ARHR_ALL_HITS: 0.1199034, NOVELTY: 0.0031905, AVERAGE_POPULARITY: 0.4225261, DIVERSITY_MEAN_INTER_LIST: 0.5651189, DIVERSITY_HERFINDAHL: 0.9565105, COVERAGE_ITEM: 0.1306851, COVERAGE_ITEM_HIT: 0.0112271, ITEMS_IN_GT: 0.8718535, COVERAGE_USER: 0.9817675, COVERAGE_USER_HIT: 0.2436523, USERS_IN_GT: 0.9817675, DIVERSITY_GINI: 0.0033358, SHANNON_ENTROPY: 5.5911816, RATIO_DIVERSITY_HERFINDAHL: 0.9568261, RATIO_DIVERSITY_GINI: 0.0075579, RATIO_SHANNON_ENTROPY: 0.4144813, RATIO_AVERAGE_POPULARITY: 8.3602377, RATIO_NOVELTY: 0.2767624, \n",
      "\n",
      "Iteration No: 8 ended. Search finished for the next optimal point.\n",
      "Time taken: 164.5930\n",
      "Function value obtained: -0.0137\n",
      "Current minimum: -0.0195\n",
      "Iteration No: 9 started. Searching for the next optimal point.\n",
      "SearchBayesianSkopt: Testing config: {'topK': 11, 'shrink': 984, 'similarity': 'cosine', 'normalize': False}\n",
      "ItemKNNCFRecommender: URM Detected 3461 (12.4%) items with no interactions.\n",
      "Unable to load Cython Compute_Similarity, reverting to Python\n",
      "Similarity column 27968 (100.0%), 417.78 column/sec. Elapsed time 1.12 min\n",
      "EvaluatorHoldout: Processed 40870 (100.0%) in 45.59 sec. Users per second: 897\n",
      "SearchBayesianSkopt: Config 8 is suboptimal. Config: {'topK': 11, 'shrink': 984, 'similarity': 'cosine', 'normalize': False} - results: PRECISION: 0.0333692, PRECISION_RECALL_MIN_DEN: 0.0536310, RECALL: 0.0497190, MAP: 0.0149608, MAP_MIN_DEN: 0.0239895, MRR: 0.1127674, NDCG: 0.0514690, F1: 0.0399355, HIT_RATE: 0.2483729, ARHR_ALL_HITS: 0.1293757, NOVELTY: 0.0036923, AVERAGE_POPULARITY: 0.2497026, DIVERSITY_MEAN_INTER_LIST: 0.8783041, DIVERSITY_HERFINDAHL: 0.9878283, COVERAGE_ITEM: 0.4558781, COVERAGE_ITEM_HIT: 0.0256007, ITEMS_IN_GT: 0.8718535, COVERAGE_USER: 0.9817675, COVERAGE_USER_HIT: 0.2438444, USERS_IN_GT: 0.9817675, DIVERSITY_GINI: 0.0360918, SHANNON_ENTROPY: 8.5519612, RATIO_DIVERSITY_HERFINDAHL: 0.9881542, RATIO_DIVERSITY_GINI: 0.0817737, RATIO_SHANNON_ENTROPY: 0.6339676, RATIO_AVERAGE_POPULARITY: 4.9406957, RATIO_NOVELTY: 0.3202911, \n",
      "\n",
      "Iteration No: 9 ended. Search finished for the next optimal point.\n",
      "Time taken: 113.2953\n",
      "Function value obtained: -0.0150\n",
      "Current minimum: -0.0195\n",
      "Iteration No: 10 started. Searching for the next optimal point.\n",
      "SearchBayesianSkopt: Testing config: {'topK': 749, 'shrink': 0, 'similarity': 'cosine', 'normalize': True}\n",
      "ItemKNNCFRecommender: URM Detected 3461 (12.4%) items with no interactions.\n",
      "Unable to load Cython Compute_Similarity, reverting to Python\n",
      "Similarity column 27968 (100.0%), 309.63 column/sec. Elapsed time 1.51 min\n",
      "EvaluatorHoldout: Processed 40870 (100.0%) in 1.15 min. Users per second: 590\n",
      "SearchBayesianSkopt: Config 9 is suboptimal. Config: {'topK': 749, 'shrink': 0, 'similarity': 'cosine', 'normalize': True} - results: PRECISION: 0.0430242, PRECISION_RECALL_MIN_DEN: 0.0683930, RECALL: 0.0633788, MAP: 0.0192989, MAP_MIN_DEN: 0.0303705, MRR: 0.1370324, NDCG: 0.0647738, F1: 0.0512546, HIT_RATE: 0.3027649, ARHR_ALL_HITS: 0.1618603, NOVELTY: 0.0038978, AVERAGE_POPULARITY: 0.2078334, DIVERSITY_MEAN_INTER_LIST: 0.9180609, DIVERSITY_HERFINDAHL: 0.9918038, COVERAGE_ITEM: 0.5645023, COVERAGE_ITEM_HIT: 0.0425129, ITEMS_IN_GT: 0.8718535, COVERAGE_USER: 0.9817675, COVERAGE_USER_HIT: 0.2972447, USERS_IN_GT: 0.9817675, DIVERSITY_GINI: 0.0510109, SHANNON_ENTROPY: 9.1935572, RATIO_DIVERSITY_HERFINDAHL: 0.9921311, RATIO_DIVERSITY_GINI: 0.1155762, RATIO_SHANNON_ENTROPY: 0.6815299, RATIO_AVERAGE_POPULARITY: 4.1122593, RATIO_NOVELTY: 0.3381151, \n",
      "\n",
      "Iteration No: 10 ended. Search finished for the next optimal point.\n",
      "Time taken: 160.7847\n",
      "Function value obtained: -0.0193\n",
      "Current minimum: -0.0195\n",
      "SearchBayesianSkopt: Search complete. Best config is 5: {'topK': 533, 'shrink': 22, 'similarity': 'cosine', 'normalize': True}\n",
      "\n",
      "ItemKNNCFRecommender: URM Detected 3461 (12.4%) items with no interactions.\n",
      "SearchBayesianSkopt: Evaluation with constructor data for final test. Using best config: {'topK': 533, 'shrink': 22, 'similarity': 'cosine', 'normalize': True}\n",
      "Unable to load Cython Compute_Similarity, reverting to Python\n",
      "Similarity column 27968 (100.0%), 277.49 column/sec. Elapsed time 1.68 min\n",
      "EvaluatorHoldout: Processed 41307 (100.0%) in 1.15 min. Users per second: 596\n",
      "SearchBayesianSkopt: Best config evaluated with evaluator_test with constructor data for final test. Config: {'topK': 533, 'shrink': 22, 'similarity': 'cosine', 'normalize': True} - results:\n",
      "CUTOFF: 10 - PRECISION: 0.0596485, PRECISION_RECALL_MIN_DEN: 0.0817298, RECALL: 0.0710931, MAP: 0.0298992, MAP_MIN_DEN: 0.0402300, MRR: 0.1894163, NDCG: 0.0846075, F1: 0.0648699, HIT_RATE: 0.3758927, ARHR_ALL_HITS: 0.2357937, NOVELTY: 0.0036788, AVERAGE_POPULARITY: 0.2333064, DIVERSITY_MEAN_INTER_LIST: 0.8976036, DIVERSITY_HERFINDAHL: 0.9897582, COVERAGE_ITEM: 0.2321939, COVERAGE_ITEM_HIT: 0.0425486, ITEMS_IN_GT: 0.8747140, COVERAGE_USER: 0.9922650, COVERAGE_USER_HIT: 0.3729852, USERS_IN_GT: 0.9922650, DIVERSITY_GINI: 0.0153598, SHANNON_ENTROPY: 8.2657820, RATIO_DIVERSITY_HERFINDAHL: 0.9900843, RATIO_DIVERSITY_GINI: 0.0345209, RATIO_SHANNON_ENTROPY: 0.6125369, RATIO_AVERAGE_POPULARITY: 4.6247249, RATIO_NOVELTY: 0.2552080, \n",
      "\n",
      "\n",
      "SearchBayesianSkopt: Saving model in result_experiments/ItemKNNCFRecommender\n",
      "\n",
      "ItemKNNCFRecommender: Saving model in file 'result_experiments/ItemKNNCFRecommender_best_model_last'\n",
      "ItemKNNCFRecommender: Saving complete\n"
     ]
    }
   ],
   "source": [
    "hyperparameterSearch.search(\n",
    "       recommender_input_args,\n",
    "       recommender_input_args_last_test = recommender_input_args_last_test,\n",
    "       hyperparameter_search_space = hyperparameters_range_dictionary,\n",
    "       n_cases = n_cases,\n",
    "       n_random_starts = n_random_starts,\n",
    "       save_model = \"last\",\n",
    "       output_folder_path = output_folder_path, # Where to save the results\n",
    "       output_file_name_root = recommender_class.RECOMMENDER_NAME, # How to call the files\n",
    "       metric_to_optimize = metric_to_optimize,\n",
    "       cutoff_to_optimize = cutoff_to_optimize,\n",
    ")"
   ]
  },
  {
   "attachments": {},
   "cell_type": "markdown",
   "metadata": {},
   "source": [
    "### Save recommendations"
   ]
  },
  {
   "cell_type": "code",
   "execution_count": 32,
   "metadata": {},
   "outputs": [
    {
     "name": "stdout",
     "output_type": "stream",
     "text": [
      "ItemKNNCFRecommender: URM Detected 3461 (12.4%) items with no interactions.\n",
      "ItemKNNCFRecommender: Loading model from file 'result_experiments/ItemKNNCFRecommender_best_model_last.zip'\n",
      "ItemKNNCFRecommender: Loading complete\n",
      "Saving recommendations finished!                                                                    \n",
      "Saving recommendations    41600 of    41116\r"
     ]
    }
   ],
   "source": [
    "from utilities import save_recommendations\n",
    "\n",
    "rec = ItemKNNCFRecommender(URM)\n",
    "rec.load_model(\n",
    "    output_folder_path, \n",
    "    file_name=rec.RECOMMENDER_NAME + \"_best_model_last.zip\"\n",
    ")\n",
    "save_recommendations(rec)"
   ]
  }
 ],
 "metadata": {
  "kernelspec": {
   "display_name": "Python 3",
   "language": "python",
   "name": "python3"
  },
  "language_info": {
   "codemirror_mode": {
    "name": "ipython",
    "version": 3
   },
   "file_extension": ".py",
   "mimetype": "text/x-python",
   "name": "python",
   "nbconvert_exporter": "python",
   "pygments_lexer": "ipython3",
   "version": "3.10.7"
  },
  "orig_nbformat": 4,
  "vscode": {
   "interpreter": {
    "hash": "e7370f93d1d0cde622a1f8e1c04877d8463912d04d973331ad4851f04de6915a"
   }
  }
 },
 "nbformat": 4,
 "nbformat_minor": 2
}
