{
 "cells": [
  {
   "cell_type": "markdown",
   "metadata": {},
   "source": [
    "# Utilities functions"
   ]
  },
  {
   "cell_type": "markdown",
   "metadata": {},
   "source": [
    "### Import libraries"
   ]
  },
  {
   "cell_type": "code",
   "execution_count": 2,
   "metadata": {},
   "outputs": [],
   "source": [
    "import pandas as pd\n",
    "import numpy as np"
   ]
  },
  {
   "cell_type": "markdown",
   "metadata": {},
   "source": [
    "### Utilities"
   ]
  },
  {
   "cell_type": "code",
   "execution_count": 3,
   "metadata": {},
   "outputs": [],
   "source": [
    "def pretty_print_progress(current, total, prepend):\n",
    "    if current == total:\n",
    "        print(\" \" * 100, end=\"\\r\")\n",
    "        print(prepend, \"finished!\")\n",
    "    elif current % 100 == 0:\n",
    "        print(\"%s %8s of %8s\" % (prepend, current, total), end=\"\\r\")"
   ]
  },
  {
   "cell_type": "markdown",
   "metadata": {},
   "source": [
    "### Read data"
   ]
  },
  {
   "cell_type": "code",
   "execution_count": 7,
   "metadata": {},
   "outputs": [],
   "source": [
    "# base path for csv files\n",
    "base_path = \"data\"\n",
    "interactions_df_path = base_path + \"/interactions_and_impressions.csv\"\n",
    "items_length_df_path = base_path + \"/data_ICM_length.csv\"\n",
    "items_type_df_path = base_path + \"/data_ICM_type.csv\"\n",
    "users_df_path = base_path + \"/data_target_users_test.csv\""
   ]
  },
  {
   "cell_type": "code",
   "execution_count": 12,
   "metadata": {},
   "outputs": [],
   "source": [
    "dtype = {0: int, 1: int, 2: str, 3: int}\n",
    "interactions_df = pd.read_csv(\n",
    "    filepath_or_buffer=interactions_df_path,\n",
    "    dtype=dtype,\n",
    "    keep_default_na=False  # avoid NaN\n",
    ")\n",
    "dtype = {0: int, 1: int, 2: int}\n",
    "items_length_df = pd.read_csv(filepath_or_buffer=items_length_df_path, dtype=dtype)\n",
    "items_types_df = pd.read_csv(filepath_or_buffer=items_type_df_path, dtype=dtype)\n",
    "users_df = pd.read_csv(filepath_or_buffer=users_df_path)"
   ]
  },
  {
   "cell_type": "markdown",
   "metadata": {},
   "source": [
    "### Generate ICM matrix"
   ]
  },
  {
   "cell_type": "code",
   "execution_count": 22,
   "metadata": {},
   "outputs": [
    {
     "name": "stdout",
     "output_type": "stream",
     "text": [
      "Unique item_id in the dataset are 6\n",
      "[0 1 2 3 4 5] [0 1 2 3 4 6]\n",
      "Unique feature_id in the dataset are 4\n",
      "[0 1 2 3] [1 2 3 4]\n",
      "0\n"
     ]
    }
   ],
   "source": [
    "mapped_items_ids, original_items_ids = pd.factorize(items_types_df.sort_values([\"item_id\"])[\"item_id\"].unique())\n",
    "\n",
    "print(\"Unique item_id in the dataset are {}\".format(len(original_items_ids)))\n",
    "\n",
    "if TEST:\n",
    "    print(mapped_items_ids, original_items_ids)\n",
    "    \n",
    "mapped_features_ids, original_features_ids = pd.factorize(items_types_df.sort_values([\"feature_id\"])[\"feature_id\"].unique())\n",
    "\n",
    "print(\"Unique feature_id in the dataset are {}\".format(len(original_features_ids)))\n",
    "\n",
    "if TEST:\n",
    "    print(mapped_features_ids, original_features_ids)\n",
    "    \n",
    "item_original_ID_to_index = pd.Series(mapped_items_ids, index=original_items_ids)\n",
    "    \n",
    "icm_df = pd.DataFrame(columns=mapped_features_ids)\n",
    "\n",
    "\n",
    "\n",
    "# out_df = icm_df"
   ]
  },
  {
   "cell_type": "code",
   "execution_count": null,
   "metadata": {},
   "outputs": [],
   "source": [
    "output_folder = \"data_custom\"\n",
    "out_df.to_csv(output_folder + \"/icm.csv\")"
   ]
  }
 ],
 "metadata": {
  "kernelspec": {
   "display_name": "Python 3.10.7 64-bit",
   "language": "python",
   "name": "python3"
  },
  "language_info": {
   "codemirror_mode": {
    "name": "ipython",
    "version": 3
   },
   "file_extension": ".py",
   "mimetype": "text/x-python",
   "name": "python",
   "nbconvert_exporter": "python",
   "pygments_lexer": "ipython3",
   "version": "3.10.7 (main, Nov  2 2022, 18:49:29) [GCC 12.2.0]"
  },
  "orig_nbformat": 4,
  "vscode": {
   "interpreter": {
    "hash": "916dbcbb3f70747c44a77c7bcd40155683ae19c65e1c03b4aa3499c5328201f1"
   }
  }
 },
 "nbformat": 4,
 "nbformat_minor": 2
}
