{
 "cells": [
  {
   "attachments": {},
   "cell_type": "markdown",
   "metadata": {},
   "source": [
    "# P3Alpha"
   ]
  },
  {
   "attachments": {},
   "cell_type": "markdown",
   "metadata": {},
   "source": [
    "### Import libraries"
   ]
  },
  {
   "cell_type": "code",
   "execution_count": 3,
   "metadata": {},
   "outputs": [],
   "source": [
    "import pandas as pd\n",
    "import numpy as np\n",
    "from scipy import sparse\n",
    "import os\n",
    "import csv\n",
    "\n",
    "from utilities import load_sparse_matrix"
   ]
  },
  {
   "attachments": {},
   "cell_type": "markdown",
   "metadata": {},
   "source": [
    "### Load dataset"
   ]
  },
  {
   "cell_type": "code",
   "execution_count": 4,
   "metadata": {},
   "outputs": [
    {
     "name": "stdout",
     "output_type": "stream",
     "text": [
      "Loaded icm.npz\n",
      "Loaded urm.npz\n",
      "Loaded urm_test.npz\n",
      "Loaded urm_train.npz\n",
      "Loaded urm_val.npz\n",
      "Loaded urm_train_val.npz\n"
     ]
    }
   ],
   "source": [
    "ICM = load_sparse_matrix(\"icm.npz\")\n",
    "URM = load_sparse_matrix(\"urm.npz\")\n",
    "URM_test = load_sparse_matrix(\"urm_test.npz\")\n",
    "URM_train = load_sparse_matrix(\"urm_train.npz\")\n",
    "URM_val = load_sparse_matrix(\"urm_val.npz\")\n",
    "URM_train_val = load_sparse_matrix(\"urm_train_val.npz\")"
   ]
  },
  {
   "cell_type": "code",
   "execution_count": 5,
   "metadata": {},
   "outputs": [
    {
     "name": "stdout",
     "output_type": "stream",
     "text": [
      "EvaluatorHoldout: Ignoring 759 ( 1.8%) Users that have less than 1 test interactions\n",
      "EvaluatorHoldout: Ignoring 322 ( 0.8%) Users that have less than 1 test interactions\n"
     ]
    }
   ],
   "source": [
    "from src.Evaluation.Evaluator import EvaluatorHoldout\n",
    "\n",
    "evaluator_val = EvaluatorHoldout(URM_val, cutoff_list=[10])\n",
    "evaluator_test = EvaluatorHoldout(URM_test, cutoff_list=[10])"
   ]
  },
  {
   "cell_type": "code",
   "execution_count": 6,
   "metadata": {},
   "outputs": [],
   "source": [
    "from skopt.space import Real, Integer, Categorical\n",
    "\n",
    "hyperparameters_range_dictionary = {\n",
    "    \"topK\": Integer(5, 1000),\n",
    "    \"alpha\": Real(0, 1),\n",
    "}"
   ]
  },
  {
   "cell_type": "code",
   "execution_count": 7,
   "metadata": {},
   "outputs": [],
   "source": [
    "from src.Recommenders.GraphBased.P3alphaRecommender import P3alphaRecommender\n",
    "from src.HyperparameterTuning.SearchBayesianSkopt import SearchBayesianSkopt\n",
    "\n",
    "recommender_class = P3alphaRecommender\n",
    "\n",
    "hyperparameterSearch = SearchBayesianSkopt(\n",
    "    recommender_class,\n",
    "    evaluator_validation=evaluator_val,\n",
    "    evaluator_test=evaluator_test)"
   ]
  },
  {
   "cell_type": "code",
   "execution_count": 19,
   "metadata": {},
   "outputs": [],
   "source": [
    "from src.HyperparameterTuning.SearchAbstractClass import SearchInputRecommenderArgs\n",
    "  \n",
    "recommender_input_args = SearchInputRecommenderArgs(\n",
    "    CONSTRUCTOR_POSITIONAL_ARGS = [URM_train],     # For a CBF model simply put [URM_train, ICM_train]\n",
    "    CONSTRUCTOR_KEYWORD_ARGS = {},\n",
    "    FIT_POSITIONAL_ARGS = [],\n",
    "    FIT_KEYWORD_ARGS = {},\n",
    "    EARLYSTOPPING_KEYWORD_ARGS = {},\n",
    ")\n",
    "\n",
    "recommender_input_args_last_test = SearchInputRecommenderArgs(\n",
    "    CONSTRUCTOR_POSITIONAL_ARGS = [URM_train_val],     # For a CBF model simply put [URM_train_validation, ICM_train]\n",
    "    CONSTRUCTOR_KEYWORD_ARGS = {},\n",
    "    FIT_POSITIONAL_ARGS = [],\n",
    "    FIT_KEYWORD_ARGS = {},\n",
    "    EARLYSTOPPING_KEYWORD_ARGS = {},\n",
    ")"
   ]
  },
  {
   "cell_type": "code",
   "execution_count": 9,
   "metadata": {},
   "outputs": [],
   "source": [
    "import os\n",
    "\n",
    "output_folder_path = \"tuner/\"\n",
    "\n",
    "# If directory does not exist, create\n",
    "if not os.path.exists(output_folder_path):\n",
    "    os.makedirs(output_folder_path)\n",
    "    \n",
    "n_cases = 100\n",
    "n_random_starts = int(n_cases*0.3)\n",
    "metric_to_optimize = \"MAP\"   \n",
    "cutoff_to_optimize = 10"
   ]
  },
  {
   "cell_type": "code",
   "execution_count": 21,
   "metadata": {},
   "outputs": [
    {
     "name": "stdout",
     "output_type": "stream",
     "text": [
      "Iteration No: 1 started. Evaluating function at random point.\n",
      "SearchBayesianSkopt: Testing config: {'topK': 902, 'alpha': 0.6800026623604563}\n",
      "P3alphaRecommender: URM Detected 3461 (12.4%) items with no interactions.\n"
     ]
    },
    {
     "ename": "KeyboardInterrupt",
     "evalue": "",
     "output_type": "error",
     "traceback": [
      "\u001b[0;31m---------------------------------------------------------------------------\u001b[0m",
      "\u001b[0;31mKeyboardInterrupt\u001b[0m                         Traceback (most recent call last)",
      "\u001b[0;32m/tmp/ipykernel_5108/1283528404.py\u001b[0m in \u001b[0;36m<module>\u001b[0;34m\u001b[0m\n\u001b[0;32m----> 1\u001b[0;31m hyperparameterSearch.search(\n\u001b[0m\u001b[1;32m      2\u001b[0m     \u001b[0mrecommender_input_args\u001b[0m\u001b[0;34m,\u001b[0m\u001b[0;34m\u001b[0m\u001b[0;34m\u001b[0m\u001b[0m\n\u001b[1;32m      3\u001b[0m     \u001b[0mrecommender_input_args_last_test\u001b[0m \u001b[0;34m=\u001b[0m \u001b[0mrecommender_input_args_last_test\u001b[0m\u001b[0;34m,\u001b[0m\u001b[0;34m\u001b[0m\u001b[0;34m\u001b[0m\u001b[0m\n\u001b[1;32m      4\u001b[0m     \u001b[0mhyperparameter_search_space\u001b[0m \u001b[0;34m=\u001b[0m \u001b[0mhyperparameters_range_dictionary\u001b[0m\u001b[0;34m,\u001b[0m\u001b[0;34m\u001b[0m\u001b[0;34m\u001b[0m\u001b[0m\n\u001b[1;32m      5\u001b[0m     \u001b[0mn_cases\u001b[0m \u001b[0;34m=\u001b[0m \u001b[0mn_cases\u001b[0m\u001b[0;34m,\u001b[0m\u001b[0;34m\u001b[0m\u001b[0;34m\u001b[0m\u001b[0m\n",
      "\u001b[0;32m~/Documents/university/recsys-challenge-2022/src/HyperparameterTuning/SearchBayesianSkopt.py\u001b[0m in \u001b[0;36msearch\u001b[0;34m(self, recommender_input_args, hyperparameter_search_space, metric_to_optimize, cutoff_to_optimize, n_cases, n_random_starts, output_folder_path, output_file_name_root, save_model, save_metadata, resume_from_saved, recommender_input_args_last_test, evaluate_on_test, max_total_time, terminate_on_memory_error)\u001b[0m\n\u001b[1;32m    350\u001b[0m                 \u001b[0;31m# of \"Searching for the next optimal point\". This may be due to a bug in the print rather than the underlying process\u001b[0m\u001b[0;34m\u001b[0m\u001b[0;34m\u001b[0m\u001b[0m\n\u001b[1;32m    351\u001b[0m                 \u001b[0;31m# https://github.com/scikit-optimize/scikit-optimize/issues/949\u001b[0m\u001b[0;34m\u001b[0m\u001b[0;34m\u001b[0m\u001b[0m\n\u001b[0;32m--> 352\u001b[0;31m                 self.result = gp_minimize(self._objective_function_list_input,\n\u001b[0m\u001b[1;32m    353\u001b[0m                                           \u001b[0mself\u001b[0m\u001b[0;34m.\u001b[0m\u001b[0mhyperparams_values\u001b[0m\u001b[0;34m,\u001b[0m\u001b[0;34m\u001b[0m\u001b[0;34m\u001b[0m\u001b[0m\n\u001b[1;32m    354\u001b[0m                                           \u001b[0mbase_estimator\u001b[0m\u001b[0;34m=\u001b[0m\u001b[0;32mNone\u001b[0m\u001b[0;34m,\u001b[0m\u001b[0;34m\u001b[0m\u001b[0;34m\u001b[0m\u001b[0m\n",
      "\u001b[0;32m~/.local/lib/python3.10/site-packages/skopt/optimizer/gp.py\u001b[0m in \u001b[0;36mgp_minimize\u001b[0;34m(func, dimensions, base_estimator, n_calls, n_random_starts, n_initial_points, initial_point_generator, acq_func, acq_optimizer, x0, y0, random_state, verbose, callback, n_points, n_restarts_optimizer, xi, kappa, noise, n_jobs, model_queue_size)\u001b[0m\n\u001b[1;32m    257\u001b[0m             noise=noise)\n\u001b[1;32m    258\u001b[0m \u001b[0;34m\u001b[0m\u001b[0m\n\u001b[0;32m--> 259\u001b[0;31m     return base_minimize(\n\u001b[0m\u001b[1;32m    260\u001b[0m         \u001b[0mfunc\u001b[0m\u001b[0;34m,\u001b[0m \u001b[0mspace\u001b[0m\u001b[0;34m,\u001b[0m \u001b[0mbase_estimator\u001b[0m\u001b[0;34m=\u001b[0m\u001b[0mbase_estimator\u001b[0m\u001b[0;34m,\u001b[0m\u001b[0;34m\u001b[0m\u001b[0;34m\u001b[0m\u001b[0m\n\u001b[1;32m    261\u001b[0m         \u001b[0macq_func\u001b[0m\u001b[0;34m=\u001b[0m\u001b[0macq_func\u001b[0m\u001b[0;34m,\u001b[0m\u001b[0;34m\u001b[0m\u001b[0;34m\u001b[0m\u001b[0m\n",
      "\u001b[0;32m~/.local/lib/python3.10/site-packages/skopt/optimizer/base.py\u001b[0m in \u001b[0;36mbase_minimize\u001b[0;34m(func, dimensions, base_estimator, n_calls, n_random_starts, n_initial_points, initial_point_generator, acq_func, acq_optimizer, x0, y0, random_state, verbose, callback, n_points, n_restarts_optimizer, xi, kappa, n_jobs, model_queue_size)\u001b[0m\n\u001b[1;32m    297\u001b[0m     \u001b[0;32mfor\u001b[0m \u001b[0mn\u001b[0m \u001b[0;32min\u001b[0m \u001b[0mrange\u001b[0m\u001b[0;34m(\u001b[0m\u001b[0mn_calls\u001b[0m\u001b[0;34m)\u001b[0m\u001b[0;34m:\u001b[0m\u001b[0;34m\u001b[0m\u001b[0;34m\u001b[0m\u001b[0m\n\u001b[1;32m    298\u001b[0m         \u001b[0mnext_x\u001b[0m \u001b[0;34m=\u001b[0m \u001b[0moptimizer\u001b[0m\u001b[0;34m.\u001b[0m\u001b[0mask\u001b[0m\u001b[0;34m(\u001b[0m\u001b[0;34m)\u001b[0m\u001b[0;34m\u001b[0m\u001b[0;34m\u001b[0m\u001b[0m\n\u001b[0;32m--> 299\u001b[0;31m         \u001b[0mnext_y\u001b[0m \u001b[0;34m=\u001b[0m \u001b[0mfunc\u001b[0m\u001b[0;34m(\u001b[0m\u001b[0mnext_x\u001b[0m\u001b[0;34m)\u001b[0m\u001b[0;34m\u001b[0m\u001b[0;34m\u001b[0m\u001b[0m\n\u001b[0m\u001b[1;32m    300\u001b[0m         \u001b[0mresult\u001b[0m \u001b[0;34m=\u001b[0m \u001b[0moptimizer\u001b[0m\u001b[0;34m.\u001b[0m\u001b[0mtell\u001b[0m\u001b[0;34m(\u001b[0m\u001b[0mnext_x\u001b[0m\u001b[0;34m,\u001b[0m \u001b[0mnext_y\u001b[0m\u001b[0;34m)\u001b[0m\u001b[0;34m\u001b[0m\u001b[0;34m\u001b[0m\u001b[0m\n\u001b[1;32m    301\u001b[0m         \u001b[0mresult\u001b[0m\u001b[0;34m.\u001b[0m\u001b[0mspecs\u001b[0m \u001b[0;34m=\u001b[0m \u001b[0mspecs\u001b[0m\u001b[0;34m\u001b[0m\u001b[0;34m\u001b[0m\u001b[0m\n",
      "\u001b[0;32m~/Documents/university/recsys-challenge-2022/src/HyperparameterTuning/SearchBayesianSkopt.py\u001b[0m in \u001b[0;36m_objective_function_list_input\u001b[0;34m(self, current_fit_hyperparameters_list_of_values)\u001b[0m\n\u001b[1;32m    424\u001b[0m         current_fit_hyperparameters_dict = dict(\n\u001b[1;32m    425\u001b[0m             zip(self.hyperparams_names, current_fit_hyperparameters_list_of_values))\n\u001b[0;32m--> 426\u001b[0;31m         \u001b[0mresult\u001b[0m \u001b[0;34m=\u001b[0m \u001b[0mself\u001b[0m\u001b[0;34m.\u001b[0m\u001b[0m_objective_function\u001b[0m\u001b[0;34m(\u001b[0m\u001b[0mcurrent_fit_hyperparameters_dict\u001b[0m\u001b[0;34m)\u001b[0m\u001b[0;34m\u001b[0m\u001b[0;34m\u001b[0m\u001b[0m\n\u001b[0m\u001b[1;32m    427\u001b[0m \u001b[0;34m\u001b[0m\u001b[0m\n\u001b[1;32m    428\u001b[0m         \u001b[0;31m# The search can only progress if there is at least a valid config in the initial random start\u001b[0m\u001b[0;34m\u001b[0m\u001b[0;34m\u001b[0m\u001b[0m\n",
      "\u001b[0;32m~/Documents/university/recsys-challenge-2022/src/HyperparameterTuning/SearchAbstractClass.py\u001b[0m in \u001b[0;36m_objective_function\u001b[0;34m(self, current_fit_hyperparameters_dict)\u001b[0m\n\u001b[1;32m    559\u001b[0m         \u001b[0;32mexcept\u001b[0m \u001b[0;34m(\u001b[0m\u001b[0mKeyboardInterrupt\u001b[0m\u001b[0;34m,\u001b[0m \u001b[0mSystemExit\u001b[0m\u001b[0;34m)\u001b[0m \u001b[0;32mas\u001b[0m \u001b[0me\u001b[0m\u001b[0;34m:\u001b[0m\u001b[0;34m\u001b[0m\u001b[0;34m\u001b[0m\u001b[0m\n\u001b[1;32m    560\u001b[0m             \u001b[0;31m# If getting a interrupt, terminate without saving the exception\u001b[0m\u001b[0;34m\u001b[0m\u001b[0;34m\u001b[0m\u001b[0m\n\u001b[0;32m--> 561\u001b[0;31m             \u001b[0;32mraise\u001b[0m \u001b[0me\u001b[0m\u001b[0;34m\u001b[0m\u001b[0;34m\u001b[0m\u001b[0m\n\u001b[0m\u001b[1;32m    562\u001b[0m \u001b[0;34m\u001b[0m\u001b[0m\n\u001b[1;32m    563\u001b[0m         \u001b[0;31m# Catch exception only if terminate_on_memory_error is True\u001b[0m\u001b[0;34m\u001b[0m\u001b[0;34m\u001b[0m\u001b[0m\n",
      "\u001b[0;32m~/Documents/university/recsys-challenge-2022/src/HyperparameterTuning/SearchAbstractClass.py\u001b[0m in \u001b[0;36m_objective_function\u001b[0;34m(self, current_fit_hyperparameters_dict)\u001b[0m\n\u001b[1;32m    482\u001b[0m             was_already_evaluated_flag, was_already_evaluated_index = self._was_already_evaluated_check(\n\u001b[1;32m    483\u001b[0m                 current_fit_hyperparameters_dict)\n\u001b[0;32m--> 484\u001b[0;31m             result_df, recommender_instance = self._evaluate_on_validation(\n\u001b[0m\u001b[1;32m    485\u001b[0m                 current_fit_hyperparameters_dict, was_already_evaluated_flag, was_already_evaluated_index)\n\u001b[1;32m    486\u001b[0m \u001b[0;34m\u001b[0m\u001b[0m\n",
      "\u001b[0;32m~/Documents/university/recsys-challenge-2022/src/HyperparameterTuning/SearchAbstractClass.py\u001b[0m in \u001b[0;36m_evaluate_on_validation\u001b[0;34m(self, current_fit_hyperparameters, was_already_evaluated_flag, was_already_evaluated_index)\u001b[0m\n\u001b[1;32m    319\u001b[0m                                                              key] = current_fit_hyperparameters[key]\n\u001b[1;32m    320\u001b[0m \u001b[0;34m\u001b[0m\u001b[0m\n\u001b[0;32m--> 321\u001b[0;31m             recommender_instance, train_time = self._fit_model(\n\u001b[0m\u001b[1;32m    322\u001b[0m                 current_fit_hyperparameters)\n\u001b[1;32m    323\u001b[0m             \u001b[0mstart_time\u001b[0m \u001b[0;34m=\u001b[0m \u001b[0mtime\u001b[0m\u001b[0;34m.\u001b[0m\u001b[0mtime\u001b[0m\u001b[0;34m(\u001b[0m\u001b[0;34m)\u001b[0m\u001b[0;34m\u001b[0m\u001b[0;34m\u001b[0m\u001b[0m\n",
      "\u001b[0;32m~/Documents/university/recsys-challenge-2022/src/HyperparameterTuning/SearchAbstractClass.py\u001b[0m in \u001b[0;36m_fit_model\u001b[0;34m(self, current_fit_hyperparameters)\u001b[0m\n\u001b[1;32m    291\u001b[0m                                                       **self.recommender_input_args.CONSTRUCTOR_KEYWORD_ARGS)\n\u001b[1;32m    292\u001b[0m \u001b[0;34m\u001b[0m\u001b[0m\n\u001b[0;32m--> 293\u001b[0;31m         recommender_instance.fit(*self.recommender_input_args.FIT_POSITIONAL_ARGS,\n\u001b[0m\u001b[1;32m    294\u001b[0m                                  \u001b[0;34m**\u001b[0m\u001b[0mself\u001b[0m\u001b[0;34m.\u001b[0m\u001b[0mrecommender_input_args\u001b[0m\u001b[0;34m.\u001b[0m\u001b[0mFIT_KEYWORD_ARGS\u001b[0m\u001b[0;34m,\u001b[0m\u001b[0;34m\u001b[0m\u001b[0;34m\u001b[0m\u001b[0m\n\u001b[1;32m    295\u001b[0m                                  \u001b[0;34m**\u001b[0m\u001b[0mself\u001b[0m\u001b[0;34m.\u001b[0m\u001b[0mrecommender_input_args\u001b[0m\u001b[0;34m.\u001b[0m\u001b[0mEARLYSTOPPING_KEYWORD_ARGS\u001b[0m\u001b[0;34m,\u001b[0m\u001b[0;34m\u001b[0m\u001b[0;34m\u001b[0m\u001b[0m\n",
      "\u001b[0;32m~/Documents/university/recsys-challenge-2022/src/Recommenders/GraphBased/P3alphaRecommender.py\u001b[0m in \u001b[0;36mfit\u001b[0;34m(self, topK, alpha, min_rating, implicit, normalize_similarity)\u001b[0m\n\u001b[1;32m     99\u001b[0m                     \u001b[0mrow_data\u001b[0m \u001b[0;34m=\u001b[0m \u001b[0mrow_data\u001b[0m\u001b[0;34m[\u001b[0m\u001b[0mnon_zero_mask\u001b[0m\u001b[0;34m]\u001b[0m\u001b[0;34m\u001b[0m\u001b[0;34m\u001b[0m\u001b[0m\n\u001b[1;32m    100\u001b[0m \u001b[0;34m\u001b[0m\u001b[0m\n\u001b[0;32m--> 101\u001b[0;31m                 similarity_builder.add_data_lists(row_list_to_add=np.ones(len(row_data), dtype=np.int) * (current_block_start_row + row_in_block),\n\u001b[0m\u001b[1;32m    102\u001b[0m                                                   \u001b[0mcol_list_to_add\u001b[0m\u001b[0;34m=\u001b[0m\u001b[0mrelevant_items_partition\u001b[0m\u001b[0;34m,\u001b[0m\u001b[0;34m\u001b[0m\u001b[0;34m\u001b[0m\u001b[0m\n\u001b[1;32m    103\u001b[0m                                                   data_list_to_add=row_data)\n",
      "\u001b[0;32m~/Documents/university/recsys-challenge-2022/src/Recommenders/Similarity/Compute_Similarity_Python.py\u001b[0m in \u001b[0;36madd_data_lists\u001b[0;34m(self, row_list_to_add, col_list_to_add, data_list_to_add)\u001b[0m\n\u001b[1;32m     60\u001b[0m             \u001b[0mself\u001b[0m\u001b[0;34m.\u001b[0m\u001b[0m_data_array\u001b[0m\u001b[0;34m[\u001b[0m\u001b[0mself\u001b[0m\u001b[0;34m.\u001b[0m\u001b[0m_next_cell_pointer\u001b[0m\u001b[0;34m]\u001b[0m \u001b[0;34m=\u001b[0m \u001b[0mdata_list_to_add\u001b[0m\u001b[0;34m[\u001b[0m\u001b[0mdata_point_index\u001b[0m\u001b[0;34m]\u001b[0m\u001b[0;34m\u001b[0m\u001b[0;34m\u001b[0m\u001b[0m\n\u001b[1;32m     61\u001b[0m \u001b[0;34m\u001b[0m\u001b[0m\n\u001b[0;32m---> 62\u001b[0;31m             \u001b[0mself\u001b[0m\u001b[0;34m.\u001b[0m\u001b[0m_next_cell_pointer\u001b[0m \u001b[0;34m+=\u001b[0m \u001b[0;36m1\u001b[0m\u001b[0;34m\u001b[0m\u001b[0;34m\u001b[0m\u001b[0m\n\u001b[0m\u001b[1;32m     63\u001b[0m \u001b[0;34m\u001b[0m\u001b[0m\n\u001b[1;32m     64\u001b[0m     \u001b[0;32mdef\u001b[0m \u001b[0mget_SparseMatrix\u001b[0m\u001b[0;34m(\u001b[0m\u001b[0mself\u001b[0m\u001b[0;34m)\u001b[0m\u001b[0;34m:\u001b[0m\u001b[0;34m\u001b[0m\u001b[0;34m\u001b[0m\u001b[0m\n",
      "\u001b[0;31mKeyboardInterrupt\u001b[0m: "
     ]
    }
   ],
   "source": [
    "hyperparameterSearch.search(\n",
    "    recommender_input_args,\n",
    "    recommender_input_args_last_test = recommender_input_args_last_test,\n",
    "    hyperparameter_search_space = hyperparameters_range_dictionary,\n",
    "    n_cases = n_cases,\n",
    "    n_random_starts = n_random_starts,\n",
    "    save_model = \"last\",\n",
    "    output_folder_path = output_folder_path, # Where to save the results\n",
    "    output_file_name_root = recommender_class.RECOMMENDER_NAME, # How to call the files\n",
    "    metric_to_optimize = metric_to_optimize,\n",
    "    cutoff_to_optimize = cutoff_to_optimize,\n",
    ")"
   ]
  },
  {
   "attachments": {},
   "cell_type": "markdown",
   "metadata": {},
   "source": [
    "### Save recommendations"
   ]
  },
  {
   "cell_type": "code",
   "execution_count": 10,
   "metadata": {},
   "outputs": [
    {
     "name": "stdout",
     "output_type": "stream",
     "text": [
      "P3alphaRecommender: URM Detected 3461 (12.4%) items with no interactions.\n",
      "P3alphaRecommender: Loading model from file 'result_experiments/P3alphaRecommender_best_model_last.zip'\n",
      "P3alphaRecommender: Loading complete\n",
      "Saving recommendations finished!                                                                    \n",
      "Saving recommendations    41600 of    41116\r"
     ]
    }
   ],
   "source": [
    "from utilities import save_recommendations\n",
    "\n",
    "rec = P3alphaRecommender(URM)\n",
    "rec.load_model(\n",
    "    output_folder_path, \n",
    "    file_name=rec.RECOMMENDER_NAME + \"_best_model_last.zip\"\n",
    ")\n",
    "save_recommendations(rec)"
   ]
  }
 ],
 "metadata": {
  "kernelspec": {
   "display_name": "Python 3",
   "language": "python",
   "name": "python3"
  },
  "language_info": {
   "codemirror_mode": {
    "name": "ipython",
    "version": 3
   },
   "file_extension": ".py",
   "mimetype": "text/x-python",
   "name": "python",
   "nbconvert_exporter": "python",
   "pygments_lexer": "ipython3",
   "version": "3.10.7 (main, Nov 24 2022, 19:45:47) [GCC 12.2.0]"
  },
  "orig_nbformat": 4,
  "vscode": {
   "interpreter": {
    "hash": "e7370f93d1d0cde622a1f8e1c04877d8463912d04d973331ad4851f04de6915a"
   }
  }
 },
 "nbformat": 4,
 "nbformat_minor": 2
}
