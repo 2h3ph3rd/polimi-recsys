{
 "cells": [
  {
   "cell_type": "markdown",
   "metadata": {},
   "source": [
    "# Top popular recommender\n",
    "\n",
    "Most popular items are recommended to each user."
   ]
  },
  {
   "cell_type": "code",
   "execution_count": 1,
   "metadata": {},
   "outputs": [],
   "source": [
    "# set to false to use fake data for testing\n",
    "TEST = False"
   ]
  },
  {
   "cell_type": "markdown",
   "metadata": {},
   "source": [
    "### Import libraries"
   ]
  },
  {
   "cell_type": "code",
   "execution_count": 2,
   "metadata": {},
   "outputs": [],
   "source": [
    "import pandas as pd\n",
    "import numpy as np"
   ]
  },
  {
   "cell_type": "markdown",
   "metadata": {},
   "source": [
    "### Utilities"
   ]
  },
  {
   "cell_type": "code",
   "execution_count": 3,
   "metadata": {},
   "outputs": [],
   "source": [
    "def pretty_print_progress(current, total, prepend):\n",
    "    if current == total:\n",
    "        print(\" \" * 100, end=\"\\r\")\n",
    "        print(prepend, \"finished!\")\n",
    "    elif current % 100 == 0:\n",
    "        print(\"%s %8s of %8s\" % (prepend, current, total), end=\"\\r\")"
   ]
  },
  {
   "cell_type": "markdown",
   "metadata": {},
   "source": [
    "### Read data"
   ]
  },
  {
   "cell_type": "code",
   "execution_count": 5,
   "metadata": {},
   "outputs": [],
   "source": [
    "# base path for csv files\n",
    "base_path = \"data\"\n",
    "interactions_df_path = base_path + \"/interactions_and_impressions.csv\"\n",
    "items_length_df_path = base_path + \"/data_ICM_length.csv\"\n",
    "items_type_df_path = base_path + \"/data_ICM_type.csv\"\n",
    "users_df_path = base_path + \"/data_target_users_test.csv\""
   ]
  },
  {
   "cell_type": "code",
   "execution_count": 6,
   "metadata": {},
   "outputs": [],
   "source": [
    "dtype = {0: int, 1: int, 2: str, 3: int}\n",
    "interactions_df = pd.read_csv(\n",
    "    filepath_or_buffer=interactions_df_path,\n",
    "    dtype=dtype,\n",
    "    keep_default_na=False  # avoid NaN\n",
    ")\n",
    "dtype = {0: int, 1: int, 2: int}\n",
    "items_length_df = pd.read_csv(filepath_or_buffer=items_length_df_path, dtype=dtype)\n",
    "items_types_df = pd.read_csv(filepath_or_buffer=items_type_df_path, dtype=dtype)\n",
    "users_df = pd.read_csv(filepath_or_buffer=users_df_path)\n"
   ]
  },
  {
   "cell_type": "markdown",
   "metadata": {},
   "source": [
    "### Top Popular v1\n",
    "\n",
    "Accuracy: 0.00154"
   ]
  },
  {
   "cell_type": "code",
   "execution_count": null,
   "metadata": {},
   "outputs": [],
   "source": [
    "class TopPopRec(object):\n",
    "\n",
    "    def fit(self, interactions_df):\n",
    "        # avoid error messages\n",
    "        watched_items_df = interactions_df.copy()\n",
    "        \n",
    "        # selecting watched items\n",
    "        watched_items_df = watched_items_df[interactions_df['data'] == 0]\n",
    "        \n",
    "        # calculate how many times each item has been watched\n",
    "        watched_items_df['count'] = watched_items_df.groupby(['item_id'])['item_id'].transform('count')\n",
    "        \n",
    "        # merge rows with same ItemID to obtain a list of items and watched times\n",
    "        watched_items_df = watched_items_df.groupby(['item_id']).agg({'item_id':'first', 'count':'first'})\n",
    "        \n",
    "        # order items by the most watched\n",
    "        watched_items_df = watched_items_df.sort_values(by='count', ascending=False)\n",
    "        \n",
    "        self.watched_items_df = watched_items_df\n",
    "\n",
    "    def recommend(self, at=10):\n",
    "        return [self.watched_items_df[0:at]]"
   ]
  },
  {
   "cell_type": "code",
   "execution_count": null,
   "metadata": {},
   "outputs": [],
   "source": [
    "rec = TopPopRec()\n",
    "rec.fit(interactions_df)"
   ]
  },
  {
   "cell_type": "code",
   "execution_count": null,
   "metadata": {},
   "outputs": [],
   "source": [
    "out_df = pd.DataFrame(columns=[\"user_id\", \"item_list\"])\n",
    "num_users = users_df['user_id'].shape[0]\n",
    "count = 0\n",
    "\n",
    "print(num_users, end=\" - \")\n",
    "\n",
    "for user_id in users_df['user_id']:\n",
    "    \n",
    "    items_list = rec.recommend(at=10)\n",
    "    items_list = map(str, items_list)\n",
    "    items_list = \" \".join(items_list)\n",
    "    row = pd.DataFrame([[user_id, items_list]], columns=['user_id' , 'item_list'])\n",
    "    out_df = pd.concat([out_df, row])\n",
    "    \n",
    "    count += 1\n",
    "    if count % 1000 == 0:\n",
    "        print(count/num_users, end=\" - \")"
   ]
  },
  {
   "cell_type": "markdown",
   "metadata": {},
   "source": [
    "### Top Popular v2\n",
    "\n",
    "- Avoid already watched items\n",
    "\n",
    "\n",
    "Accuracy: "
   ]
  },
  {
   "cell_type": "code",
   "execution_count": null,
   "metadata": {},
   "outputs": [],
   "source": [
    "class TopPopRecV2(object):\n",
    "\n",
    "    def fit(self, interactions_df):\n",
    "        # avoid error messages\n",
    "        watched_items_df = interactions_df.copy()\n",
    "\n",
    "        # selecting watched items\n",
    "        watched_items_df = watched_items_df[watched_items_df['data'] == 0]\n",
    "\n",
    "        # calculate how many times each item has been watched\n",
    "        watched_items_df['count'] = watched_items_df.groupby(\n",
    "            ['item_id'])['item_id'].transform('count')\n",
    "\n",
    "        # merge rows with same ItemID to obtain a list of items and watched times\n",
    "        popular_items_df = watched_items_df.groupby(\n",
    "            ['item_id']).agg({'item_id': 'first', 'count': 'first'})\n",
    "\n",
    "        # order items by the most watched\n",
    "        popular_items_df = popular_items_df.sort_values(\n",
    "            by='count', ascending=False)\n",
    "\n",
    "        self.watched_items_df = watched_items_df\n",
    "        self.popular_items_df = popular_items_df\n",
    "\n",
    "    def recommend(self, user_id, at=10):\n",
    "        res = []\n",
    "        count = 0\n",
    "        \n",
    "        df = self.watched_items_df\n",
    "        user_watched_df = df[df['user_id'] == user_id]\n",
    "        \n",
    "        n_items = self.popular_items_df.shape[0]\n",
    "        \n",
    "        # find first ten items not seen by the user\n",
    "        while len(res) < at and count < n_items:\n",
    "            item_id = self.popular_items_df['item_id'].iloc[count + 1]\n",
    "\n",
    "            # watched items by the user\n",
    "            df = user_watched_df\n",
    "            watched_df = df[df['item_id'] == item_id]\n",
    "            \n",
    "            # check if not watched\n",
    "            if watched_df.shape[0] == 0:\n",
    "                res.append(item_id)\n",
    "\n",
    "            count += 1\n",
    "        \n",
    "        count = 0\n",
    "        # add items already seen to complete the list\n",
    "        while len(res) < at:\n",
    "            item_id = self.popular_items_df['item_id'].iloc[count + 1]\n",
    "            \n",
    "            if item_id not in res:\n",
    "                res.append(item_id)\n",
    "\n",
    "        return res"
   ]
  },
  {
   "cell_type": "code",
   "execution_count": null,
   "metadata": {},
   "outputs": [],
   "source": [
    "rec = TopPopRecV2()\n",
    "rec.fit(interactions_df)"
   ]
  },
  {
   "cell_type": "code",
   "execution_count": null,
   "metadata": {},
   "outputs": [],
   "source": [
    "out_df = pd.DataFrame(columns=[\"user_id\", \"item_list\"])\n",
    "num_users = users_df['user_id'].shape[0]\n",
    "count = 0\n",
    "\n",
    "print(\"[\", end=\"\")\n",
    "\n",
    "for user_id in users_df['user_id']:\n",
    "    \n",
    "    items_list = rec.recommend(user_id, at=10)\n",
    "    items_list = map(str, items_list)\n",
    "    items_list = \" \".join(items_list)\n",
    "    row = pd.DataFrame([[user_id, items_list]], columns=['user_id' , 'item_list'])\n",
    "    out_df = pd.concat([out_df, row])\n",
    "    \n",
    "    count += 1\n",
    "    if count % 1000  == 0:\n",
    "        print(\".\", end=\"\")\n",
    "        \n",
    "print(\"] Done!\")"
   ]
  },
  {
   "cell_type": "markdown",
   "metadata": {},
   "source": [
    "### Top Popular v3\n",
    "\n",
    "Like V2 but with custom weights\n",
    "\n",
    "Accuracy: 0.01179\n",
    "\n",
    "Bad weights, the model is not efficient."
   ]
  },
  {
   "cell_type": "code",
   "execution_count": 7,
   "metadata": {},
   "outputs": [],
   "source": [
    "class TopPopRecV3(object):\n",
    "\n",
    "    def fit(self):\n",
    "        \n",
    "        # switch watch with one and interacted with zero\n",
    "        df = interactions_df.copy()\n",
    "        num_interactions = df.shape[0]\n",
    "        for index in df.index:\n",
    "            pretty_print_progress(index + 1, num_interactions, \"fixing interactions:\")\n",
    "            \n",
    "            data = df.loc[index, 'data']\n",
    "            \n",
    "            if data == 0:\n",
    "                df.loc[index, 'data'] = 1\n",
    "            else:\n",
    "                df.loc[index, 'data'] = 0\n",
    "                \n",
    "        # group items by user_id and item_id\n",
    "        # and count number of interactions\n",
    "        agg_interactions_df = df.groupby(['user_id', 'item_id'], as_index=False).sum(True)\n",
    "        \n",
    "        # custom weights\n",
    "        # i     tv_series       film        not known\n",
    "        # 1       < 0.4           0             0 \n",
    "        # 2       < 0.6           1            > 0\n",
    "        # 3       > 0.6          > 1            -\n",
    "        num_interactions = agg_interactions_df.shape[0]\n",
    "        for index in agg_interactions_df.index:\n",
    "            pretty_print_progress(index + 1, num_interactions, \"calculating weights:\")\n",
    "            \n",
    "            df = agg_interactions_df\n",
    "            item_id = df.loc[index,'item_id']\n",
    "            data = df.loc[index,'data']\n",
    "            \n",
    "            df = items_length_df.copy()\n",
    "            length = df[df['item_id'] == item_id]['data']\n",
    "            \n",
    "            if length.shape[0] == 0: \n",
    "                continue\n",
    "                \n",
    "            length = length.iloc[0]\n",
    "            \n",
    "            # tv series has more than one element\n",
    "            df = agg_interactions_df\n",
    "            if length > 1:            \n",
    "                if data < length * 0.2:\n",
    "                    df.loc[index,'data'] = 0.2\n",
    "                elif data < length * 0.7:\n",
    "                    df.loc[index,'data'] = 0.5\n",
    "                else:\n",
    "                    df.loc[index,'data'] = 1\n",
    "            # films has only one element\n",
    "            elif length == 1:\n",
    "                if data == 0:\n",
    "                    df.loc[index,'data'] = 0.2\n",
    "                elif data == 1:\n",
    "                    df.loc[index,'data'] = 0.5\n",
    "                else:\n",
    "                    df.loc[index,'data'] = 1\n",
    "            # it is not known if this item is a film or a tv series\n",
    "            else:\n",
    "                if data == 0:\n",
    "                    df.loc[index,'data'] = 0.5\n",
    "                else:\n",
    "                    df.loc[index,'data'] = 1\n",
    "                            \n",
    "        df = agg_interactions_df\n",
    "\n",
    "        # merge rows with same ItemID to obtain a list of items and watched times\n",
    "        df = df.groupby(\n",
    "            ['item_id']).agg({'item_id': 'first', 'data': 'sum'})\n",
    "\n",
    "        # order items based on total weights\n",
    "        df = df.sort_values(by='data', ascending=False)\n",
    "        \n",
    "        # saved watched_items by the user\n",
    "        df = interactions_df.copy()\n",
    "        watched_items_df = df[df['data'] == 0]\n",
    "        \n",
    "        self.watched_items_df = watched_items_df\n",
    "        self.popular_items_df = agg_interactions_df\n",
    "\n",
    "    def recommend(self, user_id, at=10):\n",
    "        res = []\n",
    "        count = 0\n",
    "        \n",
    "        df = self.watched_items_df\n",
    "        user_watched_df = df[df['user_id'] == user_id]\n",
    "        \n",
    "        n_items = self.popular_items_df.shape[0]\n",
    "        \n",
    "        # find first ten items not seen by the user\n",
    "        while len(res) < at and count < n_items:\n",
    "            item_id = self.popular_items_df['item_id'].iloc[count + 1]\n",
    "\n",
    "            # watched items by the user\n",
    "            df = user_watched_df\n",
    "            watched_df = df[df['item_id'] == item_id]\n",
    "            \n",
    "            # check if not watched\n",
    "            if watched_df.shape[0] == 0:\n",
    "                res.append(item_id)\n",
    "\n",
    "            count += 1\n",
    "        \n",
    "        count = 0\n",
    "        # add items already seen to complete the list if needed\n",
    "        while len(res) < at:\n",
    "            item_id = self.popular_items_df['item_id'].iloc[count + 1]\n",
    "            \n",
    "            if item_id not in res:\n",
    "                res.append(item_id)\n",
    "\n",
    "        return res"
   ]
  },
  {
   "cell_type": "code",
   "execution_count": 8,
   "metadata": {},
   "outputs": [
    {
     "name": "stdout",
     "output_type": "stream",
     "text": [
      "fixing interactions: finished!                                                                      \n",
      "calculating weights:  1076800 of  1554640\r"
     ]
    },
    {
     "ename": "KeyboardInterrupt",
     "evalue": "",
     "output_type": "error",
     "traceback": [
      "\u001b[0;31m---------------------------------------------------------------------------\u001b[0m",
      "\u001b[0;31mKeyboardInterrupt\u001b[0m                         Traceback (most recent call last)",
      "\u001b[0;32m/tmp/ipykernel_7915/792646579.py\u001b[0m in \u001b[0;36m<module>\u001b[0;34m\u001b[0m\n\u001b[1;32m      1\u001b[0m \u001b[0mrec\u001b[0m \u001b[0;34m=\u001b[0m \u001b[0mTopPopRecV3\u001b[0m\u001b[0;34m(\u001b[0m\u001b[0;34m)\u001b[0m\u001b[0;34m\u001b[0m\u001b[0;34m\u001b[0m\u001b[0m\n\u001b[0;32m----> 2\u001b[0;31m \u001b[0mrec\u001b[0m\u001b[0;34m.\u001b[0m\u001b[0mfit\u001b[0m\u001b[0;34m(\u001b[0m\u001b[0;34m)\u001b[0m\u001b[0;34m\u001b[0m\u001b[0;34m\u001b[0m\u001b[0m\n\u001b[0m",
      "\u001b[0;32m/tmp/ipykernel_7915/287470466.py\u001b[0m in \u001b[0;36mfit\u001b[0;34m(self)\u001b[0m\n\u001b[1;32m     34\u001b[0m \u001b[0;34m\u001b[0m\u001b[0m\n\u001b[1;32m     35\u001b[0m             \u001b[0mdf\u001b[0m \u001b[0;34m=\u001b[0m \u001b[0mitems_length_df\u001b[0m\u001b[0;34m.\u001b[0m\u001b[0mcopy\u001b[0m\u001b[0;34m(\u001b[0m\u001b[0;34m)\u001b[0m\u001b[0;34m\u001b[0m\u001b[0;34m\u001b[0m\u001b[0m\n\u001b[0;32m---> 36\u001b[0;31m             \u001b[0mlength\u001b[0m \u001b[0;34m=\u001b[0m \u001b[0mdf\u001b[0m\u001b[0;34m[\u001b[0m\u001b[0mdf\u001b[0m\u001b[0;34m[\u001b[0m\u001b[0;34m'item_id'\u001b[0m\u001b[0;34m]\u001b[0m \u001b[0;34m==\u001b[0m \u001b[0mitem_id\u001b[0m\u001b[0;34m]\u001b[0m\u001b[0;34m[\u001b[0m\u001b[0;34m'data'\u001b[0m\u001b[0;34m]\u001b[0m\u001b[0;34m\u001b[0m\u001b[0;34m\u001b[0m\u001b[0m\n\u001b[0m\u001b[1;32m     37\u001b[0m \u001b[0;34m\u001b[0m\u001b[0m\n\u001b[1;32m     38\u001b[0m             \u001b[0;32mif\u001b[0m \u001b[0mlength\u001b[0m\u001b[0;34m.\u001b[0m\u001b[0mshape\u001b[0m\u001b[0;34m[\u001b[0m\u001b[0;36m0\u001b[0m\u001b[0;34m]\u001b[0m \u001b[0;34m==\u001b[0m \u001b[0;36m0\u001b[0m\u001b[0;34m:\u001b[0m\u001b[0;34m\u001b[0m\u001b[0;34m\u001b[0m\u001b[0m\n",
      "\u001b[0;32m~/.local/lib/python3.10/site-packages/pandas/core/frame.py\u001b[0m in \u001b[0;36m__getitem__\u001b[0;34m(self, key)\u001b[0m\n\u001b[1;32m   3793\u001b[0m         \u001b[0;31m# Do we have a (boolean) 1d indexer?\u001b[0m\u001b[0;34m\u001b[0m\u001b[0;34m\u001b[0m\u001b[0m\n\u001b[1;32m   3794\u001b[0m         \u001b[0;32mif\u001b[0m \u001b[0mcom\u001b[0m\u001b[0;34m.\u001b[0m\u001b[0mis_bool_indexer\u001b[0m\u001b[0;34m(\u001b[0m\u001b[0mkey\u001b[0m\u001b[0;34m)\u001b[0m\u001b[0;34m:\u001b[0m\u001b[0;34m\u001b[0m\u001b[0;34m\u001b[0m\u001b[0m\n\u001b[0;32m-> 3795\u001b[0;31m             \u001b[0;32mreturn\u001b[0m \u001b[0mself\u001b[0m\u001b[0;34m.\u001b[0m\u001b[0m_getitem_bool_array\u001b[0m\u001b[0;34m(\u001b[0m\u001b[0mkey\u001b[0m\u001b[0;34m)\u001b[0m\u001b[0;34m\u001b[0m\u001b[0;34m\u001b[0m\u001b[0m\n\u001b[0m\u001b[1;32m   3796\u001b[0m \u001b[0;34m\u001b[0m\u001b[0m\n\u001b[1;32m   3797\u001b[0m         \u001b[0;31m# We are left with two options: a single key, and a collection of keys,\u001b[0m\u001b[0;34m\u001b[0m\u001b[0;34m\u001b[0m\u001b[0m\n",
      "\u001b[0;32m~/.local/lib/python3.10/site-packages/pandas/core/frame.py\u001b[0m in \u001b[0;36m_getitem_bool_array\u001b[0;34m(self, key)\u001b[0m\n\u001b[1;32m   3848\u001b[0m         \u001b[0mkey\u001b[0m \u001b[0;34m=\u001b[0m \u001b[0mcheck_bool_indexer\u001b[0m\u001b[0;34m(\u001b[0m\u001b[0mself\u001b[0m\u001b[0;34m.\u001b[0m\u001b[0mindex\u001b[0m\u001b[0;34m,\u001b[0m \u001b[0mkey\u001b[0m\u001b[0;34m)\u001b[0m\u001b[0;34m\u001b[0m\u001b[0;34m\u001b[0m\u001b[0m\n\u001b[1;32m   3849\u001b[0m         \u001b[0mindexer\u001b[0m \u001b[0;34m=\u001b[0m \u001b[0mkey\u001b[0m\u001b[0;34m.\u001b[0m\u001b[0mnonzero\u001b[0m\u001b[0;34m(\u001b[0m\u001b[0;34m)\u001b[0m\u001b[0;34m[\u001b[0m\u001b[0;36m0\u001b[0m\u001b[0;34m]\u001b[0m\u001b[0;34m\u001b[0m\u001b[0;34m\u001b[0m\u001b[0m\n\u001b[0;32m-> 3850\u001b[0;31m         \u001b[0;32mreturn\u001b[0m \u001b[0mself\u001b[0m\u001b[0;34m.\u001b[0m\u001b[0m_take_with_is_copy\u001b[0m\u001b[0;34m(\u001b[0m\u001b[0mindexer\u001b[0m\u001b[0;34m,\u001b[0m \u001b[0maxis\u001b[0m\u001b[0;34m=\u001b[0m\u001b[0;36m0\u001b[0m\u001b[0;34m)\u001b[0m\u001b[0;34m\u001b[0m\u001b[0;34m\u001b[0m\u001b[0m\n\u001b[0m\u001b[1;32m   3851\u001b[0m \u001b[0;34m\u001b[0m\u001b[0m\n\u001b[1;32m   3852\u001b[0m     \u001b[0;32mdef\u001b[0m \u001b[0m_getitem_multilevel\u001b[0m\u001b[0;34m(\u001b[0m\u001b[0mself\u001b[0m\u001b[0;34m,\u001b[0m \u001b[0mkey\u001b[0m\u001b[0;34m)\u001b[0m\u001b[0;34m:\u001b[0m\u001b[0;34m\u001b[0m\u001b[0;34m\u001b[0m\u001b[0m\n",
      "\u001b[0;32m~/.local/lib/python3.10/site-packages/pandas/core/generic.py\u001b[0m in \u001b[0;36m_take_with_is_copy\u001b[0;34m(self, indices, axis)\u001b[0m\n\u001b[1;32m   3900\u001b[0m         \u001b[0mSee\u001b[0m \u001b[0mthe\u001b[0m \u001b[0mdocstring\u001b[0m \u001b[0mof\u001b[0m\u001b[0;31m \u001b[0m\u001b[0;31m`\u001b[0m\u001b[0mtake\u001b[0m\u001b[0;31m`\u001b[0m \u001b[0;32mfor\u001b[0m \u001b[0mfull\u001b[0m \u001b[0mexplanation\u001b[0m \u001b[0mof\u001b[0m \u001b[0mthe\u001b[0m \u001b[0mparameters\u001b[0m\u001b[0;34m.\u001b[0m\u001b[0;34m\u001b[0m\u001b[0;34m\u001b[0m\u001b[0m\n\u001b[1;32m   3901\u001b[0m         \"\"\"\n\u001b[0;32m-> 3902\u001b[0;31m         \u001b[0mresult\u001b[0m \u001b[0;34m=\u001b[0m \u001b[0mself\u001b[0m\u001b[0;34m.\u001b[0m\u001b[0m_take\u001b[0m\u001b[0;34m(\u001b[0m\u001b[0mindices\u001b[0m\u001b[0;34m=\u001b[0m\u001b[0mindices\u001b[0m\u001b[0;34m,\u001b[0m \u001b[0maxis\u001b[0m\u001b[0;34m=\u001b[0m\u001b[0maxis\u001b[0m\u001b[0;34m)\u001b[0m\u001b[0;34m\u001b[0m\u001b[0;34m\u001b[0m\u001b[0m\n\u001b[0m\u001b[1;32m   3903\u001b[0m         \u001b[0;31m# Maybe set copy if we didn't actually change the index.\u001b[0m\u001b[0;34m\u001b[0m\u001b[0;34m\u001b[0m\u001b[0m\n\u001b[1;32m   3904\u001b[0m         \u001b[0;32mif\u001b[0m \u001b[0;32mnot\u001b[0m \u001b[0mresult\u001b[0m\u001b[0;34m.\u001b[0m\u001b[0m_get_axis\u001b[0m\u001b[0;34m(\u001b[0m\u001b[0maxis\u001b[0m\u001b[0;34m)\u001b[0m\u001b[0;34m.\u001b[0m\u001b[0mequals\u001b[0m\u001b[0;34m(\u001b[0m\u001b[0mself\u001b[0m\u001b[0;34m.\u001b[0m\u001b[0m_get_axis\u001b[0m\u001b[0;34m(\u001b[0m\u001b[0maxis\u001b[0m\u001b[0;34m)\u001b[0m\u001b[0;34m)\u001b[0m\u001b[0;34m:\u001b[0m\u001b[0;34m\u001b[0m\u001b[0;34m\u001b[0m\u001b[0m\n",
      "\u001b[0;32m~/.local/lib/python3.10/site-packages/pandas/core/generic.py\u001b[0m in \u001b[0;36m_take\u001b[0;34m(self, indices, axis, convert_indices)\u001b[0m\n\u001b[1;32m   3884\u001b[0m         \u001b[0mself\u001b[0m\u001b[0;34m.\u001b[0m\u001b[0m_consolidate_inplace\u001b[0m\u001b[0;34m(\u001b[0m\u001b[0;34m)\u001b[0m\u001b[0;34m\u001b[0m\u001b[0;34m\u001b[0m\u001b[0m\n\u001b[1;32m   3885\u001b[0m \u001b[0;34m\u001b[0m\u001b[0m\n\u001b[0;32m-> 3886\u001b[0;31m         new_data = self._mgr.take(\n\u001b[0m\u001b[1;32m   3887\u001b[0m             \u001b[0mindices\u001b[0m\u001b[0;34m,\u001b[0m\u001b[0;34m\u001b[0m\u001b[0;34m\u001b[0m\u001b[0m\n\u001b[1;32m   3888\u001b[0m             \u001b[0maxis\u001b[0m\u001b[0;34m=\u001b[0m\u001b[0mself\u001b[0m\u001b[0;34m.\u001b[0m\u001b[0m_get_block_manager_axis\u001b[0m\u001b[0;34m(\u001b[0m\u001b[0maxis\u001b[0m\u001b[0;34m)\u001b[0m\u001b[0;34m,\u001b[0m\u001b[0;34m\u001b[0m\u001b[0;34m\u001b[0m\u001b[0m\n",
      "\u001b[0;32m~/.local/lib/python3.10/site-packages/pandas/core/internals/managers.py\u001b[0m in \u001b[0;36mtake\u001b[0;34m(self, indexer, axis, verify, convert_indices)\u001b[0m\n\u001b[1;32m    966\u001b[0m \u001b[0;34m\u001b[0m\u001b[0m\n\u001b[1;32m    967\u001b[0m         \u001b[0mnew_labels\u001b[0m \u001b[0;34m=\u001b[0m \u001b[0mself\u001b[0m\u001b[0;34m.\u001b[0m\u001b[0maxes\u001b[0m\u001b[0;34m[\u001b[0m\u001b[0maxis\u001b[0m\u001b[0;34m]\u001b[0m\u001b[0;34m.\u001b[0m\u001b[0mtake\u001b[0m\u001b[0;34m(\u001b[0m\u001b[0mindexer\u001b[0m\u001b[0;34m)\u001b[0m\u001b[0;34m\u001b[0m\u001b[0;34m\u001b[0m\u001b[0m\n\u001b[0;32m--> 968\u001b[0;31m         return self.reindex_indexer(\n\u001b[0m\u001b[1;32m    969\u001b[0m             \u001b[0mnew_axis\u001b[0m\u001b[0;34m=\u001b[0m\u001b[0mnew_labels\u001b[0m\u001b[0;34m,\u001b[0m\u001b[0;34m\u001b[0m\u001b[0;34m\u001b[0m\u001b[0m\n\u001b[1;32m    970\u001b[0m             \u001b[0mindexer\u001b[0m\u001b[0;34m=\u001b[0m\u001b[0mindexer\u001b[0m\u001b[0;34m,\u001b[0m\u001b[0;34m\u001b[0m\u001b[0;34m\u001b[0m\u001b[0m\n",
      "\u001b[0;32m~/.local/lib/python3.10/site-packages/pandas/core/internals/managers.py\u001b[0m in \u001b[0;36mreindex_indexer\u001b[0;34m(self, new_axis, indexer, axis, fill_value, allow_dups, copy, only_slice, use_na_proxy)\u001b[0m\n\u001b[1;32m    709\u001b[0m         \"\"\"\n\u001b[1;32m    710\u001b[0m         \u001b[0;32mif\u001b[0m \u001b[0mcopy\u001b[0m \u001b[0;32mis\u001b[0m \u001b[0;32mNone\u001b[0m\u001b[0;34m:\u001b[0m\u001b[0;34m\u001b[0m\u001b[0;34m\u001b[0m\u001b[0m\n\u001b[0;32m--> 711\u001b[0;31m             \u001b[0;32mif\u001b[0m \u001b[0m_using_copy_on_write\u001b[0m\u001b[0;34m(\u001b[0m\u001b[0;34m)\u001b[0m\u001b[0;34m:\u001b[0m\u001b[0;34m\u001b[0m\u001b[0;34m\u001b[0m\u001b[0m\n\u001b[0m\u001b[1;32m    712\u001b[0m                 \u001b[0;31m# use shallow copy\u001b[0m\u001b[0;34m\u001b[0m\u001b[0;34m\u001b[0m\u001b[0m\n\u001b[1;32m    713\u001b[0m                 \u001b[0mcopy\u001b[0m \u001b[0;34m=\u001b[0m \u001b[0;32mFalse\u001b[0m\u001b[0;34m\u001b[0m\u001b[0;34m\u001b[0m\u001b[0m\n",
      "\u001b[0;32m~/.local/lib/python3.10/site-packages/pandas/core/internals/managers.py\u001b[0m in \u001b[0;36m_using_copy_on_write\u001b[0;34m()\u001b[0m\n\u001b[1;32m   2395\u001b[0m \u001b[0;34m\u001b[0m\u001b[0m\n\u001b[1;32m   2396\u001b[0m \u001b[0;32mdef\u001b[0m \u001b[0m_using_copy_on_write\u001b[0m\u001b[0;34m(\u001b[0m\u001b[0;34m)\u001b[0m\u001b[0;34m:\u001b[0m\u001b[0;34m\u001b[0m\u001b[0;34m\u001b[0m\u001b[0m\n\u001b[0;32m-> 2397\u001b[0;31m     \u001b[0;32mreturn\u001b[0m \u001b[0mget_option\u001b[0m\u001b[0;34m(\u001b[0m\u001b[0;34m\"mode.copy_on_write\"\u001b[0m\u001b[0;34m)\u001b[0m\u001b[0;34m\u001b[0m\u001b[0;34m\u001b[0m\u001b[0m\n\u001b[0m",
      "\u001b[0;32m~/.local/lib/python3.10/site-packages/pandas/_config/config.py\u001b[0m in \u001b[0;36m__call__\u001b[0;34m(self, *args, **kwds)\u001b[0m\n\u001b[1;32m    261\u001b[0m \u001b[0;34m\u001b[0m\u001b[0m\n\u001b[1;32m    262\u001b[0m     \u001b[0;32mdef\u001b[0m \u001b[0m__call__\u001b[0m\u001b[0;34m(\u001b[0m\u001b[0mself\u001b[0m\u001b[0;34m,\u001b[0m \u001b[0;34m*\u001b[0m\u001b[0margs\u001b[0m\u001b[0;34m,\u001b[0m \u001b[0;34m**\u001b[0m\u001b[0mkwds\u001b[0m\u001b[0;34m)\u001b[0m \u001b[0;34m->\u001b[0m \u001b[0mT\u001b[0m\u001b[0;34m:\u001b[0m\u001b[0;34m\u001b[0m\u001b[0;34m\u001b[0m\u001b[0m\n\u001b[0;32m--> 263\u001b[0;31m         \u001b[0;32mreturn\u001b[0m \u001b[0mself\u001b[0m\u001b[0;34m.\u001b[0m\u001b[0m__func__\u001b[0m\u001b[0;34m(\u001b[0m\u001b[0;34m*\u001b[0m\u001b[0margs\u001b[0m\u001b[0;34m,\u001b[0m \u001b[0;34m**\u001b[0m\u001b[0mkwds\u001b[0m\u001b[0;34m)\u001b[0m\u001b[0;34m\u001b[0m\u001b[0;34m\u001b[0m\u001b[0m\n\u001b[0m\u001b[1;32m    264\u001b[0m \u001b[0;34m\u001b[0m\u001b[0m\n\u001b[1;32m    265\u001b[0m     \u001b[0;31m# error: Signature of \"__doc__\" incompatible with supertype \"object\"\u001b[0m\u001b[0;34m\u001b[0m\u001b[0;34m\u001b[0m\u001b[0m\n",
      "\u001b[0;32m~/.local/lib/python3.10/site-packages/pandas/_config/config.py\u001b[0m in \u001b[0;36m_get_option\u001b[0;34m(pat, silent)\u001b[0m\n\u001b[1;32m    133\u001b[0m \u001b[0;34m\u001b[0m\u001b[0m\n\u001b[1;32m    134\u001b[0m \u001b[0;32mdef\u001b[0m \u001b[0m_get_option\u001b[0m\u001b[0;34m(\u001b[0m\u001b[0mpat\u001b[0m\u001b[0;34m:\u001b[0m \u001b[0mstr\u001b[0m\u001b[0;34m,\u001b[0m \u001b[0msilent\u001b[0m\u001b[0;34m:\u001b[0m \u001b[0mbool\u001b[0m \u001b[0;34m=\u001b[0m \u001b[0;32mFalse\u001b[0m\u001b[0;34m)\u001b[0m \u001b[0;34m->\u001b[0m \u001b[0mAny\u001b[0m\u001b[0;34m:\u001b[0m\u001b[0;34m\u001b[0m\u001b[0;34m\u001b[0m\u001b[0m\n\u001b[0;32m--> 135\u001b[0;31m     \u001b[0mkey\u001b[0m \u001b[0;34m=\u001b[0m \u001b[0m_get_single_key\u001b[0m\u001b[0;34m(\u001b[0m\u001b[0mpat\u001b[0m\u001b[0;34m,\u001b[0m \u001b[0msilent\u001b[0m\u001b[0;34m)\u001b[0m\u001b[0;34m\u001b[0m\u001b[0;34m\u001b[0m\u001b[0m\n\u001b[0m\u001b[1;32m    136\u001b[0m \u001b[0;34m\u001b[0m\u001b[0m\n\u001b[1;32m    137\u001b[0m     \u001b[0;31m# walk the nested dict\u001b[0m\u001b[0;34m\u001b[0m\u001b[0;34m\u001b[0m\u001b[0m\n",
      "\u001b[0;32m~/.local/lib/python3.10/site-packages/pandas/_config/config.py\u001b[0m in \u001b[0;36m_get_single_key\u001b[0;34m(pat, silent)\u001b[0m\n\u001b[1;32m    120\u001b[0m             \u001b[0m_warn_if_deprecated\u001b[0m\u001b[0;34m(\u001b[0m\u001b[0mpat\u001b[0m\u001b[0;34m)\u001b[0m\u001b[0;34m\u001b[0m\u001b[0;34m\u001b[0m\u001b[0m\n\u001b[1;32m    121\u001b[0m         \u001b[0;32mraise\u001b[0m \u001b[0mOptionError\u001b[0m\u001b[0;34m(\u001b[0m\u001b[0;34mf\"No such keys(s): {repr(pat)}\"\u001b[0m\u001b[0;34m)\u001b[0m\u001b[0;34m\u001b[0m\u001b[0;34m\u001b[0m\u001b[0m\n\u001b[0;32m--> 122\u001b[0;31m     \u001b[0;32mif\u001b[0m \u001b[0mlen\u001b[0m\u001b[0;34m(\u001b[0m\u001b[0mkeys\u001b[0m\u001b[0;34m)\u001b[0m \u001b[0;34m>\u001b[0m \u001b[0;36m1\u001b[0m\u001b[0;34m:\u001b[0m\u001b[0;34m\u001b[0m\u001b[0;34m\u001b[0m\u001b[0m\n\u001b[0m\u001b[1;32m    123\u001b[0m         \u001b[0;32mraise\u001b[0m \u001b[0mOptionError\u001b[0m\u001b[0;34m(\u001b[0m\u001b[0;34m\"Pattern matched multiple keys\"\u001b[0m\u001b[0;34m)\u001b[0m\u001b[0;34m\u001b[0m\u001b[0;34m\u001b[0m\u001b[0m\n\u001b[1;32m    124\u001b[0m     \u001b[0mkey\u001b[0m \u001b[0;34m=\u001b[0m \u001b[0mkeys\u001b[0m\u001b[0;34m[\u001b[0m\u001b[0;36m0\u001b[0m\u001b[0;34m]\u001b[0m\u001b[0;34m\u001b[0m\u001b[0;34m\u001b[0m\u001b[0m\n",
      "\u001b[0;31mKeyboardInterrupt\u001b[0m: "
     ]
    }
   ],
   "source": [
    "rec = TopPopRecV3()\n",
    "rec.fit()"
   ]
  },
  {
   "cell_type": "code",
   "execution_count": null,
   "metadata": {},
   "outputs": [
    {
     "name": "stdout",
     "output_type": "stream",
     "text": [
      "calculating recommendations: finished!                                                              \n"
     ]
    }
   ],
   "source": [
    "out_df = pd.DataFrame(columns=[\"user_id\", \"item_list\"])\n",
    "num_users = users_df['user_id'].shape[0]\n",
    "count = 0\n",
    "\n",
    "for user_id in users_df['user_id']:\n",
    "    count += 1\n",
    "    pretty_print_progress(count, num_users, \"calculating recommendations:\")\n",
    "    \n",
    "    items_list = rec.recommend(user_id, at=10)\n",
    "    \n",
    "    items_list = map(str, items_list)\n",
    "    items_list = \" \".join(items_list)\n",
    "    row = pd.DataFrame([[user_id, items_list]], columns=['user_id' , 'item_list'])\n",
    "    out_df = pd.concat([out_df, row])"
   ]
  },
  {
   "cell_type": "markdown",
   "metadata": {},
   "source": [
    "### Save result"
   ]
  },
  {
   "cell_type": "code",
   "execution_count": null,
   "metadata": {},
   "outputs": [],
   "source": [
    "out_df.to_csv(\"submission.csv\", columns=[\"user_id\", \"item_list\"], index=False)"
   ]
  }
 ],
 "metadata": {
  "kernelspec": {
   "display_name": "Python 3.10.7 64-bit",
   "language": "python",
   "name": "python3"
  },
  "language_info": {
   "codemirror_mode": {
    "name": "ipython",
    "version": 3
   },
   "file_extension": ".py",
   "mimetype": "text/x-python",
   "name": "python",
   "nbconvert_exporter": "python",
   "pygments_lexer": "ipython3",
   "version": "3.10.7 (main, Nov 24 2022, 19:45:47) [GCC 12.2.0]"
  },
  "orig_nbformat": 4,
  "vscode": {
   "interpreter": {
    "hash": "916dbcbb3f70747c44a77c7bcd40155683ae19c65e1c03b4aa3499c5328201f1"
   }
  }
 },
 "nbformat": 4,
 "nbformat_minor": 2
}
