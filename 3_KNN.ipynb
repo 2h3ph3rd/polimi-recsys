{
 "cells": [
  {
   "attachments": {},
   "cell_type": "markdown",
   "metadata": {},
   "source": [
    "# P3Alpha"
   ]
  },
  {
   "attachments": {},
   "cell_type": "markdown",
   "metadata": {},
   "source": [
    "### Import libraries"
   ]
  },
  {
   "cell_type": "code",
   "execution_count": 44,
   "metadata": {},
   "outputs": [],
   "source": [
    "import pandas as pd\n",
    "import numpy as np\n",
    "from scipy import sparse\n",
    "import os\n",
    "import csv\n",
    "\n",
    "from utilities import load_sparse_matrix"
   ]
  },
  {
   "attachments": {},
   "cell_type": "markdown",
   "metadata": {},
   "source": [
    "### Load dataset"
   ]
  },
  {
   "cell_type": "code",
   "execution_count": 45,
   "metadata": {},
   "outputs": [
    {
     "name": "stdout",
     "output_type": "stream",
     "text": [
      "Loaded urm.npz\n",
      "Loaded urm_test.npz\n",
      "Loaded urm_train.npz\n",
      "Loaded urm_val.npz\n",
      "Loaded urm_train_val.npz\n",
      "Loaded icm.npz\n"
     ]
    }
   ],
   "source": [
    "ICM = load_sparse_matrix(\"icm.npz\")\n",
    "URM = load_sparse_matrix(\"urm.npz\")\n",
    "URM_test = load_sparse_matrix(\"urm_test.npz\")\n",
    "URM_train = load_sparse_matrix(\"urm_train.npz\")\n",
    "URM_val = load_sparse_matrix(\"urm_val.npz\")\n",
    "URM_train_val = load_sparse_matrix(\"urm_train_val.npz\")"
   ]
  },
  {
   "cell_type": "code",
   "execution_count": 46,
   "metadata": {},
   "outputs": [
    {
     "name": "stdout",
     "output_type": "stream",
     "text": [
      "EvaluatorHoldout: Ignoring 744 ( 1.8%) Users that have less than 1 test interactions\n",
      "EvaluatorHoldout: Ignoring 320 ( 0.8%) Users that have less than 1 test interactions\n"
     ]
    }
   ],
   "source": [
    "from src.Evaluation.Evaluator import EvaluatorHoldout\n",
    "\n",
    "evaluator_val = EvaluatorHoldout(URM_val, cutoff_list=[10])\n",
    "evaluator_test = EvaluatorHoldout(URM_test, cutoff_list=[10])"
   ]
  },
  {
   "cell_type": "code",
   "execution_count": 47,
   "metadata": {},
   "outputs": [],
   "source": [
    "from skopt.space import Real, Integer, Categorical\n",
    "\n",
    "hyperparameters_range_dictionary = {\n",
    "    \"topK\": Integer(5, 1000),\n",
    "    \"alpha\": Real(0, 1),\n",
    "}"
   ]
  },
  {
   "cell_type": "code",
   "execution_count": 48,
   "metadata": {},
   "outputs": [],
   "source": [
    "from src.Recommenders.GraphBased.P3alphaRecommender import P3alphaRecommender\n",
    "from src.HyperparameterTuning.SearchBayesianSkopt import SearchBayesianSkopt\n",
    "\n",
    "recommender_class = P3alphaRecommender\n",
    "\n",
    "hyperparameterSearch = SearchBayesianSkopt(\n",
    "    recommender_class,\n",
    "    evaluator_validation=evaluator_val,\n",
    "    evaluator_test=evaluator_test)"
   ]
  },
  {
   "cell_type": "code",
   "execution_count": 49,
   "metadata": {},
   "outputs": [],
   "source": [
    "from src.HyperparameterTuning.SearchAbstractClass import SearchInputRecommenderArgs\n",
    "  \n",
    "recommender_input_args = SearchInputRecommenderArgs(\n",
    "    CONSTRUCTOR_POSITIONAL_ARGS = [URM_train],     # For a CBF model simply put [URM_train, ICM_train]\n",
    "    CONSTRUCTOR_KEYWORD_ARGS = {},\n",
    "    FIT_POSITIONAL_ARGS = [],\n",
    "    FIT_KEYWORD_ARGS = {},\n",
    "    EARLYSTOPPING_KEYWORD_ARGS = {},\n",
    ")\n",
    "\n",
    "recommender_input_args_last_test = SearchInputRecommenderArgs(\n",
    "    CONSTRUCTOR_POSITIONAL_ARGS = [URM_train_val],     # For a CBF model simply put [URM_train_validation, ICM_train]\n",
    "    CONSTRUCTOR_KEYWORD_ARGS = {},\n",
    "    FIT_POSITIONAL_ARGS = [],\n",
    "    FIT_KEYWORD_ARGS = {},\n",
    "    EARLYSTOPPING_KEYWORD_ARGS = {},\n",
    ")"
   ]
  },
  {
   "cell_type": "code",
   "execution_count": 50,
   "metadata": {},
   "outputs": [],
   "source": [
    "import os\n",
    "\n",
    "output_folder_path = \"result_experiments/\"\n",
    "\n",
    "# If directory does not exist, create\n",
    "if not os.path.exists(output_folder_path):\n",
    "    os.makedirs(output_folder_path)\n",
    "    \n",
    "n_cases = 10  # using 10 as an example\n",
    "n_random_starts = int(n_cases*0.3)\n",
    "metric_to_optimize = \"MAP\"   \n",
    "cutoff_to_optimize = 10"
   ]
  },
  {
   "cell_type": "code",
   "execution_count": 51,
   "metadata": {},
   "outputs": [
    {
     "name": "stdout",
     "output_type": "stream",
     "text": [
      "Iteration No: 1 started. Evaluating function at random point.\n",
      "SearchBayesianSkopt: Testing config: {'topK': 379, 'alpha': 0.17823009600176645}\n",
      "P3alphaRecommender: URM Detected 3461 (12.4%) items with no interactions.\n",
      "P3alphaRecommender: Similarity column 27968 (100.0%), 778.08 column/sec. Elapsed time 35.94 sec\n",
      "EvaluatorHoldout: Processed 40885 (100.0%) in 1.46 min. Users per second: 466\n",
      "SearchBayesianSkopt: New best config found. Config 0: {'topK': 379, 'alpha': 0.17823009600176645} - results: PRECISION: 0.0342057, PRECISION_RECALL_MIN_DEN: 0.0573706, RECALL: 0.0536303, MAP: 0.0147594, MAP_MIN_DEN: 0.0247339, MRR: 0.1138607, NDCG: 0.0532587, F1: 0.0417702, HIT_RATE: 0.2615385, ARHR_ALL_HITS: 0.1292034, NOVELTY: 0.0032531, AVERAGE_POPULARITY: 0.3995350, DIVERSITY_MEAN_INTER_LIST: 0.6344807, DIVERSITY_HERFINDAHL: 0.9634465, COVERAGE_ITEM: 0.1620423, COVERAGE_ITEM_HIT: 0.0145523, ITEMS_IN_GT: 0.8711742, COVERAGE_USER: 0.9821278, COVERAGE_USER_HIT: 0.2568642, USERS_IN_GT: 0.9821278, DIVERSITY_GINI: 0.0050379, SHANNON_ENTROPY: 6.0453042, RATIO_DIVERSITY_HERFINDAHL: 0.9637646, RATIO_DIVERSITY_GINI: 0.0113983, RATIO_SHANNON_ENTROPY: 0.4481107, RATIO_AVERAGE_POPULARITY: 7.8392985, RATIO_NOVELTY: 0.2821722, \n",
      "\n",
      "EvaluatorHoldout: Processed 41309 (100.0%) in 1.28 min. Users per second: 538\n",
      "SearchBayesianSkopt: Config evaluated with evaluator_test. Config: {'topK': 379, 'alpha': 0.17823009600176645} - results:\n",
      "CUTOFF: 10 - PRECISION: 0.0421046, PRECISION_RECALL_MIN_DEN: 0.0592575, RECALL: 0.0522499, MAP: 0.0187787, MAP_MIN_DEN: 0.0261230, MRR: 0.1356805, NDCG: 0.0589253, F1: 0.0466319, HIT_RATE: 0.3028880, ARHR_ALL_HITS: 0.1587574, NOVELTY: 0.0032550, AVERAGE_POPULARITY: 0.3990618, DIVERSITY_MEAN_INTER_LIST: 0.6354743, DIVERSITY_HERFINDAHL: 0.9635459, COVERAGE_ITEM: 0.1649385, COVERAGE_ITEM_HIT: 0.0154820, ITEMS_IN_GT: 0.8748927, COVERAGE_USER: 0.9923131, COVERAGE_USER_HIT: 0.3005597, USERS_IN_GT: 0.9923131, DIVERSITY_GINI: 0.0051532, SHANNON_ENTROPY: 6.0580622, RATIO_DIVERSITY_HERFINDAHL: 0.9638640, RATIO_DIVERSITY_GINI: 0.0116594, RATIO_SHANNON_ENTROPY: 0.4490564, RATIO_AVERAGE_POPULARITY: 7.8300142, RATIO_NOVELTY: 0.2823319, \n",
      "\n",
      "\n",
      "Iteration No: 1 ended. Evaluation done at random point.\n",
      "Time taken: 218.6037\n",
      "Function value obtained: -0.0148\n",
      "Current minimum: -0.0148\n",
      "Iteration No: 2 started. Evaluating function at random point.\n",
      "SearchBayesianSkopt: Testing config: {'topK': 171, 'alpha': 0.45218388283670874}\n",
      "P3alphaRecommender: URM Detected 3461 (12.4%) items with no interactions.\n",
      "P3alphaRecommender: Similarity column 27968 (100.0%), 1260.89 column/sec. Elapsed time 22.18 sec\n",
      "EvaluatorHoldout: Processed 40885 (100.0%) in 1.07 min. Users per second: 637\n",
      "SearchBayesianSkopt: New best config found. Config 1: {'topK': 171, 'alpha': 0.45218388283670874} - results: PRECISION: 0.0383026, PRECISION_RECALL_MIN_DEN: 0.0635379, RECALL: 0.0592775, MAP: 0.0168564, MAP_MIN_DEN: 0.0278998, MRR: 0.1269525, NDCG: 0.0595279, F1: 0.0465357, HIT_RATE: 0.2849700, ARHR_ALL_HITS: 0.1457882, NOVELTY: 0.0033489, AVERAGE_POPULARITY: 0.3549465, DIVERSITY_MEAN_INTER_LIST: 0.7345201, DIVERSITY_HERFINDAHL: 0.9734502, COVERAGE_ITEM: 0.2217177, COVERAGE_ITEM_HIT: 0.0196296, ITEMS_IN_GT: 0.8711742, COVERAGE_USER: 0.9821278, COVERAGE_USER_HIT: 0.2798770, USERS_IN_GT: 0.9821278, DIVERSITY_GINI: 0.0076589, SHANNON_ENTROPY: 6.6826851, RATIO_DIVERSITY_HERFINDAHL: 0.9737716, RATIO_DIVERSITY_GINI: 0.0173284, RATIO_SHANNON_ENTROPY: 0.4953568, RATIO_AVERAGE_POPULARITY: 6.9644252, RATIO_NOVELTY: 0.2904817, \n",
      "\n",
      "EvaluatorHoldout: Processed 41309 (100.0%) in 1.15 min. Users per second: 599\n",
      "SearchBayesianSkopt: Config evaluated with evaluator_test. Config: {'topK': 171, 'alpha': 0.45218388283670874} - results:\n",
      "CUTOFF: 10 - PRECISION: 0.0473626, PRECISION_RECALL_MIN_DEN: 0.0659928, RECALL: 0.0579896, MAP: 0.0213842, MAP_MIN_DEN: 0.0294685, MRR: 0.1503170, NDCG: 0.0658724, F1: 0.0521401, HIT_RATE: 0.3302186, ARHR_ALL_HITS: 0.1781677, NOVELTY: 0.0033506, AVERAGE_POPULARITY: 0.3545494, DIVERSITY_MEAN_INTER_LIST: 0.7351928, DIVERSITY_HERFINDAHL: 0.9735175, COVERAGE_ITEM: 0.2264016, COVERAGE_ITEM_HIT: 0.0202732, ITEMS_IN_GT: 0.8748927, COVERAGE_USER: 0.9923131, COVERAGE_USER_HIT: 0.3276802, USERS_IN_GT: 0.9923131, DIVERSITY_GINI: 0.0078290, SHANNON_ENTROPY: 6.6940543, RATIO_DIVERSITY_HERFINDAHL: 0.9738389, RATIO_DIVERSITY_GINI: 0.0177133, RATIO_SHANNON_ENTROPY: 0.4961996, RATIO_AVERAGE_POPULARITY: 6.9566336, RATIO_NOVELTY: 0.2906302, \n",
      "\n",
      "\n",
      "Iteration No: 2 ended. Evaluation done at random point.\n",
      "Time taken: 165.0231\n",
      "Function value obtained: -0.0169\n",
      "Current minimum: -0.0169\n",
      "Iteration No: 3 started. Evaluating function at random point.\n",
      "SearchBayesianSkopt: Testing config: {'topK': 133, 'alpha': 0.9646370105090716}\n",
      "P3alphaRecommender: URM Detected 3461 (12.4%) items with no interactions.\n",
      "P3alphaRecommender: Similarity column 27968 (100.0%), 1378.42 column/sec. Elapsed time 20.29 sec\n",
      "EvaluatorHoldout: Processed 40885 (100.0%) in 55.62 sec. Users per second: 735\n",
      "SearchBayesianSkopt: Config 2 is suboptimal. Config: {'topK': 133, 'alpha': 0.9646370105090716} - results: PRECISION: 0.0294387, PRECISION_RECALL_MIN_DEN: 0.0435735, RECALL: 0.0392351, MAP: 0.0145129, MAP_MIN_DEN: 0.0216659, MRR: 0.1051769, NDCG: 0.0453911, F1: 0.0336381, HIT_RATE: 0.2090498, ARHR_ALL_HITS: 0.1228330, NOVELTY: 0.0044894, AVERAGE_POPULARITY: 0.0867543, DIVERSITY_MEAN_INTER_LIST: 0.9861805, DIVERSITY_HERFINDAHL: 0.9986156, COVERAGE_ITEM: 0.7674485, COVERAGE_ITEM_HIT: 0.0397955, ITEMS_IN_GT: 0.8711742, COVERAGE_USER: 0.9821278, COVERAGE_USER_HIT: 0.2053136, USERS_IN_GT: 0.9821278, DIVERSITY_GINI: 0.1866987, SHANNON_ENTROPY: 11.8148165, RATIO_DIVERSITY_HERFINDAHL: 0.9989453, RATIO_DIVERSITY_GINI: 0.4224117, RATIO_SHANNON_ENTROPY: 0.8757782, RATIO_AVERAGE_POPULARITY: 1.7022119, RATIO_NOVELTY: 0.3894083, \n",
      "\n",
      "Iteration No: 3 ended. Evaluation done at random point.\n",
      "Time taken: 85.1343\n",
      "Function value obtained: -0.0145\n",
      "Current minimum: -0.0169\n",
      "Iteration No: 4 started. Searching for the next optimal point.\n",
      "SearchBayesianSkopt: Testing config: {'topK': 186, 'alpha': 0.4391237073507539}\n",
      "P3alphaRecommender: URM Detected 3461 (12.4%) items with no interactions.\n",
      "P3alphaRecommender: Similarity column 27968 (100.0%), 1281.41 column/sec. Elapsed time 21.83 sec\n",
      "EvaluatorHoldout: Processed 40885 (100.0%) in 1.04 min. Users per second: 656\n",
      "SearchBayesianSkopt: Config 3 is suboptimal. Config: {'topK': 186, 'alpha': 0.4391237073507539} - results: PRECISION: 0.0379552, PRECISION_RECALL_MIN_DEN: 0.0629357, RECALL: 0.0587231, MAP: 0.0166736, MAP_MIN_DEN: 0.0276134, MRR: 0.1259079, NDCG: 0.0589763, F1: 0.0461086, HIT_RATE: 0.2829889, ARHR_ALL_HITS: 0.1444082, NOVELTY: 0.0033390, AVERAGE_POPULARITY: 0.3593370, DIVERSITY_MEAN_INTER_LIST: 0.7257974, DIVERSITY_HERFINDAHL: 0.9725780, COVERAGE_ITEM: 0.2144594, COVERAGE_ITEM_HIT: 0.0190575, ITEMS_IN_GT: 0.8711742, COVERAGE_USER: 0.9821278, COVERAGE_USER_HIT: 0.2779312, USERS_IN_GT: 0.9821278, DIVERSITY_GINI: 0.0072949, SHANNON_ENTROPY: 6.6186331, RATIO_DIVERSITY_HERFINDAHL: 0.9728990, RATIO_DIVERSITY_GINI: 0.0165049, RATIO_SHANNON_ENTROPY: 0.4906089, RATIO_AVERAGE_POPULARITY: 7.0505715, RATIO_NOVELTY: 0.2896247, \n",
      "\n",
      "Iteration No: 4 ended. Search finished for the next optimal point.\n",
      "Time taken: 94.7221\n",
      "Function value obtained: -0.0167\n",
      "Current minimum: -0.0169\n",
      "Iteration No: 5 started. Searching for the next optimal point.\n",
      "SearchBayesianSkopt: Testing config: {'topK': 736, 'alpha': 0.6140696531438937}\n",
      "P3alphaRecommender: URM Detected 3461 (12.4%) items with no interactions.\n"
     ]
    }
   ],
   "source": [
    "hyperparameterSearch.search(\n",
    "    recommender_input_args,\n",
    "    recommender_input_args_last_test = recommender_input_args_last_test,\n",
    "    hyperparameter_search_space = hyperparameters_range_dictionary,\n",
    "    n_cases = n_cases,\n",
    "    n_random_starts = n_random_starts,\n",
    "    save_model = \"last\",\n",
    "    output_folder_path = output_folder_path, # Where to save the results\n",
    "    output_file_name_root = recommender_class.RECOMMENDER_NAME, # How to call the files\n",
    "    metric_to_optimize = metric_to_optimize,\n",
    "    cutoff_to_optimize = cutoff_to_optimize,\n",
    ")"
   ]
  }
 ],
 "metadata": {
  "kernelspec": {
   "display_name": "Python 3",
   "language": "python",
   "name": "python3"
  },
  "language_info": {
   "codemirror_mode": {
    "name": "ipython",
    "version": 3
   },
   "file_extension": ".py",
   "mimetype": "text/x-python",
   "name": "python",
   "nbconvert_exporter": "python",
   "pygments_lexer": "ipython3",
   "version": "3.10.7"
  },
  "orig_nbformat": 4,
  "vscode": {
   "interpreter": {
    "hash": "e7370f93d1d0cde622a1f8e1c04877d8463912d04d973331ad4851f04de6915a"
   }
  }
 },
 "nbformat": 4,
 "nbformat_minor": 2
}
