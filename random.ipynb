{
 "cells": [
  {
   "cell_type": "markdown",
   "metadata": {},
   "source": [
    "# Random recommender\n",
    "The simplest recommendation system. \n",
    "\n",
    "Accuracy: 0.00016"
   ]
  },
  {
   "cell_type": "markdown",
   "metadata": {},
   "source": [
    "### Import libraries"
   ]
  },
  {
   "cell_type": "code",
   "execution_count": 65,
   "metadata": {},
   "outputs": [],
   "source": [
    "import pandas as pd\n",
    "import numpy as np"
   ]
  },
  {
   "cell_type": "markdown",
   "metadata": {},
   "source": [
    "### Read data"
   ]
  },
  {
   "cell_type": "code",
   "execution_count": 66,
   "metadata": {},
   "outputs": [],
   "source": [
    "# base path for csv files\n",
    "base_path = \"data\"\n",
    "interactions_df_path = base_path + \"/interactions_and_impressions.csv\"\n",
    "items_length_df_path = base_path + \"/data_ICM_length.csv\"\n",
    "items_type_df_path = base_path + \"/data_ICM_type.csv\"\n",
    "users_df_path = base_path + \"/data_target_users_test.csv\""
   ]
  },
  {
   "cell_type": "code",
   "execution_count": 78,
   "metadata": {},
   "outputs": [],
   "source": [
    "dtype={0:int, 1:int, 2:str, 3:int}\n",
    "interactions_df = pd.read_csv(filepath_or_buffer=interactions_df_path, dtype=dtype)\n",
    "items_length_pf = pd.read_csv(filepath_or_buffer=items_length_df_path)\n",
    "items_types_df = pd.read_csv(filepath_or_buffer=items_type_df_path)\n",
    "users_df = pd.read_csv(filepath_or_buffer=users_df_path)"
   ]
  },
  {
   "cell_type": "markdown",
   "metadata": {},
   "source": [
    "### Calculate recommendations"
   ]
  },
  {
   "cell_type": "code",
   "execution_count": 71,
   "metadata": {},
   "outputs": [],
   "source": [
    "class RandomRecommender(object):\n",
    "\n",
    "    def fit(self, n_items):\n",
    "        \n",
    "        self.n_items = n_items\n",
    "    \n",
    "    def recommend(self, at=5):\n",
    "        \n",
    "        recommended_items = np.random.choice(self.n_items, at)\n",
    "        return recommended_items"
   ]
  },
  {
   "cell_type": "code",
   "execution_count": 101,
   "metadata": {},
   "outputs": [],
   "source": [
    "randomRecommender = RandomRecommender()\n",
    "randomRecommender.fit(items_types_df.shape[0])\n",
    "\n",
    "out_df = pd.DataFrame(columns=[\"user_id\", \"item_list\"])\n",
    "\n",
    "for user_id in users_df['user_id']:\n",
    "    items_list = randomRecommender.recommend(user_id, at=10)\n",
    "    items_list = map(str, items_list)\n",
    "    items_list = \" \".join(items_list)\n",
    "    row = pd.DataFrame([[user_id, items_list]], columns=['user_id' , 'item_list'])\n",
    "    out_df = pd.concat([out_df, row])"
   ]
  },
  {
   "cell_type": "markdown",
   "metadata": {},
   "source": [
    "### Save result"
   ]
  },
  {
   "cell_type": "code",
   "execution_count": 102,
   "metadata": {},
   "outputs": [],
   "source": [
    "out_df.to_csv(\"submission.csv\", columns=[\"user_id\", \"item_list\"], index=False)"
   ]
  }
 ],
 "metadata": {
  "kernelspec": {
   "display_name": "Python 3.10.7 64-bit",
   "language": "python",
   "name": "python3"
  },
  "language_info": {
   "codemirror_mode": {
    "name": "ipython",
    "version": 3
   },
   "file_extension": ".py",
   "mimetype": "text/x-python",
   "name": "python",
   "nbconvert_exporter": "python",
   "pygments_lexer": "ipython3",
   "version": "3.10.7 (main, Nov  2 2022, 18:49:29) [GCC 12.2.0]"
  },
  "orig_nbformat": 4,
  "vscode": {
   "interpreter": {
    "hash": "916dbcbb3f70747c44a77c7bcd40155683ae19c65e1c03b4aa3499c5328201f1"
   }
  }
 },
 "nbformat": 4,
 "nbformat_minor": 2
}
