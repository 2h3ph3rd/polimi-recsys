{
 "cells": [
  {
   "attachments": {},
   "cell_type": "markdown",
   "metadata": {},
   "source": [
    "# Hybrid"
   ]
  },
  {
   "cell_type": "markdown",
   "metadata": {},
   "source": [
    "### Copy data from Drive"
   ]
  },
  {
   "cell_type": "code",
   "execution_count": null,
   "metadata": {},
   "outputs": [],
   "source": [
    "# from google.colab import drive\n",
    "# drive.mount('/gdrive')\n",
    "\n",
    "# !cp \"/gdrive/My Drive/recsys/src.zip\" /content\n",
    "# !cp \"/gdrive/My Drive/recsys/data.zip\" /content\n",
    "# !cp \"/gdrive/My Drive/recsys/utilities.py\" /content\n",
    "# !cp \"/gdrive/My Drive/recsys/tuner\" /content\n",
    "\n",
    "\n",
    "# !unzip src.zip\n",
    "# !unzip data.zip"
   ]
  },
  {
   "attachments": {},
   "cell_type": "markdown",
   "metadata": {},
   "source": [
    "### Import libraries"
   ]
  },
  {
   "cell_type": "code",
   "execution_count": 128,
   "metadata": {},
   "outputs": [],
   "source": [
    "import pandas as pd\n",
    "import numpy as np\n",
    "from scipy import sparse as sps\n",
    "import os\n",
    "import csv\n",
    "\n",
    "from utilities import load_sparse_matrix"
   ]
  },
  {
   "attachments": {},
   "cell_type": "markdown",
   "metadata": {},
   "source": [
    "### Load dataset"
   ]
  },
  {
   "cell_type": "code",
   "execution_count": 129,
   "metadata": {},
   "outputs": [
    {
     "name": "stdout",
     "output_type": "stream",
     "text": [
      "Loaded icm.npz\n",
      "Loaded urm.npz\n",
      "Loaded urm_test.npz\n",
      "Loaded urm_train.npz\n",
      "Loaded urm_val.npz\n",
      "Loaded urm_train_val.npz\n"
     ]
    }
   ],
   "source": [
    "ICM = load_sparse_matrix(\"icm.npz\")\n",
    "URM = load_sparse_matrix(\"urm.npz\")\n",
    "URM_test = load_sparse_matrix(\"urm_test.npz\")\n",
    "URM_train = load_sparse_matrix(\"urm_train.npz\")\n",
    "URM_validation = load_sparse_matrix(\"urm_val.npz\")\n",
    "URM_train_validation = load_sparse_matrix(\"urm_train_val.npz\")"
   ]
  },
  {
   "attachments": {},
   "cell_type": "markdown",
   "metadata": {},
   "source": [
    "### Parameters"
   ]
  },
  {
   "cell_type": "code",
   "execution_count": 130,
   "metadata": {},
   "outputs": [],
   "source": [
    "output_folder_path = \"tuner/\"\n",
    "n_cases = 100\n",
    "n_random_starts = int(n_cases*0.3)\n",
    "metric_to_optimize = \"MAP\"   \n",
    "cutoff_to_optimize = 10"
   ]
  },
  {
   "attachments": {},
   "cell_type": "markdown",
   "metadata": {},
   "source": [
    "### Load recommenders"
   ]
  },
  {
   "cell_type": "code",
   "execution_count": 131,
   "metadata": {},
   "outputs": [],
   "source": [
    "recommenders = []"
   ]
  },
  {
   "cell_type": "code",
   "execution_count": 132,
   "metadata": {},
   "outputs": [
    {
     "name": "stdout",
     "output_type": "stream",
     "text": [
      "ItemKNNCFRecommender: URM Detected 3461 (12.4%) items with no interactions.\n",
      "ItemKNNCFRecommender: Loading model from file 'tuner/ItemKNNCFRecommender_best_model_last.zip'\n",
      "ItemKNNCFRecommender: Loading complete\n"
     ]
    }
   ],
   "source": [
    "from src.Recommenders.KNN.ItemKNNCFRecommender import ItemKNNCFRecommender\n",
    "\n",
    "rec = ItemKNNCFRecommender(URM)\n",
    "rec.load_model(\n",
    "    output_folder_path, \n",
    "    file_name=rec.RECOMMENDER_NAME + \"_best_model_last.zip\"\n",
    ")\n",
    "recommenders.append(rec)"
   ]
  },
  {
   "cell_type": "code",
   "execution_count": 133,
   "metadata": {},
   "outputs": [
    {
     "name": "stdout",
     "output_type": "stream",
     "text": [
      "P3alphaRecommender: URM Detected 3461 (12.4%) items with no interactions.\n",
      "P3alphaRecommender: Loading model from file 'tuner/P3alphaRecommender_best_model_last.zip'\n",
      "P3alphaRecommender: Loading complete\n"
     ]
    }
   ],
   "source": [
    "from src.Recommenders.GraphBased.P3alphaRecommender import P3alphaRecommender\n",
    "\n",
    "rec = P3alphaRecommender(URM)\n",
    "rec.load_model(\n",
    "    output_folder_path, \n",
    "    file_name=rec.RECOMMENDER_NAME + \"_best_model_last.zip\"\n",
    ")\n",
    "recommenders.append(rec)"
   ]
  },
  {
   "attachments": {},
   "cell_type": "markdown",
   "metadata": {},
   "source": [
    "### Custom hybrid model"
   ]
  },
  {
   "cell_type": "code",
   "execution_count": 134,
   "metadata": {},
   "outputs": [],
   "source": [
    "from src.Recommenders.BaseRecommender import BaseRecommender\n",
    "\n",
    "\n",
    "class CustomHybridRecommender(BaseRecommender):\n",
    "    \"\"\" ScoresHybridRecommender\n",
    "    \n",
    "    Hybrid of multiple recommenders weighted on the given alphas.\n",
    "    \"\"\"\n",
    "\n",
    "    RECOMMENDER_NAME = \"CustomHybridRecommender\"\n",
    "\n",
    "    def __init__(self, URM_train, recommenders):\n",
    "        super(CustomHybridRecommender, self).__init__(URM_train)\n",
    "\n",
    "        self.URM_train = sps.csr_matrix(URM_train)\n",
    "        self.recommenders = recommenders\n",
    "\n",
    "    def fit(self, **kwargs):\n",
    "        # Read multiple alphas\n",
    "        alphas = []\n",
    "        for k, v in kwargs.items():\n",
    "            alphas.append(v)\n",
    "\n",
    "        # Number of alphas should be equal to number of recommenders\n",
    "        assert len(alphas) == len(self.recommenders)\n",
    "\n",
    "        # Normalize alphas sum to 1\n",
    "        # Sum all alphas values\n",
    "        sum = 0\n",
    "        for alpha in alphas:\n",
    "            sum += alpha\n",
    "\n",
    "        # Calculate normalized alphas\n",
    "        for i in range(len(alphas)):\n",
    "            alphas[i] += alphas[i] / sum\n",
    "\n",
    "        self.alphas = alphas\n",
    "\n",
    "    def _compute_item_score(self, user_id_array, items_to_compute):\n",
    "        rec = self.recommenders[0]\n",
    "        alpha = self.alphas[0]\n",
    "        item_weights = alpha * rec._compute_item_score(user_id_array)\n",
    "\n",
    "        for i in range(1, len(self.recommenders)):\n",
    "            rec = self.recommenders[i]\n",
    "            alpha = self.alphas[i]\n",
    "            item_weights += alpha * rec._compute_item_score(user_id_array)\n",
    "\n",
    "        return item_weights\n"
   ]
  },
  {
   "attachments": {},
   "cell_type": "markdown",
   "metadata": {},
   "source": [
    "### Tuning"
   ]
  },
  {
   "cell_type": "code",
   "execution_count": 135,
   "metadata": {},
   "outputs": [],
   "source": [
    "from skopt.space import Real, Integer, Categorical\n",
    "\n",
    "hyperparameters_range_dictionary = {\n",
    "    \"alpha1\": Real(0, 1),\n",
    "    \"alpha2\": Real(0, 1),\n",
    "}"
   ]
  },
  {
   "cell_type": "code",
   "execution_count": 136,
   "metadata": {},
   "outputs": [],
   "source": [
    "from src.HyperparameterTuning.SearchAbstractClass import SearchInputRecommenderArgs\n",
    "  \n",
    "recommender_input_args = SearchInputRecommenderArgs(\n",
    "    CONSTRUCTOR_POSITIONAL_ARGS = [URM_train, recommenders],     # For a CBF model simply put [URM_train, ICM_train]\n",
    "    CONSTRUCTOR_KEYWORD_ARGS = {},\n",
    "    FIT_POSITIONAL_ARGS = [],\n",
    "    FIT_KEYWORD_ARGS = {},\n",
    "    EARLYSTOPPING_KEYWORD_ARGS = {},\n",
    ")\n",
    "\n",
    "recommender_input_args_last_test = SearchInputRecommenderArgs(\n",
    "    CONSTRUCTOR_POSITIONAL_ARGS = [URM_train_validation, recommenders],     # For a CBF model simply put [URM_train_validation, ICM_train]\n",
    "    CONSTRUCTOR_KEYWORD_ARGS = {},\n",
    "    FIT_POSITIONAL_ARGS = [],\n",
    "    FIT_KEYWORD_ARGS = {},\n",
    "    EARLYSTOPPING_KEYWORD_ARGS = {},\n",
    ")"
   ]
  },
  {
   "cell_type": "code",
   "execution_count": 137,
   "metadata": {},
   "outputs": [
    {
     "name": "stdout",
     "output_type": "stream",
     "text": [
      "EvaluatorHoldout: Ignoring 759 ( 1.8%) Users that have less than 1 test interactions\n",
      "EvaluatorHoldout: Ignoring 322 ( 0.8%) Users that have less than 1 test interactions\n"
     ]
    }
   ],
   "source": [
    "from src.Evaluation.Evaluator import EvaluatorHoldout\n",
    "\n",
    "evaluator_validation = EvaluatorHoldout(URM_validation, cutoff_list=[10])\n",
    "evaluator_test = EvaluatorHoldout(URM_test, cutoff_list=[10])"
   ]
  },
  {
   "cell_type": "code",
   "execution_count": 138,
   "metadata": {},
   "outputs": [],
   "source": [
    "from src.HyperparameterTuning.SearchBayesianSkopt import SearchBayesianSkopt\n",
    "\n",
    "recommender_class = CustomHybridRecommender\n",
    "\n",
    "hyperparameterSearch = SearchBayesianSkopt(\n",
    "    recommender_class,\n",
    "    evaluator_validation=evaluator_validation,\n",
    "    evaluator_test=evaluator_test\n",
    ")"
   ]
  },
  {
   "cell_type": "code",
   "execution_count": 139,
   "metadata": {},
   "outputs": [
    {
     "name": "stdout",
     "output_type": "stream",
     "text": [
      "Iteration No: 1 started. Evaluating function at random point.\n",
      "SearchBayesianSkopt: Testing config: {'alpha1': 0.5964026484014824, 'alpha2': 0.7970223308985851}\n",
      "CustomHybridRecommender: URM Detected 3461 (12.4%) items with no interactions.\n",
      "EvaluatorHoldout: Processed 40870 (100.0%) in 1.98 min. Users per second: 343\n",
      "SearchBayesianSkopt: New best config found. Config 0: {'alpha1': 0.5964026484014824, 'alpha2': 0.7970223308985851} - results: PRECISION: 0.0861023, PRECISION_RECALL_MIN_DEN: 0.1947186, RECALL: 0.1885394, MAP: 0.0480564, MAP_MIN_DEN: 0.1145472, MRR: 0.2304163, NDCG: 0.1668815, F1: 0.1182171, HIT_RATE: 0.4685588, ARHR_ALL_HITS: 0.3292959, NOVELTY: 0.0036647, AVERAGE_POPULARITY: 0.2514268, DIVERSITY_MEAN_INTER_LIST: 0.8781306, DIVERSITY_HERFINDAHL: 0.9878109, COVERAGE_ITEM: 0.5435855, COVERAGE_ITEM_HIT: 0.4772597, ITEMS_IN_GT: 0.8718535, COVERAGE_USER: 0.9817675, COVERAGE_USER_HIT: 0.4600159, USERS_IN_GT: 0.9817675, DIVERSITY_GINI: 0.0328570, SHANNON_ENTROPY: 8.2445473, RATIO_DIVERSITY_HERFINDAHL: 0.9881368, RATIO_DIVERSITY_GINI: 0.0744446, RATIO_SHANNON_ENTROPY: 0.6111786, RATIO_AVERAGE_POPULARITY: 4.9748120, RATIO_NOVELTY: 0.3178992, \n",
      "\n",
      "EvaluatorHoldout: Processed 41307 (100.0%) in 1.94 min. Users per second: 355\n",
      "SearchBayesianSkopt: Config evaluated with evaluator_test. Config: {'alpha1': 0.5964026484014824, 'alpha2': 0.7970223308985851} - results:\n",
      "CUTOFF: 10 - PRECISION: 0.0433776, PRECISION_RECALL_MIN_DEN: 0.0569292, RECALL: 0.0485588, MAP: 0.0166973, MAP_MIN_DEN: 0.0210459, MRR: 0.1048249, NDCG: 0.0513825, F1: 0.0458222, HIT_RATE: 0.2858595, ARHR_ALL_HITS: 0.1317229, NOVELTY: 0.0036640, AVERAGE_POPULARITY: 0.2513895, DIVERSITY_MEAN_INTER_LIST: 0.8782511, DIVERSITY_HERFINDAHL: 0.9878230, COVERAGE_ITEM: 0.5403676, COVERAGE_ITEM_HIT: 0.0319651, ITEMS_IN_GT: 0.8747140, COVERAGE_USER: 0.9922650, COVERAGE_USER_HIT: 0.2836484, USERS_IN_GT: 0.9922650, DIVERSITY_GINI: 0.0323047, SHANNON_ENTROPY: 8.2424966, RATIO_DIVERSITY_HERFINDAHL: 0.9881489, RATIO_DIVERSITY_GINI: 0.0731932, RATIO_SHANNON_ENTROPY: 0.6110266, RATIO_AVERAGE_POPULARITY: 4.9740750, RATIO_NOVELTY: 0.3178376, \n",
      "\n",
      "\n",
      "Iteration No: 1 ended. Evaluation done at random point.\n",
      "Time taken: 235.5458\n",
      "Function value obtained: -0.0481\n",
      "Current minimum: -0.0481\n",
      "Iteration No: 2 started. Evaluating function at random point.\n",
      "SearchBayesianSkopt: Testing config: {'alpha1': 0.09231670936727389, 'alpha2': 0.7404675099674527}\n",
      "CustomHybridRecommender: URM Detected 3461 (12.4%) items with no interactions.\n",
      "EvaluatorHoldout: Processed 40870 (100.0%) in 1.85 min. Users per second: 368\n",
      "SearchBayesianSkopt: New best config found. Config 1: {'alpha1': 0.09231670936727389, 'alpha2': 0.7404675099674527} - results: PRECISION: 0.1173501, PRECISION_RECALL_MIN_DEN: 0.2948466, RECALL: 0.2890325, MAP: 0.0699279, MAP_MIN_DEN: 0.1850932, MRR: 0.2991681, NDCG: 0.2458337, F1: 0.1669264, HIT_RATE: 0.5779545, ARHR_ALL_HITS: 0.4524284, NOVELTY: 0.0036462, AVERAGE_POPULARITY: 0.2656584, DIVERSITY_MEAN_INTER_LIST: 0.8632248, DIVERSITY_HERFINDAHL: 0.9863204, COVERAGE_ITEM: 0.6531393, COVERAGE_ITEM_HIT: 0.6276459, ITEMS_IN_GT: 0.8718535, COVERAGE_USER: 0.9817675, COVERAGE_USER_HIT: 0.5674169, USERS_IN_GT: 0.9817675, DIVERSITY_GINI: 0.0464314, SHANNON_ENTROPY: 8.2215493, RATIO_DIVERSITY_HERFINDAHL: 0.9866458, RATIO_DIVERSITY_GINI: 0.1052002, RATIO_SHANNON_ENTROPY: 0.6094737, RATIO_AVERAGE_POPULARITY: 5.2564036, RATIO_NOVELTY: 0.3162912, \n",
      "\n",
      "EvaluatorHoldout: Processed 41307 (100.0%) in 1.85 min. Users per second: 372\n",
      "SearchBayesianSkopt: Config evaluated with evaluator_test. Config: {'alpha1': 0.09231670936727389, 'alpha2': 0.7404675099674527} - results:\n",
      "CUTOFF: 10 - PRECISION: 0.0484083, PRECISION_RECALL_MIN_DEN: 0.0647331, RECALL: 0.0558600, MAP: 0.0197277, MAP_MIN_DEN: 0.0253491, MRR: 0.1265373, NDCG: 0.0601068, F1: 0.0518679, HIT_RATE: 0.3192195, ARHR_ALL_HITS: 0.1572295, NOVELTY: 0.0036440, AVERAGE_POPULARITY: 0.2658229, DIVERSITY_MEAN_INTER_LIST: 0.8631473, DIVERSITY_HERFINDAHL: 0.9863126, COVERAGE_ITEM: 0.6495995, COVERAGE_ITEM_HIT: 0.0299986, ITEMS_IN_GT: 0.8747140, COVERAGE_USER: 0.9922650, COVERAGE_USER_HIT: 0.3167503, USERS_IN_GT: 0.9922650, DIVERSITY_GINI: 0.0454414, SHANNON_ENTROPY: 8.2118315, RATIO_DIVERSITY_HERFINDAHL: 0.9866381, RATIO_DIVERSITY_GINI: 0.1029572, RATIO_SHANNON_ENTROPY: 0.6087533, RATIO_AVERAGE_POPULARITY: 5.2596583, RATIO_NOVELTY: 0.3160991, \n",
      "\n",
      "\n",
      "Iteration No: 2 ended. Evaluation done at random point.\n",
      "Time taken: 222.5109\n",
      "Function value obtained: -0.0699\n",
      "Current minimum: -0.0699\n",
      "Iteration No: 3 started. Evaluating function at random point.\n",
      "SearchBayesianSkopt: Testing config: {'alpha1': 0.3532573012093169, 'alpha2': 0.9847760653689032}\n",
      "CustomHybridRecommender: URM Detected 3461 (12.4%) items with no interactions.\n",
      "EvaluatorHoldout: Processed 40870 (100.0%) in 1.71 min. Users per second: 398\n",
      "SearchBayesianSkopt: Config 2 is suboptimal. Config: {'alpha1': 0.3532573012093169, 'alpha2': 0.9847760653689032} - results: PRECISION: 0.0971275, PRECISION_RECALL_MIN_DEN: 0.2300311, RECALL: 0.2239657, MAP: 0.0556266, MAP_MIN_DEN: 0.1387702, MRR: 0.2559025, NDCG: 0.1946745, F1: 0.1354948, HIT_RATE: 0.5091999, ARHR_ALL_HITS: 0.3732441, NOVELTY: 0.0036558, AVERAGE_POPULARITY: 0.2572992, DIVERSITY_MEAN_INTER_LIST: 0.8722265, DIVERSITY_HERFINDAHL: 0.9872205, COVERAGE_ITEM: 0.5875286, COVERAGE_ITEM_HIT: 0.5396882, ITEMS_IN_GT: 0.8718535, COVERAGE_USER: 0.9817675, COVERAGE_USER_HIT: 0.4999159, USERS_IN_GT: 0.9817675, DIVERSITY_GINI: 0.0374294, SHANNON_ENTROPY: 8.2270449, RATIO_DIVERSITY_HERFINDAHL: 0.9875463, RATIO_DIVERSITY_GINI: 0.0848043, RATIO_SHANNON_ENTROPY: 0.6098811, RATIO_AVERAGE_POPULARITY: 5.0910044, RATIO_NOVELTY: 0.3171275, \n",
      "\n",
      "Iteration No: 3 ended. Evaluation done at random point.\n",
      "Time taken: 102.8607\n",
      "Function value obtained: -0.0556\n",
      "Current minimum: -0.0699\n",
      "Iteration No: 4 started. Evaluating function at random point.\n",
      "SearchBayesianSkopt: Testing config: {'alpha1': 0.0038175431007564384, 'alpha2': 0.7874910478021837}\n",
      "CustomHybridRecommender: URM Detected 3461 (12.4%) items with no interactions.\n",
      "EvaluatorHoldout: Processed 40870 (100.0%) in 1.79 min. Users per second: 381\n",
      "SearchBayesianSkopt: New best config found. Config 3: {'alpha1': 0.0038175431007564384, 'alpha2': 0.7874910478021837} - results: PRECISION: 0.1441424, PRECISION_RECALL_MIN_DEN: 0.3763764, RECALL: 0.3711076, MAP: 0.0883224, MAP_MIN_DEN: 0.2422357, MRR: 0.3546105, NDCG: 0.3104037, F1: 0.2076365, HIT_RATE: 0.6639589, ARHR_ALL_HITS: 0.5543075, NOVELTY: 0.0036463, AVERAGE_POPULARITY: 0.2725979, DIVERSITY_MEAN_INTER_LIST: 0.8550219, DIVERSITY_HERFINDAHL: 0.9855001, COVERAGE_ITEM: 0.7164259, COVERAGE_ITEM_HIT: 0.7018736, ITEMS_IN_GT: 0.8718535, COVERAGE_USER: 0.9817675, COVERAGE_USER_HIT: 0.6518533, USERS_IN_GT: 0.9817675, DIVERSITY_GINI: 0.0602115, SHANNON_ENTROPY: 8.2754569, RATIO_DIVERSITY_HERFINDAHL: 0.9858253, RATIO_DIVERSITY_GINI: 0.1364220, RATIO_SHANNON_ENTROPY: 0.6134700, RATIO_AVERAGE_POPULARITY: 5.3937105, RATIO_NOVELTY: 0.3162999, \n",
      "\n",
      "EvaluatorHoldout: Processed 41307 (100.0%) in 1.86 min. Users per second: 371\n",
      "SearchBayesianSkopt: Config evaluated with evaluator_test. Config: {'alpha1': 0.0038175431007564384, 'alpha2': 0.7874910478021837} - results:\n",
      "CUTOFF: 10 - PRECISION: 0.0511076, PRECISION_RECALL_MIN_DEN: 0.0691052, RECALL: 0.0599691, MAP: 0.0214192, MAP_MIN_DEN: 0.0279523, MRR: 0.1391019, NDCG: 0.0651463, F1: 0.0551848, HIT_RATE: 0.3385867, ARHR_ALL_HITS: 0.1717493, NOVELTY: 0.0036430, AVERAGE_POPULARITY: 0.2729065, DIVERSITY_MEAN_INTER_LIST: 0.8548120, DIVERSITY_HERFINDAHL: 0.9854791, COVERAGE_ITEM: 0.7133152, COVERAGE_ITEM_HIT: 0.0281035, ITEMS_IN_GT: 0.8747140, COVERAGE_USER: 0.9922650, COVERAGE_USER_HIT: 0.3359677, USERS_IN_GT: 0.9922650, DIVERSITY_GINI: 0.0589791, SHANNON_ENTROPY: 8.2612628, RATIO_DIVERSITY_HERFINDAHL: 0.9858043, RATIO_DIVERSITY_GINI: 0.1336298, RATIO_SHANNON_ENTROPY: 0.6124178, RATIO_AVERAGE_POPULARITY: 5.3998169, RATIO_NOVELTY: 0.3160151, \n",
      "\n",
      "\n",
      "Iteration No: 4 ended. Evaluation done at random point.\n",
      "Time taken: 219.0157\n",
      "Function value obtained: -0.0883\n",
      "Current minimum: -0.0883\n",
      "Iteration No: 5 started. Evaluating function at random point.\n",
      "SearchBayesianSkopt: Testing config: {'alpha1': 0.7178949555038342, 'alpha2': 0.07259154721502016}\n",
      "CustomHybridRecommender: URM Detected 3461 (12.4%) items with no interactions.\n",
      "EvaluatorHoldout: Processed 40870 (100.0%) in 1.85 min. Users per second: 368\n",
      "SearchBayesianSkopt: Config 4 is suboptimal. Config: {'alpha1': 0.7178949555038342, 'alpha2': 0.07259154721502016} - results: PRECISION: 0.0744042, PRECISION_RECALL_MIN_DEN: 0.1573413, RECALL: 0.1510769, MAP: 0.0399409, MAP_MIN_DEN: 0.0888077, MRR: 0.1976986, NDCG: 0.1361553, F1: 0.0997046, HIT_RATE: 0.4175434, ARHR_ALL_HITS: 0.2780302, NOVELTY: 0.0036811, AVERAGE_POPULARITY: 0.2419069, DIVERSITY_MEAN_INTER_LIST: 0.8869732, DIVERSITY_HERFINDAHL: 0.9886951, COVERAGE_ITEM: 0.4935283, COVERAGE_ITEM_HIT: 0.4075729, ITEMS_IN_GT: 0.8718535, COVERAGE_USER: 0.9817675, COVERAGE_USER_HIT: 0.4099306, USERS_IN_GT: 0.9817675, DIVERSITY_GINI: 0.0285441, SHANNON_ENTROPY: 8.2892786, RATIO_DIVERSITY_HERFINDAHL: 0.9890214, RATIO_DIVERSITY_GINI: 0.0646728, RATIO_SHANNON_ENTROPY: 0.6144946, RATIO_AVERAGE_POPULARITY: 4.7864480, RATIO_NOVELTY: 0.3193197, \n",
      "\n",
      "Iteration No: 5 ended. Evaluation done at random point.\n",
      "Time taken: 111.3119\n",
      "Function value obtained: -0.0399\n",
      "Current minimum: -0.0883\n",
      "Iteration No: 6 started. Evaluating function at random point.\n",
      "SearchBayesianSkopt: Testing config: {'alpha1': 0.901375671273744, 'alpha2': 0.8546215315552036}\n",
      "CustomHybridRecommender: URM Detected 3461 (12.4%) items with no interactions.\n",
      "EvaluatorHoldout: Processed 40870 (100.0%) in 1.76 min. Users per second: 388\n",
      "SearchBayesianSkopt: Config 5 is suboptimal. Config: {'alpha1': 0.901375671273744, 'alpha2': 0.8546215315552036} - results: PRECISION: 0.0825275, PRECISION_RECALL_MIN_DEN: 0.1833749, RECALL: 0.1771614, MAP: 0.0456920, MAP_MIN_DEN: 0.1070381, MRR: 0.2218008, NDCG: 0.1579620, F1: 0.1126016, HIT_RATE: 0.4546611, ARHR_ALL_HITS: 0.3150198, NOVELTY: 0.0036684, AVERAGE_POPULARITY: 0.2491917, DIVERSITY_MEAN_INTER_LIST: 0.8802822, DIVERSITY_HERFINDAHL: 0.9880261, COVERAGE_ITEM: 0.5286399, COVERAGE_ITEM_HIT: 0.4556279, ITEMS_IN_GT: 0.8718535, COVERAGE_USER: 0.9817675, COVERAGE_USER_HIT: 0.4463715, USERS_IN_GT: 0.9817675, DIVERSITY_GINI: 0.0314509, SHANNON_ENTROPY: 8.2528782, RATIO_DIVERSITY_HERFINDAHL: 0.9883521, RATIO_DIVERSITY_GINI: 0.0712586, RATIO_SHANNON_ENTROPY: 0.6117962, RATIO_AVERAGE_POPULARITY: 4.9305879, RATIO_NOVELTY: 0.3182175, \n",
      "\n",
      "Iteration No: 6 ended. Evaluation done at random point.\n",
      "Time taken: 105.6922\n",
      "Function value obtained: -0.0457\n",
      "Current minimum: -0.0883\n",
      "Iteration No: 7 started. Evaluating function at random point.\n",
      "SearchBayesianSkopt: Testing config: {'alpha1': 0.942801296858987, 'alpha2': 0.08859718462001588}\n",
      "CustomHybridRecommender: URM Detected 3461 (12.4%) items with no interactions.\n"
     ]
    },
    {
     "ename": "KeyboardInterrupt",
     "evalue": "",
     "output_type": "error",
     "traceback": [
      "\u001b[0;31m---------------------------------------------------------------------------\u001b[0m",
      "\u001b[0;31mKeyboardInterrupt\u001b[0m                         Traceback (most recent call last)",
      "\u001b[0;32m/tmp/ipykernel_18500/2421286576.py\u001b[0m in \u001b[0;36m<module>\u001b[0;34m\u001b[0m\n\u001b[0;32m----> 1\u001b[0;31m hyperparameterSearch.search(\n\u001b[0m\u001b[1;32m      2\u001b[0m        \u001b[0mrecommender_input_args\u001b[0m\u001b[0;34m,\u001b[0m\u001b[0;34m\u001b[0m\u001b[0;34m\u001b[0m\u001b[0m\n\u001b[1;32m      3\u001b[0m        \u001b[0mrecommender_input_args_last_test\u001b[0m \u001b[0;34m=\u001b[0m \u001b[0mrecommender_input_args_last_test\u001b[0m\u001b[0;34m,\u001b[0m\u001b[0;34m\u001b[0m\u001b[0;34m\u001b[0m\u001b[0m\n\u001b[1;32m      4\u001b[0m        \u001b[0mhyperparameter_search_space\u001b[0m \u001b[0;34m=\u001b[0m \u001b[0mhyperparameters_range_dictionary\u001b[0m\u001b[0;34m,\u001b[0m\u001b[0;34m\u001b[0m\u001b[0;34m\u001b[0m\u001b[0m\n\u001b[1;32m      5\u001b[0m        \u001b[0mn_cases\u001b[0m \u001b[0;34m=\u001b[0m \u001b[0mn_cases\u001b[0m\u001b[0;34m,\u001b[0m\u001b[0;34m\u001b[0m\u001b[0;34m\u001b[0m\u001b[0m\n",
      "\u001b[0;32m~/Documents/university/recsys-challenge-2022/src/HyperparameterTuning/SearchBayesianSkopt.py\u001b[0m in \u001b[0;36msearch\u001b[0;34m(self, recommender_input_args, hyperparameter_search_space, metric_to_optimize, cutoff_to_optimize, n_cases, n_random_starts, output_folder_path, output_file_name_root, save_model, save_metadata, resume_from_saved, recommender_input_args_last_test, evaluate_on_test, max_total_time, terminate_on_memory_error)\u001b[0m\n\u001b[1;32m    350\u001b[0m                 \u001b[0;31m# of \"Searching for the next optimal point\". This may be due to a bug in the print rather than the underlying process\u001b[0m\u001b[0;34m\u001b[0m\u001b[0;34m\u001b[0m\u001b[0m\n\u001b[1;32m    351\u001b[0m                 \u001b[0;31m# https://github.com/scikit-optimize/scikit-optimize/issues/949\u001b[0m\u001b[0;34m\u001b[0m\u001b[0;34m\u001b[0m\u001b[0m\n\u001b[0;32m--> 352\u001b[0;31m                 self.result = gp_minimize(self._objective_function_list_input,\n\u001b[0m\u001b[1;32m    353\u001b[0m                                           \u001b[0mself\u001b[0m\u001b[0;34m.\u001b[0m\u001b[0mhyperparams_values\u001b[0m\u001b[0;34m,\u001b[0m\u001b[0;34m\u001b[0m\u001b[0;34m\u001b[0m\u001b[0m\n\u001b[1;32m    354\u001b[0m                                           \u001b[0mbase_estimator\u001b[0m\u001b[0;34m=\u001b[0m\u001b[0;32mNone\u001b[0m\u001b[0;34m,\u001b[0m\u001b[0;34m\u001b[0m\u001b[0;34m\u001b[0m\u001b[0m\n",
      "\u001b[0;32m~/.local/lib/python3.10/site-packages/skopt/optimizer/gp.py\u001b[0m in \u001b[0;36mgp_minimize\u001b[0;34m(func, dimensions, base_estimator, n_calls, n_random_starts, n_initial_points, initial_point_generator, acq_func, acq_optimizer, x0, y0, random_state, verbose, callback, n_points, n_restarts_optimizer, xi, kappa, noise, n_jobs, model_queue_size)\u001b[0m\n\u001b[1;32m    257\u001b[0m             noise=noise)\n\u001b[1;32m    258\u001b[0m \u001b[0;34m\u001b[0m\u001b[0m\n\u001b[0;32m--> 259\u001b[0;31m     return base_minimize(\n\u001b[0m\u001b[1;32m    260\u001b[0m         \u001b[0mfunc\u001b[0m\u001b[0;34m,\u001b[0m \u001b[0mspace\u001b[0m\u001b[0;34m,\u001b[0m \u001b[0mbase_estimator\u001b[0m\u001b[0;34m=\u001b[0m\u001b[0mbase_estimator\u001b[0m\u001b[0;34m,\u001b[0m\u001b[0;34m\u001b[0m\u001b[0;34m\u001b[0m\u001b[0m\n\u001b[1;32m    261\u001b[0m         \u001b[0macq_func\u001b[0m\u001b[0;34m=\u001b[0m\u001b[0macq_func\u001b[0m\u001b[0;34m,\u001b[0m\u001b[0;34m\u001b[0m\u001b[0;34m\u001b[0m\u001b[0m\n",
      "\u001b[0;32m~/.local/lib/python3.10/site-packages/skopt/optimizer/base.py\u001b[0m in \u001b[0;36mbase_minimize\u001b[0;34m(func, dimensions, base_estimator, n_calls, n_random_starts, n_initial_points, initial_point_generator, acq_func, acq_optimizer, x0, y0, random_state, verbose, callback, n_points, n_restarts_optimizer, xi, kappa, n_jobs, model_queue_size)\u001b[0m\n\u001b[1;32m    297\u001b[0m     \u001b[0;32mfor\u001b[0m \u001b[0mn\u001b[0m \u001b[0;32min\u001b[0m \u001b[0mrange\u001b[0m\u001b[0;34m(\u001b[0m\u001b[0mn_calls\u001b[0m\u001b[0;34m)\u001b[0m\u001b[0;34m:\u001b[0m\u001b[0;34m\u001b[0m\u001b[0;34m\u001b[0m\u001b[0m\n\u001b[1;32m    298\u001b[0m         \u001b[0mnext_x\u001b[0m \u001b[0;34m=\u001b[0m \u001b[0moptimizer\u001b[0m\u001b[0;34m.\u001b[0m\u001b[0mask\u001b[0m\u001b[0;34m(\u001b[0m\u001b[0;34m)\u001b[0m\u001b[0;34m\u001b[0m\u001b[0;34m\u001b[0m\u001b[0m\n\u001b[0;32m--> 299\u001b[0;31m         \u001b[0mnext_y\u001b[0m \u001b[0;34m=\u001b[0m \u001b[0mfunc\u001b[0m\u001b[0;34m(\u001b[0m\u001b[0mnext_x\u001b[0m\u001b[0;34m)\u001b[0m\u001b[0;34m\u001b[0m\u001b[0;34m\u001b[0m\u001b[0m\n\u001b[0m\u001b[1;32m    300\u001b[0m         \u001b[0mresult\u001b[0m \u001b[0;34m=\u001b[0m \u001b[0moptimizer\u001b[0m\u001b[0;34m.\u001b[0m\u001b[0mtell\u001b[0m\u001b[0;34m(\u001b[0m\u001b[0mnext_x\u001b[0m\u001b[0;34m,\u001b[0m \u001b[0mnext_y\u001b[0m\u001b[0;34m)\u001b[0m\u001b[0;34m\u001b[0m\u001b[0;34m\u001b[0m\u001b[0m\n\u001b[1;32m    301\u001b[0m         \u001b[0mresult\u001b[0m\u001b[0;34m.\u001b[0m\u001b[0mspecs\u001b[0m \u001b[0;34m=\u001b[0m \u001b[0mspecs\u001b[0m\u001b[0;34m\u001b[0m\u001b[0;34m\u001b[0m\u001b[0m\n",
      "\u001b[0;32m~/Documents/university/recsys-challenge-2022/src/HyperparameterTuning/SearchBayesianSkopt.py\u001b[0m in \u001b[0;36m_objective_function_list_input\u001b[0;34m(self, current_fit_hyperparameters_list_of_values)\u001b[0m\n\u001b[1;32m    424\u001b[0m         current_fit_hyperparameters_dict = dict(\n\u001b[1;32m    425\u001b[0m             zip(self.hyperparams_names, current_fit_hyperparameters_list_of_values))\n\u001b[0;32m--> 426\u001b[0;31m         \u001b[0mresult\u001b[0m \u001b[0;34m=\u001b[0m \u001b[0mself\u001b[0m\u001b[0;34m.\u001b[0m\u001b[0m_objective_function\u001b[0m\u001b[0;34m(\u001b[0m\u001b[0mcurrent_fit_hyperparameters_dict\u001b[0m\u001b[0;34m)\u001b[0m\u001b[0;34m\u001b[0m\u001b[0;34m\u001b[0m\u001b[0m\n\u001b[0m\u001b[1;32m    427\u001b[0m \u001b[0;34m\u001b[0m\u001b[0m\n\u001b[1;32m    428\u001b[0m         \u001b[0;31m# The search can only progress if there is at least a valid config in the initial random start\u001b[0m\u001b[0;34m\u001b[0m\u001b[0;34m\u001b[0m\u001b[0m\n",
      "\u001b[0;32m~/Documents/university/recsys-challenge-2022/src/HyperparameterTuning/SearchAbstractClass.py\u001b[0m in \u001b[0;36m_objective_function\u001b[0;34m(self, current_fit_hyperparameters_dict)\u001b[0m\n\u001b[1;32m    559\u001b[0m         \u001b[0;32mexcept\u001b[0m \u001b[0;34m(\u001b[0m\u001b[0mKeyboardInterrupt\u001b[0m\u001b[0;34m,\u001b[0m \u001b[0mSystemExit\u001b[0m\u001b[0;34m)\u001b[0m \u001b[0;32mas\u001b[0m \u001b[0me\u001b[0m\u001b[0;34m:\u001b[0m\u001b[0;34m\u001b[0m\u001b[0;34m\u001b[0m\u001b[0m\n\u001b[1;32m    560\u001b[0m             \u001b[0;31m# If getting a interrupt, terminate without saving the exception\u001b[0m\u001b[0;34m\u001b[0m\u001b[0;34m\u001b[0m\u001b[0m\n\u001b[0;32m--> 561\u001b[0;31m             \u001b[0;32mraise\u001b[0m \u001b[0me\u001b[0m\u001b[0;34m\u001b[0m\u001b[0;34m\u001b[0m\u001b[0m\n\u001b[0m\u001b[1;32m    562\u001b[0m \u001b[0;34m\u001b[0m\u001b[0m\n\u001b[1;32m    563\u001b[0m         \u001b[0;31m# Catch exception only if terminate_on_memory_error is True\u001b[0m\u001b[0;34m\u001b[0m\u001b[0;34m\u001b[0m\u001b[0m\n",
      "\u001b[0;32m~/Documents/university/recsys-challenge-2022/src/HyperparameterTuning/SearchAbstractClass.py\u001b[0m in \u001b[0;36m_objective_function\u001b[0;34m(self, current_fit_hyperparameters_dict)\u001b[0m\n\u001b[1;32m    482\u001b[0m             was_already_evaluated_flag, was_already_evaluated_index = self._was_already_evaluated_check(\n\u001b[1;32m    483\u001b[0m                 current_fit_hyperparameters_dict)\n\u001b[0;32m--> 484\u001b[0;31m             result_df, recommender_instance = self._evaluate_on_validation(\n\u001b[0m\u001b[1;32m    485\u001b[0m                 current_fit_hyperparameters_dict, was_already_evaluated_flag, was_already_evaluated_index)\n\u001b[1;32m    486\u001b[0m \u001b[0;34m\u001b[0m\u001b[0m\n",
      "\u001b[0;32m~/Documents/university/recsys-challenge-2022/src/HyperparameterTuning/SearchAbstractClass.py\u001b[0m in \u001b[0;36m_evaluate_on_validation\u001b[0;34m(self, current_fit_hyperparameters, was_already_evaluated_flag, was_already_evaluated_index)\u001b[0m\n\u001b[1;32m    324\u001b[0m \u001b[0;34m\u001b[0m\u001b[0m\n\u001b[1;32m    325\u001b[0m             \u001b[0;31m# Evaluate recommender and get results for the first cutoff\u001b[0m\u001b[0;34m\u001b[0m\u001b[0;34m\u001b[0m\u001b[0m\n\u001b[0;32m--> 326\u001b[0;31m             result_df, _ = self.evaluator_validation.evaluateRecommender(\n\u001b[0m\u001b[1;32m    327\u001b[0m                 recommender_instance)\n\u001b[1;32m    328\u001b[0m \u001b[0;34m\u001b[0m\u001b[0m\n",
      "\u001b[0;32m~/Documents/university/recsys-challenge-2022/src/Evaluation/Evaluator.py\u001b[0m in \u001b[0;36mevaluateRecommender\u001b[0;34m(self, recommender_object)\u001b[0m\n\u001b[1;32m    286\u001b[0m         \u001b[0mself\u001b[0m\u001b[0;34m.\u001b[0m\u001b[0m_n_users_evaluated\u001b[0m \u001b[0;34m=\u001b[0m \u001b[0;36m0\u001b[0m\u001b[0;34m\u001b[0m\u001b[0;34m\u001b[0m\u001b[0m\n\u001b[1;32m    287\u001b[0m \u001b[0;34m\u001b[0m\u001b[0m\n\u001b[0;32m--> 288\u001b[0;31m         results_dict = self._run_evaluation_on_selected_users(\n\u001b[0m\u001b[1;32m    289\u001b[0m             recommender_object, self.users_to_evaluate)\n\u001b[1;32m    290\u001b[0m \u001b[0;34m\u001b[0m\u001b[0m\n",
      "\u001b[0;32m~/Documents/university/recsys-challenge-2022/src/Evaluation/Evaluator.py\u001b[0m in \u001b[0;36m_run_evaluation_on_selected_users\u001b[0;34m(self, recommender_object, users_to_evaluate, block_size)\u001b[0m\n\u001b[1;32m    500\u001b[0m \u001b[0;34m\u001b[0m\u001b[0m\n\u001b[1;32m    501\u001b[0m             \u001b[0;31m# Compute predictions for a batch of users using vectorization, much more efficient than computing it one at a time\u001b[0m\u001b[0;34m\u001b[0m\u001b[0;34m\u001b[0m\u001b[0m\n\u001b[0;32m--> 502\u001b[0;31m             recommended_items_batch_list, scores_batch = recommender_object.recommend(test_user_batch_array,\n\u001b[0m\u001b[1;32m    503\u001b[0m                                                                                       \u001b[0mremove_seen_flag\u001b[0m\u001b[0;34m=\u001b[0m\u001b[0mself\u001b[0m\u001b[0;34m.\u001b[0m\u001b[0mexclude_seen\u001b[0m\u001b[0;34m,\u001b[0m\u001b[0;34m\u001b[0m\u001b[0;34m\u001b[0m\u001b[0m\n\u001b[1;32m    504\u001b[0m                                                                                       \u001b[0mcutoff\u001b[0m\u001b[0;34m=\u001b[0m\u001b[0mself\u001b[0m\u001b[0;34m.\u001b[0m\u001b[0mmax_cutoff\u001b[0m\u001b[0;34m,\u001b[0m\u001b[0;34m\u001b[0m\u001b[0;34m\u001b[0m\u001b[0m\n",
      "\u001b[0;32m~/Documents/university/recsys-challenge-2022/src/Recommenders/BaseRecommender.py\u001b[0m in \u001b[0;36mrecommend\u001b[0;34m(self, user_id_array, cutoff, remove_seen_flag, items_to_compute, remove_top_pop_flag, remove_custom_items_flag, return_scores)\u001b[0m\n\u001b[1;32m    162\u001b[0m         \u001b[0;31m# - Get the original item index\u001b[0m\u001b[0;34m\u001b[0m\u001b[0;34m\u001b[0m\u001b[0m\n\u001b[1;32m    163\u001b[0m         \u001b[0;31m# relevant_items_partition is block_size x cutoff\u001b[0m\u001b[0;34m\u001b[0m\u001b[0;34m\u001b[0m\u001b[0m\n\u001b[0;32m--> 164\u001b[0;31m         relevant_items_partition = np.argpartition(\n\u001b[0m\u001b[1;32m    165\u001b[0m             -scores_batch, cutoff-1, axis=1)[:, 0:cutoff]\n\u001b[1;32m    166\u001b[0m \u001b[0;34m\u001b[0m\u001b[0m\n",
      "\u001b[0;32m<__array_function__ internals>\u001b[0m in \u001b[0;36margpartition\u001b[0;34m(*args, **kwargs)\u001b[0m\n",
      "\u001b[0;31mKeyboardInterrupt\u001b[0m: "
     ]
    }
   ],
   "source": [
    "hyperparameterSearch.search(\n",
    "       recommender_input_args,\n",
    "       recommender_input_args_last_test = recommender_input_args_last_test,\n",
    "       hyperparameter_search_space = hyperparameters_range_dictionary,\n",
    "       n_cases = n_cases,\n",
    "       n_random_starts = n_random_starts,\n",
    "       save_model = \"last\",\n",
    "       output_folder_path = output_folder_path, # Where to save the results\n",
    "       output_file_name_root = recommender_class.RECOMMENDER_NAME, # How to call the files\n",
    "       metric_to_optimize = metric_to_optimize,\n",
    "       cutoff_to_optimize = cutoff_to_optimize,\n",
    ")"
   ]
  },
  {
   "attachments": {},
   "cell_type": "markdown",
   "metadata": {},
   "source": [
    "### Save recommendations"
   ]
  },
  {
   "cell_type": "code",
   "execution_count": 140,
   "metadata": {},
   "outputs": [
    {
     "name": "stdout",
     "output_type": "stream",
     "text": [
      "ItemKNNCFRecommender: URM Detected 3461 (12.4%) items with no interactions.\n",
      "ItemKNNCFRecommender: Loading model from file 'tuner/P3alphaRecommender_best_model_last.zip'\n",
      "ItemKNNCFRecommender: Loading complete\n",
      "Saving recommendations finished!                                                                    \n",
      "Saving recommendations    41600 of    41116\r"
     ]
    }
   ],
   "source": [
    "from utilities import save_recommendations\n",
    "\n",
    "hybrid_recommender = ItemKNNCFRecommender(URM)\n",
    "hybrid_recommender.load_model(\n",
    "    output_folder_path, \n",
    "    file_name=rec.RECOMMENDER_NAME + \"_best_model_last.zip\"\n",
    ")\n",
    "save_recommendations(hybrid_recommender)"
   ]
  }
 ],
 "metadata": {
  "kernelspec": {
   "display_name": "Python 3",
   "language": "python",
   "name": "python3"
  },
  "language_info": {
   "codemirror_mode": {
    "name": "ipython",
    "version": 3
   },
   "file_extension": ".py",
   "mimetype": "text/x-python",
   "name": "python",
   "nbconvert_exporter": "python",
   "pygments_lexer": "ipython3",
   "version": "3.10.7"
  },
  "orig_nbformat": 4,
  "vscode": {
   "interpreter": {
    "hash": "e7370f93d1d0cde622a1f8e1c04877d8463912d04d973331ad4851f04de6915a"
   }
  }
 },
 "nbformat": 4,
 "nbformat_minor": 2
}
