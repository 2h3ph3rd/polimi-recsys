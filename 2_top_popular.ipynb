{
 "cells": [
  {
   "cell_type": "markdown",
   "metadata": {},
   "source": [
    "# Top popular recommender\n",
    "\n",
    "Most popular items are recommended to each user."
   ]
  },
  {
   "cell_type": "markdown",
   "metadata": {},
   "source": [
    "### Import libraries"
   ]
  },
  {
   "cell_type": "code",
   "execution_count": null,
   "metadata": {},
   "outputs": [],
   "source": [
    "import pandas as pd\n",
    "import numpy as np"
   ]
  },
  {
   "cell_type": "markdown",
   "metadata": {},
   "source": [
    "### Read data"
   ]
  },
  {
   "cell_type": "code",
   "execution_count": null,
   "metadata": {},
   "outputs": [],
   "source": [
    "# base path for csv files\n",
    "base_path = \"data\"\n",
    "\n",
    "# interactions_and_impressions.csv\n",
    "# Contains the training set, describing implicit preferences expressed by the users.\n",
    "# user_id : identifier of the user\n",
    "# item_id : identifier of the item (TV series)\n",
    "# impression_list : string containing the items that were present on the screen when the user interacted with the item in column item_id. Not all interactions have a corresponding impressions list.\n",
    "# data : \"0\" if the user watched the item, \"1\" if the user opened the item details page.\n",
    "interactions_df_path = base_path + \"/interactions_and_impressions.csv\"\n",
    "\n",
    "# data_ICM_length.csv \n",
    "# Contains the number of episodes of the items. TV series may have multiple episodes.\n",
    "# item_id : identifier of the item\n",
    "# feature_id : identifier of the feature, only one value (0) exists since this ICM only contains the feature \"length\"\n",
    "# data : number of episodes. Some values may be 0 due to incomplete data.\n",
    "items_length_df_path = base_path + \"/data_ICM_length.csv\"\n",
    "\n",
    "# data_ICM_type.csv:\n",
    "# Contains the type of the items. An item can only have one type.\n",
    "# All types are anonymized and described only by a numerical identifier.\n",
    "# item_id : identifier of the item\n",
    "# feature_id : identifier of the type\n",
    "# data : \"1\" if the item is described by the type\n",
    "items_type_df_path = base_path + \"/data_ICM_type.csv\"\n",
    "\n",
    "# data_target_users_test.csv:\n",
    "# Contains the ids of the users that should appear in your submission file.\n",
    "# The submission file should contain all and only these users.\n",
    "users_df_path = base_path + \"/data_target_users_test.csv\""
   ]
  },
  {
   "cell_type": "code",
   "execution_count": null,
   "metadata": {},
   "outputs": [],
   "source": [
    "dtype = {0: int, 1: int, 2: str, 3: int}\n",
    "interactions_df = pd.read_csv(\n",
    "    filepath_or_buffer=interactions_df_path,\n",
    "    dtype=dtype,\n",
    "    keep_default_na=False  # avoid NaN\n",
    ")\n",
    "items_length_pf = pd.read_csv(filepath_or_buffer=items_length_df_path)\n",
    "items_types_df = pd.read_csv(filepath_or_buffer=items_type_df_path)\n",
    "users_df = pd.read_csv(filepath_or_buffer=users_df_path)\n"
   ]
  },
  {
   "cell_type": "markdown",
   "metadata": {},
   "source": [
    "### Calculate most seen items\n",
    "\n",
    "Accuracy: 0.00154"
   ]
  },
  {
   "cell_type": "code",
   "execution_count": null,
   "metadata": {},
   "outputs": [],
   "source": [
    "class TopPopRecommender(object):\n",
    "\n",
    "    def fit(self, interactions_df):\n",
    "        # avoid error messages\n",
    "        watched_items_df = interactions_df.copy()\n",
    "        \n",
    "        # selecting watched items\n",
    "        watched_items_df = watched_items_df[interactions_df['Data'] == 0]\n",
    "        \n",
    "        # calculate how many times each item has been watched\n",
    "        watched_items_df['Count'] = watched_items_df.groupby(['ItemID'])['ItemID'].transform('count')\n",
    "        \n",
    "        # merge rows with same ItemID to obtain a list of items and watched times\n",
    "        watched_items_df = watched_items_df.groupby(['ItemID']).agg({'ItemID':'first', 'Count':'first'})\n",
    "        \n",
    "        # order items by the most watched\n",
    "        watched_items_df = watched_items_df.sort_values(by='Count', ascending=False)\n",
    "        \n",
    "        self.watched_items_df = watched_items_df\n",
    "\n",
    "    def recommend(self, at=10):\n",
    "        return [self.watched_items_df[0:at]]"
   ]
  },
  {
   "cell_type": "code",
   "execution_count": null,
   "metadata": {},
   "outputs": [],
   "source": [
    "topPopRecommender = TopPopRecommender()\n",
    "topPopRecommender.fit(interactions_df)"
   ]
  },
  {
   "cell_type": "code",
   "execution_count": null,
   "metadata": {},
   "outputs": [],
   "source": [
    "out_df = pd.DataFrame(columns=[\"user_id\", \"item_list\"])\n",
    "num_users = users_df['user_id'].shape[0]\n",
    "count = 0\n",
    "\n",
    "print(num_users, end=\" - \")\n",
    "\n",
    "for user_id in users_df['user_id']:\n",
    "    \n",
    "    items_list = topPopRecommender.recommend(at=10)\n",
    "    items_list = map(str, items_list)\n",
    "    items_list = \" \".join(items_list)\n",
    "    row = pd.DataFrame([[user_id, items_list]], columns=['user_id' , 'item_list'])\n",
    "    out_df = pd.concat([out_df, row])\n",
    "    \n",
    "    count += 1\n",
    "    if count % 1000 == 0:\n",
    "        print(count/num_users, end=\" - \")"
   ]
  },
  {
   "cell_type": "markdown",
   "metadata": {},
   "source": [
    "### Calculate most seen items, but avoid already seen items by the user\n",
    "\n",
    "Accuracy: "
   ]
  },
  {
   "cell_type": "code",
   "execution_count": 325,
   "metadata": {},
   "outputs": [],
   "source": [
    "class TopPopRecommenderAdvanced(object):\n",
    "\n",
    "    def fit(self, interactions_df):\n",
    "        # avoid error messages\n",
    "        watched_items_df = interactions_df.copy()\n",
    "\n",
    "        # selecting watched items\n",
    "        watched_items_df = watched_items_df[watched_items_df['Data'] == 0]\n",
    "\n",
    "        # calculate how many times each item has been watched\n",
    "        watched_items_df['Count'] = watched_items_df.groupby(\n",
    "            ['ItemID'])['ItemID'].transform('count')\n",
    "\n",
    "        # merge rows with same ItemID to obtain a list of items and watched times\n",
    "        popular_items_df = watched_items_df.groupby(\n",
    "            ['ItemID']).agg({'ItemID': 'first', 'Count': 'first'})\n",
    "\n",
    "        # order items by the most watched\n",
    "        popular_items_df = popular_items_df.sort_values(\n",
    "            by='Count', ascending=False)\n",
    "\n",
    "        self.watched_items_df = watched_items_df\n",
    "        self.popular_items_df = popular_items_df\n",
    "\n",
    "    def recommend(self, user_id, at=10):\n",
    "        res = []\n",
    "        count = 0\n",
    "        \n",
    "        df = self.watched_items_df\n",
    "        user_watched_df = df[df['UserID'] == user_id]\n",
    "        \n",
    "        n_items = self.popular_items_df.shape[0]\n",
    "        \n",
    "        # find first ten items not seen by the user\n",
    "        while len(res) < at and count < n_items:\n",
    "            item_id = self.popular_items_df['ItemID'].iloc[count + 1]\n",
    "\n",
    "            # watched items by the user\n",
    "            df = user_watched_df\n",
    "            watched_df = df[df['ItemID'] == item_id]\n",
    "            \n",
    "            # check if not watched\n",
    "            if watched_df.shape[0] == 0:\n",
    "                res.append(item_id)\n",
    "\n",
    "            count += 1\n",
    "        \n",
    "        count = 0\n",
    "        # add items already seen to complete the list\n",
    "        while len(res) < at:\n",
    "            item_id = self.popular_items_df['ItemID'].iloc[count + 1]\n",
    "            \n",
    "            if item_id not in res:\n",
    "                res.append(item_id)\n",
    "\n",
    "        return res"
   ]
  },
  {
   "cell_type": "code",
   "execution_count": 326,
   "metadata": {},
   "outputs": [],
   "source": [
    "recommender = TopPopRecommenderAdvanced()\n",
    "recommender.fit(interactions_df)"
   ]
  },
  {
   "cell_type": "code",
   "execution_count": 329,
   "metadata": {},
   "outputs": [
    {
     "name": "stdout",
     "output_type": "stream",
     "text": [
      "[.........................................] Done!\n"
     ]
    }
   ],
   "source": [
    "out_df = pd.DataFrame(columns=[\"user_id\", \"item_list\"])\n",
    "num_users = users_df['user_id'].shape[0]\n",
    "count = 0\n",
    "\n",
    "print(\"[\", end=\"\")\n",
    "\n",
    "for user_id in users_df['user_id']:\n",
    "    \n",
    "    items_list = recommender.recommend(user_id, at=10)\n",
    "    items_list = map(str, items_list)\n",
    "    items_list = \" \".join(items_list)\n",
    "    row = pd.DataFrame([[user_id, items_list]], columns=['user_id' , 'item_list'])\n",
    "    out_df = pd.concat([out_df, row])\n",
    "    \n",
    "    count += 1\n",
    "    if count % 1000  == 0:\n",
    "        print(\".\", end=\"\")\n",
    "        \n",
    "print(\"] Done!\")"
   ]
  },
  {
   "cell_type": "markdown",
   "metadata": {},
   "source": [
    "### Save result"
   ]
  },
  {
   "cell_type": "code",
   "execution_count": 330,
   "metadata": {},
   "outputs": [],
   "source": [
    "out_df.to_csv(\"submission.csv\", columns=[\"user_id\", \"item_list\"], index=False)"
   ]
  }
 ],
 "metadata": {
  "kernelspec": {
   "display_name": "Python 3.10.7 64-bit",
   "language": "python",
   "name": "python3"
  },
  "language_info": {
   "codemirror_mode": {
    "name": "ipython",
    "version": 3
   },
   "file_extension": ".py",
   "mimetype": "text/x-python",
   "name": "python",
   "nbconvert_exporter": "python",
   "pygments_lexer": "ipython3",
   "version": "3.10.7"
  },
  "orig_nbformat": 4,
  "vscode": {
   "interpreter": {
    "hash": "916dbcbb3f70747c44a77c7bcd40155683ae19c65e1c03b4aa3499c5328201f1"
   }
  }
 },
 "nbformat": 4,
 "nbformat_minor": 2
}
