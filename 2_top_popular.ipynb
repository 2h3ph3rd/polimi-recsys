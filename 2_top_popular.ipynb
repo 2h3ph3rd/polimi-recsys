{
 "cells": [
  {
   "cell_type": "markdown",
   "metadata": {},
   "source": [
    "# Top popular recommender\n",
    "\n",
    "Most popular items are recommended to each user."
   ]
  },
  {
   "cell_type": "code",
   "execution_count": 217,
   "metadata": {},
   "outputs": [],
   "source": [
    "# set to false to use fake data for testing\n",
    "TEST = False"
   ]
  },
  {
   "cell_type": "markdown",
   "metadata": {},
   "source": [
    "### Import libraries"
   ]
  },
  {
   "cell_type": "code",
   "execution_count": 11,
   "metadata": {},
   "outputs": [],
   "source": [
    "import pandas as pd\n",
    "import numpy as np"
   ]
  },
  {
   "cell_type": "markdown",
   "metadata": {},
   "source": [
    "### Utilities"
   ]
  },
  {
   "cell_type": "code",
   "execution_count": 249,
   "metadata": {},
   "outputs": [],
   "source": [
    "def pretty_print_progress(current, total, prepend):\n",
    "    if current == total:\n",
    "        print(\" \" * 100, end=\"\\r\")\n",
    "        print(prepend, \"finished!\")\n",
    "    elif current % 100 == 0:\n",
    "        print(\"%s %8s of %8s\" % (prepend, current, total), end=\"\\r\")"
   ]
  },
  {
   "cell_type": "markdown",
   "metadata": {},
   "source": [
    "### Read data"
   ]
  },
  {
   "cell_type": "code",
   "execution_count": 218,
   "metadata": {},
   "outputs": [],
   "source": [
    "# base path for csv files\n",
    "base_path = \"data\"\n",
    "if TEST:\n",
    "    base_path = \"fake_data\""
   ]
  },
  {
   "cell_type": "code",
   "execution_count": 219,
   "metadata": {},
   "outputs": [],
   "source": [
    "# interactions_and_impressions.csv\n",
    "# Contains the training set, describing implicit preferences expressed by the users.\n",
    "# user_id : identifier of the user\n",
    "# item_id : identifier of the item (TV series)\n",
    "# impression_list : string containing the items that were present on the screen when the user interacted with the item in column item_id. Not all interactions have a corresponding impressions list.\n",
    "# data : \"0\" if the user watched the item, \"1\" if the user opened the item details page.\n",
    "interactions_df_path = base_path + \"/interactions_and_impressions.csv\"\n",
    "\n",
    "# data_ICM_length.csv \n",
    "# Contains the number of episodes of the items. TV series may have multiple episodes.\n",
    "# item_id : identifier of the item\n",
    "# feature_id : identifier of the feature, only one value (0) exists since this ICM only contains the feature \"length\"\n",
    "# data : number of episodes. Some values may be 0 due to incomplete data.\n",
    "items_length_df_path = base_path + \"/data_ICM_length.csv\"\n",
    "\n",
    "# data_ICM_type.csv:\n",
    "# Contains the type of the items. An item can only have one type.\n",
    "# All types are anonymized and described only by a numerical identifier.\n",
    "# item_id : identifier of the item\n",
    "# feature_id : identifier of the type\n",
    "# data : \"1\" if the item is described by the type\n",
    "items_type_df_path = base_path + \"/data_ICM_type.csv\"\n",
    "\n",
    "# data_target_users_test.csv:\n",
    "# Contains the ids of the users that should appear in your submission file.\n",
    "# The submission file should contain all and only these users.\n",
    "users_df_path = base_path + \"/data_target_users_test.csv\""
   ]
  },
  {
   "cell_type": "code",
   "execution_count": 253,
   "metadata": {},
   "outputs": [],
   "source": [
    "dtype = {0: int, 1: int, 2: str, 3: int}\n",
    "interactions_df = pd.read_csv(\n",
    "    filepath_or_buffer=interactions_df_path,\n",
    "    dtype=dtype,\n",
    "    keep_default_na=False  # avoid NaN\n",
    ")\n",
    "dtype = {0: int, 1: int, 2: int}\n",
    "items_length_df = pd.read_csv(filepath_or_buffer=items_length_df_path, dtype=dtype)\n",
    "items_types_df = pd.read_csv(filepath_or_buffer=items_type_df_path, dtype=dtype)\n",
    "users_df = pd.read_csv(filepath_or_buffer=users_df_path)\n"
   ]
  },
  {
   "cell_type": "markdown",
   "metadata": {},
   "source": [
    "### Top Popular v1\n",
    "\n",
    "Accuracy: 0.00154"
   ]
  },
  {
   "cell_type": "code",
   "execution_count": null,
   "metadata": {},
   "outputs": [],
   "source": [
    "class TopPopRec(object):\n",
    "\n",
    "    def fit(self, interactions_df):\n",
    "        # avoid error messages\n",
    "        watched_items_df = interactions_df.copy()\n",
    "        \n",
    "        # selecting watched items\n",
    "        watched_items_df = watched_items_df[interactions_df['data'] == 0]\n",
    "        \n",
    "        # calculate how many times each item has been watched\n",
    "        watched_items_df['count'] = watched_items_df.groupby(['item_id'])['item_id'].transform('count')\n",
    "        \n",
    "        # merge rows with same ItemID to obtain a list of items and watched times\n",
    "        watched_items_df = watched_items_df.groupby(['item_id']).agg({'item_id':'first', 'count':'first'})\n",
    "        \n",
    "        # order items by the most watched\n",
    "        watched_items_df = watched_items_df.sort_values(by='count', ascending=False)\n",
    "        \n",
    "        self.watched_items_df = watched_items_df\n",
    "\n",
    "    def recommend(self, at=10):\n",
    "        return [self.watched_items_df[0:at]]"
   ]
  },
  {
   "cell_type": "code",
   "execution_count": null,
   "metadata": {},
   "outputs": [],
   "source": [
    "rec = TopPopRec()\n",
    "rec.fit(interactions_df)"
   ]
  },
  {
   "cell_type": "code",
   "execution_count": null,
   "metadata": {},
   "outputs": [],
   "source": [
    "out_df = pd.DataFrame(columns=[\"user_id\", \"item_list\"])\n",
    "num_users = users_df['user_id'].shape[0]\n",
    "count = 0\n",
    "\n",
    "print(num_users, end=\" - \")\n",
    "\n",
    "for user_id in users_df['user_id']:\n",
    "    \n",
    "    items_list = rec.recommend(at=10)\n",
    "    items_list = map(str, items_list)\n",
    "    items_list = \" \".join(items_list)\n",
    "    row = pd.DataFrame([[user_id, items_list]], columns=['user_id' , 'item_list'])\n",
    "    out_df = pd.concat([out_df, row])\n",
    "    \n",
    "    count += 1\n",
    "    if count % 1000 == 0:\n",
    "        print(count/num_users, end=\" - \")"
   ]
  },
  {
   "cell_type": "markdown",
   "metadata": {},
   "source": [
    "### Top Popular v2\n",
    "\n",
    "- Avoid already watched items\n",
    "\n",
    "\n",
    "Accuracy: "
   ]
  },
  {
   "cell_type": "code",
   "execution_count": null,
   "metadata": {},
   "outputs": [],
   "source": [
    "class TopPopRecV2(object):\n",
    "\n",
    "    def fit(self, interactions_df):\n",
    "        # avoid error messages\n",
    "        watched_items_df = interactions_df.copy()\n",
    "\n",
    "        # selecting watched items\n",
    "        watched_items_df = watched_items_df[watched_items_df['data'] == 0]\n",
    "\n",
    "        # calculate how many times each item has been watched\n",
    "        watched_items_df['count'] = watched_items_df.groupby(\n",
    "            ['item_id'])['item_id'].transform('count')\n",
    "\n",
    "        # merge rows with same ItemID to obtain a list of items and watched times\n",
    "        popular_items_df = watched_items_df.groupby(\n",
    "            ['item_id']).agg({'item_id': 'first', 'count': 'first'})\n",
    "\n",
    "        # order items by the most watched\n",
    "        popular_items_df = popular_items_df.sort_values(\n",
    "            by='count', ascending=False)\n",
    "\n",
    "        self.watched_items_df = watched_items_df\n",
    "        self.popular_items_df = popular_items_df\n",
    "\n",
    "    def recommend(self, user_id, at=10):\n",
    "        res = []\n",
    "        count = 0\n",
    "        \n",
    "        df = self.watched_items_df\n",
    "        user_watched_df = df[df['user_id'] == user_id]\n",
    "        \n",
    "        n_items = self.popular_items_df.shape[0]\n",
    "        \n",
    "        # find first ten items not seen by the user\n",
    "        while len(res) < at and count < n_items:\n",
    "            item_id = self.popular_items_df['item_id'].iloc[count + 1]\n",
    "\n",
    "            # watched items by the user\n",
    "            df = user_watched_df\n",
    "            watched_df = df[df['item_id'] == item_id]\n",
    "            \n",
    "            # check if not watched\n",
    "            if watched_df.shape[0] == 0:\n",
    "                res.append(item_id)\n",
    "\n",
    "            count += 1\n",
    "        \n",
    "        count = 0\n",
    "        # add items already seen to complete the list\n",
    "        while len(res) < at:\n",
    "            item_id = self.popular_items_df['item_id'].iloc[count + 1]\n",
    "            \n",
    "            if item_id not in res:\n",
    "                res.append(item_id)\n",
    "\n",
    "        return res"
   ]
  },
  {
   "cell_type": "code",
   "execution_count": null,
   "metadata": {},
   "outputs": [],
   "source": [
    "rec = TopPopRecV2()\n",
    "rec.fit(interactions_df)"
   ]
  },
  {
   "cell_type": "code",
   "execution_count": null,
   "metadata": {},
   "outputs": [],
   "source": [
    "out_df = pd.DataFrame(columns=[\"user_id\", \"item_list\"])\n",
    "num_users = users_df['user_id'].shape[0]\n",
    "count = 0\n",
    "\n",
    "print(\"[\", end=\"\")\n",
    "\n",
    "for user_id in users_df['user_id']:\n",
    "    \n",
    "    items_list = rec.recommend(user_id, at=10)\n",
    "    items_list = map(str, items_list)\n",
    "    items_list = \" \".join(items_list)\n",
    "    row = pd.DataFrame([[user_id, items_list]], columns=['user_id' , 'item_list'])\n",
    "    out_df = pd.concat([out_df, row])\n",
    "    \n",
    "    count += 1\n",
    "    if count % 1000  == 0:\n",
    "        print(\".\", end=\"\")\n",
    "        \n",
    "print(\"] Done!\")"
   ]
  },
  {
   "cell_type": "markdown",
   "metadata": {},
   "source": [
    "### Top Popular v3\n",
    "\n",
    "Like V2 but with custom weights\n",
    "\n",
    "Accuracy: 0.01179\n",
    "\n",
    "Too custom, the model is not efficient."
   ]
  },
  {
   "cell_type": "code",
   "execution_count": 251,
   "metadata": {},
   "outputs": [],
   "source": [
    "class TopPopRecV3(object):\n",
    "\n",
    "    def fit(self):\n",
    "        \n",
    "        # switch watch with one and interacted with zero\n",
    "        df = interactions_df.copy()\n",
    "        num_interactions = df.shape[0]\n",
    "        for index in df.index:\n",
    "            pretty_print_progress(index + 1, num_interactions, \"fixing interactions:\")\n",
    "            \n",
    "            data = df.loc[index, 'data']\n",
    "            \n",
    "            if data == 0:\n",
    "                df.loc[index, 'data'] = 1\n",
    "            else:\n",
    "                df.loc[index, 'data'] = 0\n",
    "                \n",
    "        # group items by user_id and item_id\n",
    "        # and count number of interactions\n",
    "        agg_interactions_df = df.groupby(['user_id', 'item_id'], as_index=False).sum(True)\n",
    "        \n",
    "        # custom weights\n",
    "        # i     tv_series       film        not known\n",
    "        # 1       < 0.4           0             0 \n",
    "        # 2       < 0.6           1            > 0\n",
    "        # 3       > 0.6          > 1            -\n",
    "        num_interactions = agg_interactions_df.shape[0]\n",
    "        for index in agg_interactions_df.index:\n",
    "            pretty_print_progress(index + 1, num_interactions, \"calculating weights:\")\n",
    "            \n",
    "            df = agg_interactions_df\n",
    "            item_id = df.loc[index,'item_id']\n",
    "            data = df.loc[index,'data']\n",
    "            \n",
    "            df = items_length_df.copy()\n",
    "            length = df[df['item_id'] == item_id]['data']\n",
    "            \n",
    "            if length.shape[0] == 0: \n",
    "                continue\n",
    "                \n",
    "            length = length.iloc[0]\n",
    "            \n",
    "            # tv series has more than one element\n",
    "            df = agg_interactions_df\n",
    "            if length > 1:            \n",
    "                if data < length * 0.2:\n",
    "                    df.loc[index,'data'] = 1\n",
    "                elif data < length * 0.7:\n",
    "                    df.loc[index,'data'] = 2\n",
    "                else:\n",
    "                    df.loc[index,'data'] = 3\n",
    "            # films has only one element\n",
    "            elif length == 1:\n",
    "                if data == 0:\n",
    "                    df.loc[index,'data'] = 1\n",
    "                elif data == 1:\n",
    "                    df.loc[index,'data'] = 2\n",
    "                else:\n",
    "                    df.loc[index,'data'] = 3\n",
    "            # it is not known if this item is a film or a tv series\n",
    "            else:\n",
    "                if data == 0:\n",
    "                    df.loc[index,'data'] = 1\n",
    "                else:\n",
    "                    df.loc[index,'data'] = 2\n",
    "                            \n",
    "        df = agg_interactions_df\n",
    "\n",
    "        # merge rows with same ItemID to obtain a list of items and watched times\n",
    "        df = df.groupby(\n",
    "            ['item_id']).agg({'item_id': 'first', 'data': 'sum'})\n",
    "\n",
    "        # order items based on total weights\n",
    "        df = df.sort_values(by='data', ascending=False)\n",
    "        \n",
    "        # saved watched_items by the user\n",
    "        df = interactions_df.copy()\n",
    "        watched_items_df = df[df['data'] == 0]\n",
    "        \n",
    "        self.watched_items_df = watched_items_df\n",
    "        self.popular_items_df = agg_interactions_df\n",
    "\n",
    "    def recommend(self, user_id, at=10):\n",
    "        res = []\n",
    "        count = 0\n",
    "        \n",
    "        df = self.watched_items_df\n",
    "        user_watched_df = df[df['user_id'] == user_id]\n",
    "        \n",
    "        n_items = self.popular_items_df.shape[0]\n",
    "        \n",
    "        # find first ten items not seen by the user\n",
    "        while len(res) < at and count < n_items:\n",
    "            item_id = self.popular_items_df['item_id'].iloc[count + 1]\n",
    "\n",
    "            # watched items by the user\n",
    "            df = user_watched_df\n",
    "            watched_df = df[df['item_id'] == item_id]\n",
    "            \n",
    "            # check if not watched\n",
    "            if watched_df.shape[0] == 0:\n",
    "                res.append(item_id)\n",
    "\n",
    "            count += 1\n",
    "        \n",
    "        count = 0\n",
    "        # add items already seen to complete the list if needed\n",
    "        while len(res) < at:\n",
    "            item_id = self.popular_items_df['item_id'].iloc[count + 1]\n",
    "            \n",
    "            if item_id not in res:\n",
    "                res.append(item_id)\n",
    "\n",
    "        return res"
   ]
  },
  {
   "cell_type": "code",
   "execution_count": 254,
   "metadata": {},
   "outputs": [
    {
     "name": "stdout",
     "output_type": "stream",
     "text": [
      "fixing interactions: finished!                                                                      \n",
      "calculating weights: finished!                                                                      \n"
     ]
    }
   ],
   "source": [
    "rec = TopPopRecV3()\n",
    "rec.fit()"
   ]
  },
  {
   "cell_type": "code",
   "execution_count": 255,
   "metadata": {},
   "outputs": [
    {
     "name": "stdout",
     "output_type": "stream",
     "text": [
      "calculating recommendations: finished!                                                              \n"
     ]
    }
   ],
   "source": [
    "out_df = pd.DataFrame(columns=[\"user_id\", \"item_list\"])\n",
    "num_users = users_df['user_id'].shape[0]\n",
    "count = 0\n",
    "\n",
    "for user_id in users_df['user_id']:\n",
    "    count += 1\n",
    "    pretty_print_progress(count, num_users, \"calculating recommendations:\")\n",
    "    \n",
    "    items_list = rec.recommend(user_id, at=10)\n",
    "    \n",
    "    items_list = map(str, items_list)\n",
    "    items_list = \" \".join(items_list)\n",
    "    row = pd.DataFrame([[user_id, items_list]], columns=['user_id' , 'item_list'])\n",
    "    out_df = pd.concat([out_df, row])"
   ]
  },
  {
   "cell_type": "markdown",
   "metadata": {},
   "source": [
    "### Save result"
   ]
  },
  {
   "cell_type": "code",
   "execution_count": 256,
   "metadata": {},
   "outputs": [],
   "source": [
    "out_df.to_csv(\"submission.csv\", columns=[\"user_id\", \"item_list\"], index=False)"
   ]
  }
 ],
 "metadata": {
  "kernelspec": {
   "display_name": "Python 3.10.7 64-bit",
   "language": "python",
   "name": "python3"
  },
  "language_info": {
   "codemirror_mode": {
    "name": "ipython",
    "version": 3
   },
   "file_extension": ".py",
   "mimetype": "text/x-python",
   "name": "python",
   "nbconvert_exporter": "python",
   "pygments_lexer": "ipython3",
   "version": "3.10.7"
  },
  "orig_nbformat": 4,
  "vscode": {
   "interpreter": {
    "hash": "916dbcbb3f70747c44a77c7bcd40155683ae19c65e1c03b4aa3499c5328201f1"
   }
  }
 },
 "nbformat": 4,
 "nbformat_minor": 2
}
