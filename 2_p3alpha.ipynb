{
 "cells": [
  {
   "attachments": {},
   "cell_type": "markdown",
   "metadata": {},
   "source": [
    "# P3Alpha"
   ]
  },
  {
   "attachments": {},
   "cell_type": "markdown",
   "metadata": {},
   "source": [
    "### Import libraries"
   ]
  },
  {
   "cell_type": "code",
   "execution_count": 28,
   "metadata": {},
   "outputs": [],
   "source": [
    "import pandas as pd\n",
    "import numpy as np\n",
    "from scipy import sparse\n",
    "import os\n",
    "import csv\n",
    "\n",
    "from utilities import load_sparse_matrix"
   ]
  },
  {
   "attachments": {},
   "cell_type": "markdown",
   "metadata": {},
   "source": [
    "### Load dataset"
   ]
  },
  {
   "cell_type": "code",
   "execution_count": 29,
   "metadata": {},
   "outputs": [],
   "source": [
    "URM = load_sparse_matrix(\"urm.npz\")\n",
    "URM_train = load_sparse_matrix(\"urm_train.npz\")\n",
    "URM_val = load_sparse_matrix(\"urm_val.npz\")\n",
    "ICM = load_sparse_matrix(\"icm.npz\")"
   ]
  },
  {
   "cell_type": "code",
   "execution_count": null,
   "metadata": {},
   "outputs": [
    {
     "name": "stdout",
     "output_type": "stream",
     "text": [
      "EvaluatorHoldout: Ignoring 315 ( 0.8%) Users that have less than 1 test interactions\n"
     ]
    }
   ],
   "source": [
    "from src.Evaluation.Evaluator import EvaluatorHoldout\n",
    "\n",
    "evaluator_val = EvaluatorHoldout(URM_val, cutoff_list=[10])"
   ]
  },
  {
   "cell_type": "code",
   "execution_count": null,
   "metadata": {},
   "outputs": [],
   "source": [
    "from skopt.space import Real, Integer, Categorical\n",
    "\n",
    "hyperparameters_range_dictionary = {\n",
    "    \"topK\": Integer(5, 1000),\n",
    "    \"alpha\": Real(0, 1),\n",
    "}"
   ]
  },
  {
   "cell_type": "code",
   "execution_count": null,
   "metadata": {},
   "outputs": [],
   "source": [
    "from src.Recommenders.GraphBased.P3alphaRecommender import P3alphaRecommender\n",
    "from src.HyperparameterTuning.SearchBayesianSkopt import SearchBayesianSkopt\n",
    "\n",
    "recommender_class = P3alphaRecommender\n",
    "\n",
    "hyperparameterSearch = SearchBayesianSkopt(recommender_class, evaluator_validation=evaluator_val)"
   ]
  },
  {
   "cell_type": "code",
   "execution_count": null,
   "metadata": {},
   "outputs": [],
   "source": [
    "from src.HyperparameterTuning.SearchAbstractClass import SearchInputRecommenderArgs\n",
    "  \n",
    "recommender_input_args = SearchInputRecommenderArgs(\n",
    "    CONSTRUCTOR_POSITIONAL_ARGS = [URM_train],     # For a CBF model simply put [URM_train, ICM_train]\n",
    "    CONSTRUCTOR_KEYWORD_ARGS = {},\n",
    "    FIT_POSITIONAL_ARGS = [],\n",
    "    FIT_KEYWORD_ARGS = {},\n",
    "    EARLYSTOPPING_KEYWORD_ARGS = {},\n",
    ")"
   ]
  },
  {
   "cell_type": "code",
   "execution_count": null,
   "metadata": {},
   "outputs": [],
   "source": [
    "import os\n",
    "\n",
    "output_folder_path = \"result_experiments/\"\n",
    "\n",
    "# If directory does not exist, create\n",
    "if not os.path.exists(output_folder_path):\n",
    "    os.makedirs(output_folder_path)\n",
    "    \n",
    "n_cases = 10  # using 10 as an example\n",
    "n_random_starts = int(n_cases*0.3)\n",
    "metric_to_optimize = \"MAP\"   \n",
    "cutoff_to_optimize = 10"
   ]
  },
  {
   "cell_type": "code",
   "execution_count": null,
   "metadata": {},
   "outputs": [
    {
     "name": "stdout",
     "output_type": "stream",
     "text": [
      "SearchBayesianSkopt: argument save_model is 'last' but no recommender_input_args_last_test provided, saving best model on train data alone.\n",
      "Iteration No: 1 started. Evaluating function at random point.\n",
      "SearchBayesianSkopt: Testing config: {'topK': 685, 'alpha': 0.567302821264038, 'similarity': 'cosine', 'normalize': False}\n",
      "P3alphaRecommender: URM Detected 3461 (12.4%) items with no interactions.\n",
      "SearchBayesianSkopt: Config 0 Exception. Config: {'topK': 685, 'alpha': 0.567302821264038, 'similarity': 'cosine', 'normalize': False} - Exception: Traceback (most recent call last):\n",
      "  File \"/home/fra/Documents/university/recsys-challenge-2022/src/HyperparameterTuning/SearchAbstractClass.py\", line 484, in _objective_function\n",
      "    result_df, recommender_instance = self._evaluate_on_validation(\n",
      "  File \"/home/fra/Documents/university/recsys-challenge-2022/src/HyperparameterTuning/SearchAbstractClass.py\", line 321, in _evaluate_on_validation\n",
      "    recommender_instance, train_time = self._fit_model(\n",
      "  File \"/home/fra/Documents/university/recsys-challenge-2022/src/HyperparameterTuning/SearchAbstractClass.py\", line 293, in _fit_model\n",
      "    recommender_instance.fit(*self.recommender_input_args.FIT_POSITIONAL_ARGS,\n",
      "TypeError: P3alphaRecommender.fit() got an unexpected keyword argument 'similarity'\n",
      "\n",
      "\n"
     ]
    },
    {
     "name": "stderr",
     "output_type": "stream",
     "text": [
      "Traceback (most recent call last):\n",
      "  File \"/home/fra/Documents/university/recsys-challenge-2022/src/HyperparameterTuning/SearchAbstractClass.py\", line 484, in _objective_function\n",
      "    result_df, recommender_instance = self._evaluate_on_validation(\n",
      "  File \"/home/fra/Documents/university/recsys-challenge-2022/src/HyperparameterTuning/SearchAbstractClass.py\", line 321, in _evaluate_on_validation\n",
      "    recommender_instance, train_time = self._fit_model(\n",
      "  File \"/home/fra/Documents/university/recsys-challenge-2022/src/HyperparameterTuning/SearchAbstractClass.py\", line 293, in _fit_model\n",
      "    recommender_instance.fit(*self.recommender_input_args.FIT_POSITIONAL_ARGS,\n",
      "TypeError: P3alphaRecommender.fit() got an unexpected keyword argument 'similarity'\n"
     ]
    },
    {
     "name": "stdout",
     "output_type": "stream",
     "text": [
      "Iteration No: 1 ended. Evaluation done at random point.\n",
      "Time taken: 0.3024\n",
      "Function value obtained: 65504.0000\n",
      "Current minimum: 65504.0000\n",
      "Iteration No: 2 started. Evaluating function at random point.\n",
      "SearchBayesianSkopt: Testing config: {'topK': 142, 'alpha': 0.8314849632497184, 'similarity': 'cosine', 'normalize': True}\n",
      "P3alphaRecommender: URM Detected 3461 (12.4%) items with no interactions.\n",
      "SearchBayesianSkopt: Config 1 Exception. Config: {'topK': 142, 'alpha': 0.8314849632497184, 'similarity': 'cosine', 'normalize': True} - Exception: Traceback (most recent call last):\n",
      "  File \"/home/fra/Documents/university/recsys-challenge-2022/src/HyperparameterTuning/SearchAbstractClass.py\", line 484, in _objective_function\n",
      "    result_df, recommender_instance = self._evaluate_on_validation(\n",
      "  File \"/home/fra/Documents/university/recsys-challenge-2022/src/HyperparameterTuning/SearchAbstractClass.py\", line 321, in _evaluate_on_validation\n",
      "    recommender_instance, train_time = self._fit_model(\n",
      "  File \"/home/fra/Documents/university/recsys-challenge-2022/src/HyperparameterTuning/SearchAbstractClass.py\", line 293, in _fit_model\n",
      "    recommender_instance.fit(*self.recommender_input_args.FIT_POSITIONAL_ARGS,\n",
      "TypeError: P3alphaRecommender.fit() got an unexpected keyword argument 'similarity'\n",
      "\n",
      "\n"
     ]
    },
    {
     "name": "stderr",
     "output_type": "stream",
     "text": [
      "Traceback (most recent call last):\n",
      "  File \"/home/fra/Documents/university/recsys-challenge-2022/src/HyperparameterTuning/SearchAbstractClass.py\", line 484, in _objective_function\n",
      "    result_df, recommender_instance = self._evaluate_on_validation(\n",
      "  File \"/home/fra/Documents/university/recsys-challenge-2022/src/HyperparameterTuning/SearchAbstractClass.py\", line 321, in _evaluate_on_validation\n",
      "    recommender_instance, train_time = self._fit_model(\n",
      "  File \"/home/fra/Documents/university/recsys-challenge-2022/src/HyperparameterTuning/SearchAbstractClass.py\", line 293, in _fit_model\n",
      "    recommender_instance.fit(*self.recommender_input_args.FIT_POSITIONAL_ARGS,\n",
      "TypeError: P3alphaRecommender.fit() got an unexpected keyword argument 'similarity'\n"
     ]
    },
    {
     "name": "stdout",
     "output_type": "stream",
     "text": [
      "Iteration No: 2 ended. Evaluation done at random point.\n",
      "Time taken: 0.2684\n",
      "Function value obtained: 65504.0000\n",
      "Current minimum: 65504.0000\n",
      "Iteration No: 3 started. Evaluating function at random point.\n",
      "SearchBayesianSkopt: Testing config: {'topK': 823, 'alpha': 0.7854801961633652, 'similarity': 'cosine', 'normalize': False}\n",
      "P3alphaRecommender: URM Detected 3461 (12.4%) items with no interactions.\n",
      "SearchBayesianSkopt: Config 2 Exception. Config: {'topK': 823, 'alpha': 0.7854801961633652, 'similarity': 'cosine', 'normalize': False} - Exception: Traceback (most recent call last):\n",
      "  File \"/home/fra/Documents/university/recsys-challenge-2022/src/HyperparameterTuning/SearchAbstractClass.py\", line 484, in _objective_function\n",
      "    result_df, recommender_instance = self._evaluate_on_validation(\n",
      "  File \"/home/fra/Documents/university/recsys-challenge-2022/src/HyperparameterTuning/SearchAbstractClass.py\", line 321, in _evaluate_on_validation\n",
      "    recommender_instance, train_time = self._fit_model(\n",
      "  File \"/home/fra/Documents/university/recsys-challenge-2022/src/HyperparameterTuning/SearchAbstractClass.py\", line 293, in _fit_model\n",
      "    recommender_instance.fit(*self.recommender_input_args.FIT_POSITIONAL_ARGS,\n",
      "TypeError: P3alphaRecommender.fit() got an unexpected keyword argument 'similarity'\n",
      "\n",
      "\n",
      "SearchBayesianSkopt: Search interrupted. No valid config was found during the initial random initialization\n",
      "\n"
     ]
    },
    {
     "name": "stderr",
     "output_type": "stream",
     "text": [
      "Traceback (most recent call last):\n",
      "  File \"/home/fra/Documents/university/recsys-challenge-2022/src/HyperparameterTuning/SearchAbstractClass.py\", line 484, in _objective_function\n",
      "    result_df, recommender_instance = self._evaluate_on_validation(\n",
      "  File \"/home/fra/Documents/university/recsys-challenge-2022/src/HyperparameterTuning/SearchAbstractClass.py\", line 321, in _evaluate_on_validation\n",
      "    recommender_instance, train_time = self._fit_model(\n",
      "  File \"/home/fra/Documents/university/recsys-challenge-2022/src/HyperparameterTuning/SearchAbstractClass.py\", line 293, in _fit_model\n",
      "    recommender_instance.fit(*self.recommender_input_args.FIT_POSITIONAL_ARGS,\n",
      "TypeError: P3alphaRecommender.fit() got an unexpected keyword argument 'similarity'\n"
     ]
    }
   ],
   "source": [
    "hyperparameterSearch.search(\n",
    "    recommender_input_args,\n",
    "    hyperparameter_search_space = hyperparameters_range_dictionary,\n",
    "    n_cases = n_cases,\n",
    "    n_random_starts = n_random_starts,\n",
    "    save_model = \"last\",\n",
    "    output_folder_path = output_folder_path, # Where to save the results\n",
    "    output_file_name_root = recommender_class.RECOMMENDER_NAME, # How to call the files\n",
    "    metric_to_optimize = metric_to_optimize,\n",
    "    cutoff_to_optimize = cutoff_to_optimize,\n",
    ")"
   ]
  }
 ],
 "metadata": {
  "kernelspec": {
   "display_name": "Python 3",
   "language": "python",
   "name": "python3"
  },
  "language_info": {
   "codemirror_mode": {
    "name": "ipython",
    "version": 3
   },
   "file_extension": ".py",
   "mimetype": "text/x-python",
   "name": "python",
   "nbconvert_exporter": "python",
   "pygments_lexer": "ipython3",
   "version": "3.10.7"
  },
  "orig_nbformat": 4,
  "vscode": {
   "interpreter": {
    "hash": "e7370f93d1d0cde622a1f8e1c04877d8463912d04d973331ad4851f04de6915a"
   }
  }
 },
 "nbformat": 4,
 "nbformat_minor": 2
}
