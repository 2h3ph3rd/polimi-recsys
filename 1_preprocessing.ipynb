{
 "cells": [
  {
   "attachments": {},
   "cell_type": "markdown",
   "metadata": {},
   "source": [
    "# Preprocessing"
   ]
  },
  {
   "attachments": {},
   "cell_type": "markdown",
   "metadata": {},
   "source": [
    "### Import libraries"
   ]
  },
  {
   "cell_type": "code",
   "execution_count": 63,
   "metadata": {},
   "outputs": [],
   "source": [
    "import pandas as pd\n",
    "import numpy as np\n",
    "from scipy import sparse\n",
    "import os\n",
    "import csv\n",
    "\n",
    "from utilities import pretty_print_progress, save_sparse_matrix"
   ]
  },
  {
   "cell_type": "code",
   "execution_count": 64,
   "metadata": {},
   "outputs": [],
   "source": [
    "from src.Data_manager.split_functions.split_train_validation_random_holdout import split_train_in_two_percentage_global_sample"
   ]
  },
  {
   "attachments": {},
   "cell_type": "markdown",
   "metadata": {},
   "source": [
    "### Prepare original dataset"
   ]
  },
  {
   "cell_type": "code",
   "execution_count": 65,
   "metadata": {},
   "outputs": [
    {
     "name": "stdout",
     "output_type": "stream",
     "text": [
      "Archive:  data.zip\n",
      "  inflating: data/data_ICM_length.csv  \n",
      "  inflating: data/data_ICM_type.csv  \n",
      "  inflating: data/data_target_users_test.csv  \n",
      "  inflating: data/interactions_and_impressions.csv  \n",
      "  inflating: data/alg_sample_submission.csv  \n"
     ]
    }
   ],
   "source": [
    "!rm -rf data\n",
    "!mkdir -p data\n",
    "!unzip data"
   ]
  },
  {
   "attachments": {},
   "cell_type": "markdown",
   "metadata": {},
   "source": [
    "### Read dataset"
   ]
  },
  {
   "cell_type": "code",
   "execution_count": 66,
   "metadata": {},
   "outputs": [],
   "source": [
    "base_path = \"data\""
   ]
  },
  {
   "cell_type": "code",
   "execution_count": 67,
   "metadata": {},
   "outputs": [],
   "source": [
    "interactions_df_path = os.path.join(base_path, \"interactions_and_impressions.csv\")\n",
    "items_length_df_path = os.path.join(base_path, \"data_ICM_length.csv\")\n",
    "items_type_df_path = os.path.join(base_path, \"data_ICM_type.csv\")\n",
    "users_df_path = os.path.join(base_path, \"data_target_users_test.csv\")"
   ]
  },
  {
   "cell_type": "code",
   "execution_count": 68,
   "metadata": {},
   "outputs": [],
   "source": [
    "dtype = {0: int, 1: int, 2: str, 3: int}\n",
    "interactions_df = pd.read_csv(\n",
    "    filepath_or_buffer=interactions_df_path,\n",
    "    dtype=dtype,\n",
    "    keep_default_na=False  # avoid NaN\n",
    ")\n",
    "\n",
    "dtype = {0: int, 1: int, 2: int}\n",
    "items_length_df = pd.read_csv(filepath_or_buffer=items_length_df_path, dtype=dtype)\n",
    "\n",
    "items_types_df = pd.read_csv(filepath_or_buffer=items_type_df_path, dtype=dtype)\n",
    "users_df = pd.read_csv(filepath_or_buffer=users_df_path)"
   ]
  },
  {
   "attachments": {},
   "cell_type": "markdown",
   "metadata": {},
   "source": [
    "### IDs mapping"
   ]
  },
  {
   "cell_type": "code",
   "execution_count": 69,
   "metadata": {},
   "outputs": [],
   "source": [
    "items_ids = items_types_df[\"item_id\"].unique()\n",
    "items_ids = np.append(items_ids, interactions_df[\"item_id\"].unique())\n",
    "items_ids = np.unique(items_ids)  # do also sorting\n",
    "\n",
    "users_ids = interactions_df[\"user_id\"].sort_values().unique()\n",
    "features_ids = items_types_df[\"feature_id\"].sort_values().unique()\n",
    "\n",
    "num_users = users_ids.shape[0]\n",
    "num_items = items_ids.shape[0]\n",
    "num_items_with_feature = items_ids.shape[0]\n",
    "num_items_with_interaction = interactions_df[\"item_id\"].unique().shape[0]\n",
    "num_features = features_ids.shape[0]\n",
    "num_users_to_recommend = users_df['user_id'].shape[0]"
   ]
  },
  {
   "cell_type": "code",
   "execution_count": 70,
   "metadata": {},
   "outputs": [
    {
     "name": "stdout",
     "output_type": "stream",
     "text": [
      "Found 41629 users with interactions and 41116 to recommend\n",
      "Found 27968 items, 24507 with interactions and 27968 with 5 features\n"
     ]
    }
   ],
   "source": [
    "print(\"Found {} users with interactions and {} to recommend\".format(\n",
    "    num_users, num_users_to_recommend))\n",
    "print(\"Found {} items, {} with interactions and {} with {} features\".format(\n",
    "    num_items, num_items_with_interaction, num_items_with_feature, num_features))"
   ]
  },
  {
   "cell_type": "code",
   "execution_count": 71,
   "metadata": {},
   "outputs": [],
   "source": [
    "items_mapped_ids, items_original_ids = pd.factorize(items_ids)\n",
    "\n",
    "item_mapped_id_to_original_id = pd.Series(\n",
    "    items_original_ids, index=items_mapped_ids)\n",
    "item_original_id_to_mapped_id = pd.Series(\n",
    "    items_mapped_ids, index=items_original_ids)"
   ]
  },
  {
   "cell_type": "code",
   "execution_count": 72,
   "metadata": {},
   "outputs": [],
   "source": [
    "users_mapped_ids, users_original_ids = pd.factorize(users_ids)\n",
    "\n",
    "user_mapped_id_to_original_id = pd.Series(\n",
    "    users_original_ids, index=users_mapped_ids)\n",
    "user_original_id_to_mapped_id = pd.Series(\n",
    "    users_mapped_ids, index=users_original_ids)"
   ]
  },
  {
   "cell_type": "code",
   "execution_count": 73,
   "metadata": {},
   "outputs": [],
   "source": [
    "features_mapped_ids, features_original_ids = pd.factorize(features_ids)\n",
    "\n",
    "feature_mapped_id_to_original_id = pd.Series(\n",
    "    features_original_ids, index=features_mapped_ids)\n",
    "feature_original_id_to_mapped_id = pd.Series(\n",
    "    features_mapped_ids, index=features_original_ids)"
   ]
  },
  {
   "attachments": {},
   "cell_type": "markdown",
   "metadata": {},
   "source": [
    "### Generate URM"
   ]
  },
  {
   "cell_type": "code",
   "execution_count": 74,
   "metadata": {},
   "outputs": [
    {
     "name": "stdout",
     "output_type": "stream",
     "text": [
      "Calculating URM finished!                                                                           \n",
      "Saved urm.npz\n"
     ]
    }
   ],
   "source": [
    "ratings_df = interactions_df.groupby(\n",
    "    ['user_id', 'item_id'], as_index=False\n",
    ").sum(['data'])\n",
    "\n",
    "# Create an empty matrix (num_users x num_items) of float\n",
    "URM = np.zeros((num_users, num_items), dtype=np.float16)\n",
    "\n",
    "# Cycle through all interactions\n",
    "for i in ratings_df.index:\n",
    "    \n",
    "    # Read item_id and user_id of each rating\n",
    "    df = ratings_df\n",
    "    user_id = df.loc[i, 'user_id']\n",
    "    item_id = df.loc[i, 'item_id']\n",
    "    \n",
    "    # Get the mapped id from the original one\n",
    "    user_id = user_original_id_to_mapped_id[user_id]\n",
    "    item_id = item_original_id_to_mapped_id[item_id]\n",
    "    \n",
    "    # Set weight\n",
    "    URM[user_id, item_id] = 1\n",
    "\n",
    "    pretty_print_progress(i, df.shape[0], \"Calculating URM\")\n",
    "\n",
    "# Save matrix to external file\n",
    "URM = sparse.csr_matrix(URM)\n",
    "save_sparse_matrix(URM, filename='urm.npz')"
   ]
  },
  {
   "attachments": {},
   "cell_type": "markdown",
   "metadata": {},
   "source": [
    "### Generate ICM"
   ]
  },
  {
   "cell_type": "code",
   "execution_count": 75,
   "metadata": {},
   "outputs": [
    {
     "name": "stdout",
     "output_type": "stream",
     "text": [
      "Calculating ICM with types finished!                                                                \n",
      "Calculating ICM with items length finished!                                                         \n",
      "Saved icm.npz\n"
     ]
    }
   ],
   "source": [
    "ICM = np.zeros((num_items, num_features + 2), dtype=np.int8)\n",
    "\n",
    "for i in items_types_df.index:\n",
    "    df = items_types_df\n",
    "    item_id = df.loc[i, 'item_id']\n",
    "    feature_id = df.loc[i, 'feature_id']\n",
    "    item_id = item_original_id_to_mapped_id[item_id]\n",
    "    feature_id = feature_original_id_to_mapped_id[feature_id]\n",
    "    ICM[item_id, feature_id] = 1\n",
    "\n",
    "    pretty_print_progress(i, df.shape[0], \"Calculating ICM with types\")\n",
    "\n",
    "for i in items_length_df.index:\n",
    "    df = items_length_df\n",
    "    item_id = df.loc[i, 'item_id']\n",
    "    length = df.loc[i, 'data']\n",
    "    item_id = item_original_id_to_mapped_id[item_id]\n",
    "\n",
    "    if length == 0:\n",
    "        continue\n",
    "    elif length == 1:\n",
    "        feature_id = num_features\n",
    "    else:\n",
    "        feature_id = num_features + 1\n",
    "\n",
    "    ICM[item_id, feature_id] = 1\n",
    "\n",
    "    pretty_print_progress(i, df.shape[0], \"Calculating ICM with items length\")\n",
    "\n",
    "# Save matrix to external file\n",
    "ICM = sparse.csr_matrix(ICM)\n",
    "save_sparse_matrix(ICM, \"icm.npz\")"
   ]
  },
  {
   "attachments": {},
   "cell_type": "markdown",
   "metadata": {},
   "source": [
    "### Generate splitted URM"
   ]
  },
  {
   "cell_type": "code",
   "execution_count": 76,
   "metadata": {},
   "outputs": [
    {
     "name": "stdout",
     "output_type": "stream",
     "text": [
      "Warning: 322 (0.77 %) of 41629 users have no sampled items\n",
      "Warning: 759 (1.82 %) of 41629 users have no sampled items\n"
     ]
    }
   ],
   "source": [
    "URM_train_val, URM_test = split_train_in_two_percentage_global_sample(URM, train_percentage = 0.8)\n",
    "URM_train, URM_val = split_train_in_two_percentage_global_sample(URM_train_val, train_percentage = 0.8)"
   ]
  },
  {
   "cell_type": "code",
   "execution_count": 77,
   "metadata": {},
   "outputs": [
    {
     "name": "stdout",
     "output_type": "stream",
     "text": [
      "Saved urm_test.npz\n",
      "Saved urm_train_val.npz\n",
      "Saved urm_train.npz\n",
      "Saved urm_val.npz\n"
     ]
    }
   ],
   "source": [
    "save_sparse_matrix(URM_test, \"urm_test.npz\")\n",
    "save_sparse_matrix(URM_train_val, \"urm_train_val.npz\")\n",
    "save_sparse_matrix(URM_train, \"urm_train.npz\")\n",
    "save_sparse_matrix(URM_val, \"urm_val.npz\")"
   ]
  }
 ],
 "metadata": {
  "kernelspec": {
   "display_name": "Python 3",
   "language": "python",
   "name": "python3"
  },
  "language_info": {
   "codemirror_mode": {
    "name": "ipython",
    "version": 3
   },
   "file_extension": ".py",
   "mimetype": "text/x-python",
   "name": "python",
   "nbconvert_exporter": "python",
   "pygments_lexer": "ipython3",
   "version": "3.10.7 (main, Nov 24 2022, 19:45:47) [GCC 12.2.0]"
  },
  "orig_nbformat": 4,
  "vscode": {
   "interpreter": {
    "hash": "e7370f93d1d0cde622a1f8e1c04877d8463912d04d973331ad4851f04de6915a"
   }
  }
 },
 "nbformat": 4,
 "nbformat_minor": 2
}
