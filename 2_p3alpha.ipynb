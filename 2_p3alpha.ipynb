{
 "cells": [
  {
   "attachments": {},
   "cell_type": "markdown",
   "metadata": {},
   "source": [
    "# P3Alpha"
   ]
  },
  {
   "attachments": {},
   "cell_type": "markdown",
   "metadata": {},
   "source": [
    "### Import libraries"
   ]
  },
  {
   "cell_type": "code",
   "execution_count": 28,
   "metadata": {},
   "outputs": [],
   "source": [
    "import pandas as pd\n",
    "import numpy as np\n",
    "from scipy import sparse\n",
    "import os\n",
    "import csv\n",
    "\n",
    "from utilities import load_sparse_matrix"
   ]
  },
  {
   "attachments": {},
   "cell_type": "markdown",
   "metadata": {},
   "source": [
    "### Load dataset"
   ]
  },
  {
   "cell_type": "code",
   "execution_count": 37,
   "metadata": {},
   "outputs": [
    {
     "name": "stdout",
     "output_type": "stream",
     "text": [
      "Loaded urm.npz\n",
      "Loaded urm_test.npz\n",
      "Loaded urm_train.npz\n",
      "Loaded urm_val.npz\n",
      "Loaded urm_train_val.npz\n",
      "Loaded icm.npz\n"
     ]
    }
   ],
   "source": [
    "URM = load_sparse_matrix(\"urm.npz\")\n",
    "URM_test = load_sparse_matrix(\"urm_test.npz\")\n",
    "URM_train = load_sparse_matrix(\"urm_train.npz\")\n",
    "URM_val = load_sparse_matrix(\"urm_val.npz\")\n",
    "URM_train_val = load_sparse_matrix(\"urm_train_val.npz\")\n",
    "ICM = load_sparse_matrix(\"icm.npz\")"
   ]
  },
  {
   "cell_type": "code",
   "execution_count": 38,
   "metadata": {},
   "outputs": [
    {
     "name": "stdout",
     "output_type": "stream",
     "text": [
      "EvaluatorHoldout: Ignoring 744 ( 1.8%) Users that have less than 1 test interactions\n",
      "EvaluatorHoldout: Ignoring 320 ( 0.8%) Users that have less than 1 test interactions\n"
     ]
    }
   ],
   "source": [
    "from src.Evaluation.Evaluator import EvaluatorHoldout\n",
    "\n",
    "evaluator_val = EvaluatorHoldout(URM_val, cutoff_list=[10])\n",
    "evaluator_test = EvaluatorHoldout(URM_test, cutoff_list=[10])"
   ]
  },
  {
   "cell_type": "code",
   "execution_count": 31,
   "metadata": {},
   "outputs": [],
   "source": [
    "from skopt.space import Real, Integer, Categorical\n",
    "\n",
    "hyperparameters_range_dictionary = {\n",
    "    \"topK\": Integer(5, 1000),\n",
    "    \"alpha\": Real(0, 1),\n",
    "}"
   ]
  },
  {
   "cell_type": "code",
   "execution_count": 39,
   "metadata": {},
   "outputs": [],
   "source": [
    "from src.Recommenders.GraphBased.P3alphaRecommender import P3alphaRecommender\n",
    "from src.HyperparameterTuning.SearchBayesianSkopt import SearchBayesianSkopt\n",
    "\n",
    "recommender_class = P3alphaRecommender\n",
    "\n",
    "hyperparameterSearch = SearchBayesianSkopt(\n",
    "    recommender_class,\n",
    "    evaluator_validation=evaluator_val,\n",
    "    evaluator_test=evaluator_test)"
   ]
  },
  {
   "cell_type": "code",
   "execution_count": 40,
   "metadata": {},
   "outputs": [],
   "source": [
    "from src.HyperparameterTuning.SearchAbstractClass import SearchInputRecommenderArgs\n",
    "  \n",
    "recommender_input_args = SearchInputRecommenderArgs(\n",
    "    CONSTRUCTOR_POSITIONAL_ARGS = [URM_train],     # For a CBF model simply put [URM_train, ICM_train]\n",
    "    CONSTRUCTOR_KEYWORD_ARGS = {},\n",
    "    FIT_POSITIONAL_ARGS = [],\n",
    "    FIT_KEYWORD_ARGS = {},\n",
    "    EARLYSTOPPING_KEYWORD_ARGS = {},\n",
    ")\n",
    "\n",
    "recommender_input_args_last_test = SearchInputRecommenderArgs(\n",
    "    CONSTRUCTOR_POSITIONAL_ARGS = [URM_train_val],     # For a CBF model simply put [URM_train_validation, ICM_train]\n",
    "    CONSTRUCTOR_KEYWORD_ARGS = {},\n",
    "    FIT_POSITIONAL_ARGS = [],\n",
    "    FIT_KEYWORD_ARGS = {},\n",
    "    EARLYSTOPPING_KEYWORD_ARGS = {},\n",
    ")"
   ]
  },
  {
   "cell_type": "code",
   "execution_count": 41,
   "metadata": {},
   "outputs": [],
   "source": [
    "import os\n",
    "\n",
    "output_folder_path = \"result_experiments/\"\n",
    "\n",
    "# If directory does not exist, create\n",
    "if not os.path.exists(output_folder_path):\n",
    "    os.makedirs(output_folder_path)\n",
    "    \n",
    "n_cases = 10  # using 10 as an example\n",
    "n_random_starts = int(n_cases*0.3)\n",
    "metric_to_optimize = \"MAP\"   \n",
    "cutoff_to_optimize = 10"
   ]
  },
  {
   "cell_type": "code",
   "execution_count": 42,
   "metadata": {},
   "outputs": [
    {
     "name": "stdout",
     "output_type": "stream",
     "text": [
      "Iteration No: 1 started. Evaluating function at random point.\n",
      "SearchBayesianSkopt: Testing config: {'topK': 826, 'alpha': 0.04883081666482848}\n",
      "ItemKNNCFRecommender: URM Detected 3461 (12.4%) items with no interactions.\n",
      "Unable to load Cython Compute_Similarity, reverting to Python\n",
      "SearchBayesianSkopt: Config 0 Exception. Config: {'topK': 826, 'alpha': 0.04883081666482848} - Exception: Traceback (most recent call last):\n",
      "  File \"/home/fra/Documents/university/recsys-challenge-2022/src/Recommenders/Similarity/Compute_Similarity.py\", line 102, in __init__\n",
      "    from src.Recommenders.Similarity.Cython.Compute_Similarity_Cython import Compute_Similarity_Cython\n",
      "ModuleNotFoundError: No module named 'src.Recommenders.Similarity.Cython.Compute_Similarity_Cython'\n",
      "\n",
      "During handling of the above exception, another exception occurred:\n",
      "\n",
      "Traceback (most recent call last):\n",
      "  File \"/home/fra/Documents/university/recsys-challenge-2022/src/HyperparameterTuning/SearchAbstractClass.py\", line 484, in _objective_function\n",
      "    result_df, recommender_instance = self._evaluate_on_validation(\n",
      "  File \"/home/fra/Documents/university/recsys-challenge-2022/src/HyperparameterTuning/SearchAbstractClass.py\", line 321, in _evaluate_on_validation\n",
      "    recommender_instance, train_time = self._fit_model(\n",
      "  File \"/home/fra/Documents/university/recsys-challenge-2022/src/HyperparameterTuning/SearchAbstractClass.py\", line 293, in _fit_model\n",
      "    recommender_instance.fit(*self.recommender_input_args.FIT_POSITIONAL_ARGS,\n",
      "  File \"/home/fra/Documents/university/recsys-challenge-2022/src/Recommenders/KNN/ItemKNNCFRecommender.py\", line 50, in fit\n",
      "    similarity = Compute_Similarity(\n",
      "  File \"/home/fra/Documents/university/recsys-challenge-2022/src/Recommenders/Similarity/Compute_Similarity.py\", line 109, in __init__\n",
      "    self.compute_similarity_object = Compute_Similarity_Python(\n",
      "TypeError: Compute_Similarity_Python.__init__() got an unexpected keyword argument 'alpha'\n",
      "\n",
      "\n",
      "Iteration No: 1 ended. Evaluation done at random point.\n",
      "Time taken: 0.2065\n",
      "Function value obtained: 65504.0000\n",
      "Current minimum: 65504.0000\n",
      "Iteration No: 2 started. Evaluating function at random point.\n",
      "SearchBayesianSkopt: Testing config: {'topK': 171, 'alpha': 0.767131696907476}\n"
     ]
    },
    {
     "name": "stderr",
     "output_type": "stream",
     "text": [
      "Traceback (most recent call last):\n",
      "  File \"/home/fra/Documents/university/recsys-challenge-2022/src/Recommenders/Similarity/Compute_Similarity.py\", line 102, in __init__\n",
      "    from src.Recommenders.Similarity.Cython.Compute_Similarity_Cython import Compute_Similarity_Cython\n",
      "ModuleNotFoundError: No module named 'src.Recommenders.Similarity.Cython.Compute_Similarity_Cython'\n",
      "\n",
      "During handling of the above exception, another exception occurred:\n",
      "\n",
      "Traceback (most recent call last):\n",
      "  File \"/home/fra/Documents/university/recsys-challenge-2022/src/HyperparameterTuning/SearchAbstractClass.py\", line 484, in _objective_function\n",
      "    result_df, recommender_instance = self._evaluate_on_validation(\n",
      "  File \"/home/fra/Documents/university/recsys-challenge-2022/src/HyperparameterTuning/SearchAbstractClass.py\", line 321, in _evaluate_on_validation\n",
      "    recommender_instance, train_time = self._fit_model(\n",
      "  File \"/home/fra/Documents/university/recsys-challenge-2022/src/HyperparameterTuning/SearchAbstractClass.py\", line 293, in _fit_model\n",
      "    recommender_instance.fit(*self.recommender_input_args.FIT_POSITIONAL_ARGS,\n",
      "  File \"/home/fra/Documents/university/recsys-challenge-2022/src/Recommenders/KNN/ItemKNNCFRecommender.py\", line 50, in fit\n",
      "    similarity = Compute_Similarity(\n",
      "  File \"/home/fra/Documents/university/recsys-challenge-2022/src/Recommenders/Similarity/Compute_Similarity.py\", line 109, in __init__\n",
      "    self.compute_similarity_object = Compute_Similarity_Python(\n",
      "TypeError: Compute_Similarity_Python.__init__() got an unexpected keyword argument 'alpha'\n",
      "Traceback (most recent call last):\n",
      "  File \"/home/fra/Documents/university/recsys-challenge-2022/src/Recommenders/Similarity/Compute_Similarity.py\", line 102, in __init__\n",
      "    from src.Recommenders.Similarity.Cython.Compute_Similarity_Cython import Compute_Similarity_Cython\n",
      "ModuleNotFoundError: No module named 'src.Recommenders.Similarity.Cython.Compute_Similarity_Cython'\n",
      "\n",
      "During handling of the above exception, another exception occurred:\n",
      "\n",
      "Traceback (most recent call last):\n",
      "  File \"/home/fra/Documents/university/recsys-challenge-2022/src/HyperparameterTuning/SearchAbstractClass.py\", line 484, in _objective_function\n",
      "    result_df, recommender_instance = self._evaluate_on_validation(\n",
      "  File \"/home/fra/Documents/university/recsys-challenge-2022/src/HyperparameterTuning/SearchAbstractClass.py\", line 321, in _evaluate_on_validation\n",
      "    recommender_instance, train_time = self._fit_model(\n",
      "  File \"/home/fra/Documents/university/recsys-challenge-2022/src/HyperparameterTuning/SearchAbstractClass.py\", line 293, in _fit_model\n",
      "    recommender_instance.fit(*self.recommender_input_args.FIT_POSITIONAL_ARGS,\n",
      "  File \"/home/fra/Documents/university/recsys-challenge-2022/src/Recommenders/KNN/ItemKNNCFRecommender.py\", line 50, in fit\n",
      "    similarity = Compute_Similarity(\n",
      "  File \"/home/fra/Documents/university/recsys-challenge-2022/src/Recommenders/Similarity/Compute_Similarity.py\", line 109, in __init__\n",
      "    self.compute_similarity_object = Compute_Similarity_Python(\n",
      "TypeError: Compute_Similarity_Python.__init__() got an unexpected keyword argument 'alpha'\n"
     ]
    },
    {
     "name": "stdout",
     "output_type": "stream",
     "text": [
      "ItemKNNCFRecommender: URM Detected 3461 (12.4%) items with no interactions.\n",
      "Unable to load Cython Compute_Similarity, reverting to Python\n",
      "SearchBayesianSkopt: Config 1 Exception. Config: {'topK': 171, 'alpha': 0.767131696907476} - Exception: Traceback (most recent call last):\n",
      "  File \"/home/fra/Documents/university/recsys-challenge-2022/src/Recommenders/Similarity/Compute_Similarity.py\", line 102, in __init__\n",
      "    from src.Recommenders.Similarity.Cython.Compute_Similarity_Cython import Compute_Similarity_Cython\n",
      "ModuleNotFoundError: No module named 'src.Recommenders.Similarity.Cython.Compute_Similarity_Cython'\n",
      "\n",
      "During handling of the above exception, another exception occurred:\n",
      "\n",
      "Traceback (most recent call last):\n",
      "  File \"/home/fra/Documents/university/recsys-challenge-2022/src/HyperparameterTuning/SearchAbstractClass.py\", line 484, in _objective_function\n",
      "    result_df, recommender_instance = self._evaluate_on_validation(\n",
      "  File \"/home/fra/Documents/university/recsys-challenge-2022/src/HyperparameterTuning/SearchAbstractClass.py\", line 321, in _evaluate_on_validation\n",
      "    recommender_instance, train_time = self._fit_model(\n",
      "  File \"/home/fra/Documents/university/recsys-challenge-2022/src/HyperparameterTuning/SearchAbstractClass.py\", line 293, in _fit_model\n",
      "    recommender_instance.fit(*self.recommender_input_args.FIT_POSITIONAL_ARGS,\n",
      "  File \"/home/fra/Documents/university/recsys-challenge-2022/src/Recommenders/KNN/ItemKNNCFRecommender.py\", line 50, in fit\n",
      "    similarity = Compute_Similarity(\n",
      "  File \"/home/fra/Documents/university/recsys-challenge-2022/src/Recommenders/Similarity/Compute_Similarity.py\", line 109, in __init__\n",
      "    self.compute_similarity_object = Compute_Similarity_Python(\n",
      "TypeError: Compute_Similarity_Python.__init__() got an unexpected keyword argument 'alpha'\n",
      "\n",
      "\n",
      "Iteration No: 2 ended. Evaluation done at random point.\n",
      "Time taken: 0.1990\n",
      "Function value obtained: 65504.0000\n",
      "Current minimum: 65504.0000\n",
      "Iteration No: 3 started. Evaluating function at random point.\n",
      "SearchBayesianSkopt: Testing config: {'topK': 117, 'alpha': 0.05948027643639732}\n",
      "ItemKNNCFRecommender: URM Detected 3461 (12.4%) items with no interactions.\n",
      "Unable to load Cython Compute_Similarity, reverting to Python\n",
      "SearchBayesianSkopt: Config 2 Exception. Config: {'topK': 117, 'alpha': 0.05948027643639732} - Exception: Traceback (most recent call last):\n",
      "  File \"/home/fra/Documents/university/recsys-challenge-2022/src/Recommenders/Similarity/Compute_Similarity.py\", line 102, in __init__\n",
      "    from src.Recommenders.Similarity.Cython.Compute_Similarity_Cython import Compute_Similarity_Cython\n",
      "ModuleNotFoundError: No module named 'src.Recommenders.Similarity.Cython.Compute_Similarity_Cython'\n",
      "\n",
      "During handling of the above exception, another exception occurred:\n",
      "\n",
      "Traceback (most recent call last):\n",
      "  File \"/home/fra/Documents/university/recsys-challenge-2022/src/HyperparameterTuning/SearchAbstractClass.py\", line 484, in _objective_function\n",
      "    result_df, recommender_instance = self._evaluate_on_validation(\n",
      "  File \"/home/fra/Documents/university/recsys-challenge-2022/src/HyperparameterTuning/SearchAbstractClass.py\", line 321, in _evaluate_on_validation\n",
      "    recommender_instance, train_time = self._fit_model(\n",
      "  File \"/home/fra/Documents/university/recsys-challenge-2022/src/HyperparameterTuning/SearchAbstractClass.py\", line 293, in _fit_model\n",
      "    recommender_instance.fit(*self.recommender_input_args.FIT_POSITIONAL_ARGS,\n",
      "  File \"/home/fra/Documents/university/recsys-challenge-2022/src/Recommenders/KNN/ItemKNNCFRecommender.py\", line 50, in fit\n",
      "    similarity = Compute_Similarity(\n",
      "  File \"/home/fra/Documents/university/recsys-challenge-2022/src/Recommenders/Similarity/Compute_Similarity.py\", line 109, in __init__\n",
      "    self.compute_similarity_object = Compute_Similarity_Python(\n",
      "TypeError: Compute_Similarity_Python.__init__() got an unexpected keyword argument 'alpha'\n",
      "\n",
      "\n",
      "SearchBayesianSkopt: Search interrupted. No valid config was found during the initial random initialization\n",
      "\n"
     ]
    },
    {
     "name": "stderr",
     "output_type": "stream",
     "text": [
      "Traceback (most recent call last):\n",
      "  File \"/home/fra/Documents/university/recsys-challenge-2022/src/Recommenders/Similarity/Compute_Similarity.py\", line 102, in __init__\n",
      "    from src.Recommenders.Similarity.Cython.Compute_Similarity_Cython import Compute_Similarity_Cython\n",
      "ModuleNotFoundError: No module named 'src.Recommenders.Similarity.Cython.Compute_Similarity_Cython'\n",
      "\n",
      "During handling of the above exception, another exception occurred:\n",
      "\n",
      "Traceback (most recent call last):\n",
      "  File \"/home/fra/Documents/university/recsys-challenge-2022/src/HyperparameterTuning/SearchAbstractClass.py\", line 484, in _objective_function\n",
      "    result_df, recommender_instance = self._evaluate_on_validation(\n",
      "  File \"/home/fra/Documents/university/recsys-challenge-2022/src/HyperparameterTuning/SearchAbstractClass.py\", line 321, in _evaluate_on_validation\n",
      "    recommender_instance, train_time = self._fit_model(\n",
      "  File \"/home/fra/Documents/university/recsys-challenge-2022/src/HyperparameterTuning/SearchAbstractClass.py\", line 293, in _fit_model\n",
      "    recommender_instance.fit(*self.recommender_input_args.FIT_POSITIONAL_ARGS,\n",
      "  File \"/home/fra/Documents/university/recsys-challenge-2022/src/Recommenders/KNN/ItemKNNCFRecommender.py\", line 50, in fit\n",
      "    similarity = Compute_Similarity(\n",
      "  File \"/home/fra/Documents/university/recsys-challenge-2022/src/Recommenders/Similarity/Compute_Similarity.py\", line 109, in __init__\n",
      "    self.compute_similarity_object = Compute_Similarity_Python(\n",
      "TypeError: Compute_Similarity_Python.__init__() got an unexpected keyword argument 'alpha'\n"
     ]
    }
   ],
   "source": [
    "hyperparameterSearch.search(\n",
    "    recommender_input_args,\n",
    "    recommender_input_args_last_test = recommender_input_args_last_test,\n",
    "    hyperparameter_search_space = hyperparameters_range_dictionary,\n",
    "    n_cases = n_cases,\n",
    "    n_random_starts = n_random_starts,\n",
    "    save_model = \"last\",\n",
    "    output_folder_path = output_folder_path, # Where to save the results\n",
    "    output_file_name_root = recommender_class.RECOMMENDER_NAME, # How to call the files\n",
    "    metric_to_optimize = metric_to_optimize,\n",
    "    cutoff_to_optimize = cutoff_to_optimize,\n",
    ")"
   ]
  }
 ],
 "metadata": {
  "kernelspec": {
   "display_name": "Python 3",
   "language": "python",
   "name": "python3"
  },
  "language_info": {
   "codemirror_mode": {
    "name": "ipython",
    "version": 3
   },
   "file_extension": ".py",
   "mimetype": "text/x-python",
   "name": "python",
   "nbconvert_exporter": "python",
   "pygments_lexer": "ipython3",
   "version": "3.10.7"
  },
  "orig_nbformat": 4,
  "vscode": {
   "interpreter": {
    "hash": "e7370f93d1d0cde622a1f8e1c04877d8463912d04d973331ad4851f04de6915a"
   }
  }
 },
 "nbformat": 4,
 "nbformat_minor": 2
}
