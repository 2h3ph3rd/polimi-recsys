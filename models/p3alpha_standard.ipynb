{
 "cells": [
  {
   "attachments": {},
   "cell_type": "markdown",
   "metadata": {},
   "source": [
    "# P3Alpha\n",
    "\n",
    "This implementation is too slow."
   ]
  },
  {
   "attachments": {},
   "cell_type": "markdown",
   "metadata": {},
   "source": [
    "### Import libraries"
   ]
  },
  {
   "cell_type": "code",
   "execution_count": 148,
   "metadata": {},
   "outputs": [],
   "source": [
    "import pandas as pd\n",
    "import numpy as np\n",
    "import os\n",
    "import cython"
   ]
  },
  {
   "cell_type": "code",
   "execution_count": 149,
   "metadata": {},
   "outputs": [],
   "source": [
    "%load_ext Cython"
   ]
  },
  {
   "cell_type": "code",
   "execution_count": 145,
   "metadata": {},
   "outputs": [],
   "source": [
    "def pretty_print_progress(current, total, prepend):\n",
    "    if current == total:\n",
    "        print(\" \" * 100, end=\"\\r\")\n",
    "        print(prepend, \"finished!\")\n",
    "    elif current % 100 == 0:\n",
    "        print(\"%s %8s of %8s\" % (prepend, current, total), end=\"\\r\")"
   ]
  },
  {
   "attachments": {},
   "cell_type": "markdown",
   "metadata": {},
   "source": [
    "### Import dataset"
   ]
  },
  {
   "cell_type": "code",
   "execution_count": 121,
   "metadata": {},
   "outputs": [],
   "source": [
    "base_path = \"data\"\n",
    "interactions_df_path = os.path.join(base_path, \"interactions_and_impressions.csv\")\n",
    "items_length_df_path = os.path.join(base_path, \"data_ICM_length.csv\")\n",
    "items_type_df_path = os.path.join(base_path, \"data_ICM_type.csv\")\n",
    "users_df_path = os.path.join(base_path, \"data_target_users_test.csv\")"
   ]
  },
  {
   "cell_type": "code",
   "execution_count": 122,
   "metadata": {},
   "outputs": [],
   "source": [
    "dtype={0:int, 1:int, 2:str, 3:int}\n",
    "interactions_df = pd.read_csv(filepath_or_buffer=interactions_df_path, dtype=dtype)\n",
    "items_length_df = pd.read_csv(filepath_or_buffer=items_length_df_path)\n",
    "items_types_df = pd.read_csv(filepath_or_buffer=items_type_df_path)\n",
    "users_df = pd.read_csv(filepath_or_buffer=users_df_path)"
   ]
  },
  {
   "attachments": {},
   "cell_type": "markdown",
   "metadata": {},
   "source": [
    "### Calculate implicit ratings"
   ]
  },
  {
   "cell_type": "code",
   "execution_count": 123,
   "metadata": {},
   "outputs": [
    {
     "data": {
      "text/html": [
       "<div>\n",
       "<style scoped>\n",
       "    .dataframe tbody tr th:only-of-type {\n",
       "        vertical-align: middle;\n",
       "    }\n",
       "\n",
       "    .dataframe tbody tr th {\n",
       "        vertical-align: top;\n",
       "    }\n",
       "\n",
       "    .dataframe thead th {\n",
       "        text-align: right;\n",
       "    }\n",
       "</style>\n",
       "<table border=\"1\" class=\"dataframe\">\n",
       "  <thead>\n",
       "    <tr style=\"text-align: right;\">\n",
       "      <th></th>\n",
       "      <th>user_id</th>\n",
       "      <th>item_id</th>\n",
       "      <th>data</th>\n",
       "    </tr>\n",
       "  </thead>\n",
       "  <tbody>\n",
       "    <tr>\n",
       "      <th>0</th>\n",
       "      <td>0</td>\n",
       "      <td>11</td>\n",
       "      <td>1</td>\n",
       "    </tr>\n",
       "    <tr>\n",
       "      <th>1</th>\n",
       "      <td>0</td>\n",
       "      <td>21</td>\n",
       "      <td>1</td>\n",
       "    </tr>\n",
       "    <tr>\n",
       "      <th>2</th>\n",
       "      <td>0</td>\n",
       "      <td>22</td>\n",
       "      <td>1</td>\n",
       "    </tr>\n",
       "    <tr>\n",
       "      <th>3</th>\n",
       "      <td>0</td>\n",
       "      <td>24</td>\n",
       "      <td>1</td>\n",
       "    </tr>\n",
       "    <tr>\n",
       "      <th>4</th>\n",
       "      <td>0</td>\n",
       "      <td>44</td>\n",
       "      <td>1</td>\n",
       "    </tr>\n",
       "  </tbody>\n",
       "</table>\n",
       "</div>"
      ],
      "text/plain": [
       "   user_id  item_id  data\n",
       "0        0       11     1\n",
       "1        0       21     1\n",
       "2        0       22     1\n",
       "3        0       24     1\n",
       "4        0       44     1"
      ]
     },
     "execution_count": 123,
     "metadata": {},
     "output_type": "execute_result"
    }
   ],
   "source": [
    "implicit_ratings_df = pd.DataFrame()\n",
    "implicit_ratings_df = interactions_df.groupby(['user_id', 'item_id'], as_index=False).max(['data'])\n",
    "implicit_ratings_df.head()"
   ]
  },
  {
   "cell_type": "code",
   "execution_count": 124,
   "metadata": {},
   "outputs": [
    {
     "data": {
      "text/html": [
       "<div>\n",
       "<style scoped>\n",
       "    .dataframe tbody tr th:only-of-type {\n",
       "        vertical-align: middle;\n",
       "    }\n",
       "\n",
       "    .dataframe tbody tr th {\n",
       "        vertical-align: top;\n",
       "    }\n",
       "\n",
       "    .dataframe thead th {\n",
       "        text-align: right;\n",
       "    }\n",
       "</style>\n",
       "<table border=\"1\" class=\"dataframe\">\n",
       "  <thead>\n",
       "    <tr style=\"text-align: right;\">\n",
       "      <th></th>\n",
       "      <th>user_id</th>\n",
       "      <th>item_id</th>\n",
       "      <th>data</th>\n",
       "    </tr>\n",
       "  </thead>\n",
       "  <tbody>\n",
       "    <tr>\n",
       "      <th>6</th>\n",
       "      <td>0</td>\n",
       "      <td>124</td>\n",
       "      <td>0</td>\n",
       "    </tr>\n",
       "    <tr>\n",
       "      <th>11</th>\n",
       "      <td>0</td>\n",
       "      <td>808</td>\n",
       "      <td>0</td>\n",
       "    </tr>\n",
       "    <tr>\n",
       "      <th>25</th>\n",
       "      <td>0</td>\n",
       "      <td>5068</td>\n",
       "      <td>0</td>\n",
       "    </tr>\n",
       "    <tr>\n",
       "      <th>32</th>\n",
       "      <td>0</td>\n",
       "      <td>7603</td>\n",
       "      <td>0</td>\n",
       "    </tr>\n",
       "    <tr>\n",
       "      <th>34</th>\n",
       "      <td>0</td>\n",
       "      <td>8540</td>\n",
       "      <td>0</td>\n",
       "    </tr>\n",
       "  </tbody>\n",
       "</table>\n",
       "</div>"
      ],
      "text/plain": [
       "    user_id  item_id  data\n",
       "6         0      124     0\n",
       "11        0      808     0\n",
       "25        0     5068     0\n",
       "32        0     7603     0\n",
       "34        0     8540     0"
      ]
     },
     "execution_count": 124,
     "metadata": {},
     "output_type": "execute_result"
    }
   ],
   "source": [
    "df = implicit_ratings_df\n",
    "df[df['data'] == 0].head()"
   ]
  },
  {
   "cell_type": "code",
   "execution_count": 125,
   "metadata": {},
   "outputs": [
    {
     "data": {
      "text/html": [
       "<div>\n",
       "<style scoped>\n",
       "    .dataframe tbody tr th:only-of-type {\n",
       "        vertical-align: middle;\n",
       "    }\n",
       "\n",
       "    .dataframe tbody tr th {\n",
       "        vertical-align: top;\n",
       "    }\n",
       "\n",
       "    .dataframe thead th {\n",
       "        text-align: right;\n",
       "    }\n",
       "</style>\n",
       "<table border=\"1\" class=\"dataframe\">\n",
       "  <thead>\n",
       "    <tr style=\"text-align: right;\">\n",
       "      <th></th>\n",
       "      <th>user_id</th>\n",
       "      <th>item_id</th>\n",
       "      <th>data</th>\n",
       "    </tr>\n",
       "  </thead>\n",
       "  <tbody>\n",
       "    <tr>\n",
       "      <th>0</th>\n",
       "      <td>0</td>\n",
       "      <td>11</td>\n",
       "      <td>1</td>\n",
       "    </tr>\n",
       "    <tr>\n",
       "      <th>1</th>\n",
       "      <td>0</td>\n",
       "      <td>21</td>\n",
       "      <td>1</td>\n",
       "    </tr>\n",
       "    <tr>\n",
       "      <th>2</th>\n",
       "      <td>0</td>\n",
       "      <td>22</td>\n",
       "      <td>1</td>\n",
       "    </tr>\n",
       "    <tr>\n",
       "      <th>3</th>\n",
       "      <td>0</td>\n",
       "      <td>24</td>\n",
       "      <td>1</td>\n",
       "    </tr>\n",
       "    <tr>\n",
       "      <th>4</th>\n",
       "      <td>0</td>\n",
       "      <td>44</td>\n",
       "      <td>1</td>\n",
       "    </tr>\n",
       "    <tr>\n",
       "      <th>5</th>\n",
       "      <td>0</td>\n",
       "      <td>54</td>\n",
       "      <td>1</td>\n",
       "    </tr>\n",
       "    <tr>\n",
       "      <th>6</th>\n",
       "      <td>0</td>\n",
       "      <td>159</td>\n",
       "      <td>1</td>\n",
       "    </tr>\n",
       "    <tr>\n",
       "      <th>7</th>\n",
       "      <td>0</td>\n",
       "      <td>239</td>\n",
       "      <td>1</td>\n",
       "    </tr>\n",
       "    <tr>\n",
       "      <th>8</th>\n",
       "      <td>0</td>\n",
       "      <td>575</td>\n",
       "      <td>1</td>\n",
       "    </tr>\n",
       "    <tr>\n",
       "      <th>9</th>\n",
       "      <td>0</td>\n",
       "      <td>751</td>\n",
       "      <td>1</td>\n",
       "    </tr>\n",
       "  </tbody>\n",
       "</table>\n",
       "</div>"
      ],
      "text/plain": [
       "   user_id  item_id  data\n",
       "0        0       11     1\n",
       "1        0       21     1\n",
       "2        0       22     1\n",
       "3        0       24     1\n",
       "4        0       44     1\n",
       "5        0       54     1\n",
       "6        0      159     1\n",
       "7        0      239     1\n",
       "8        0      575     1\n",
       "9        0      751     1"
      ]
     },
     "execution_count": 125,
     "metadata": {},
     "output_type": "execute_result"
    }
   ],
   "source": [
    "# remove only viewed elements\n",
    "df = implicit_ratings_df\n",
    "implicit_ratings_df = df[df['data'] == 1].reset_index(drop=True)\n",
    "implicit_ratings_df.head(10)"
   ]
  },
  {
   "attachments": {},
   "cell_type": "markdown",
   "metadata": {},
   "source": [
    "### Factorize dataframe"
   ]
  },
  {
   "cell_type": "code",
   "execution_count": 126,
   "metadata": {},
   "outputs": [],
   "source": [
    "users_ids = implicit_ratings_df[\"user_id\"].sort_values().unique()\n",
    "items_ids = implicit_ratings_df[\"item_id\"].sort_values().unique()"
   ]
  },
  {
   "cell_type": "code",
   "execution_count": 127,
   "metadata": {},
   "outputs": [
    {
     "name": "stdout",
     "output_type": "stream",
     "text": [
      "Found 41116 users and 24507 items\n",
      "There are 41607 users with interactions and 41116 to recommend\n"
     ]
    }
   ],
   "source": [
    "# users to recommend\n",
    "num_users = users_df['user_id'].shape[0]\n",
    "# users of whom we have interactions\n",
    "num_total_users = users_ids.shape[0]\n",
    "num_items = items_ids.shape[0]\n",
    "print(\"Found {} users and {} items\".format(num_users, num_items))\n",
    "print(\"There are {} users with interactions and {} to recommend\".format(num_total_users, num_users))"
   ]
  },
  {
   "cell_type": "code",
   "execution_count": 128,
   "metadata": {},
   "outputs": [],
   "source": [
    "items_mapped_ids, items_original_ids = pd.factorize(items_ids)\n",
    "\n",
    "item_mapped_id_to_original_id = pd.Series(items_original_ids, index=items_mapped_ids)\n",
    "item_original_id_to_mapped_id = pd.Series(items_mapped_ids, index=items_original_ids)"
   ]
  },
  {
   "cell_type": "code",
   "execution_count": 129,
   "metadata": {},
   "outputs": [],
   "source": [
    "users_mapped_ids, users_original_ids = pd.factorize(users_ids)\n",
    "\n",
    "user_mapped_id_to_original_id = pd.Series(users_original_ids, index=users_mapped_ids)\n",
    "user_original_id_to_mapped_id = pd.Series(users_mapped_ids, index=users_original_ids)"
   ]
  },
  {
   "attachments": {},
   "cell_type": "markdown",
   "metadata": {},
   "source": [
    "### Find URM"
   ]
  },
  {
   "cell_type": "code",
   "execution_count": 130,
   "metadata": {},
   "outputs": [],
   "source": [
    "URM = np.zeros((num_total_users, num_items), dtype=np.int8)\n",
    "\n",
    "for user_id in users_mapped_ids:\n",
    "    df = implicit_ratings_df\n",
    "    user_items = df[df['user_id'] == user_id]['item_id']\n",
    "    for item_id in user_items:\n",
    "        item_id = item_original_id_to_mapped_id[item_id]\n",
    "        URM[user_id, item_id] = 1"
   ]
  },
  {
   "attachments": {},
   "cell_type": "markdown",
   "metadata": {},
   "source": [
    "### Calculate probabilities"
   ]
  },
  {
   "cell_type": "code",
   "execution_count": 131,
   "metadata": {},
   "outputs": [],
   "source": [
    "shrink = 1"
   ]
  },
  {
   "cell_type": "code",
   "execution_count": 132,
   "metadata": {},
   "outputs": [],
   "source": [
    "# TODO: try removing one to the sum\n",
    "rows_prob = np.zeros(num_total_users, dtype=np.float16)\n",
    "for i in range(num_total_users):\n",
    "    rows_prob[i] = URM[i, :].sum() / (num_items + shrink)"
   ]
  },
  {
   "cell_type": "code",
   "execution_count": 133,
   "metadata": {},
   "outputs": [
    {
     "name": "stdout",
     "output_type": "stream",
     "text": [
      "[0.002367  0.0003264 0.002775  0.004406  0.000979  0.0003264 0.0005302\n",
      " 0.0010605 0.0002856 0.0002449 0.000408  0.001877  0.001265  0.000204\n",
      " 0.0002856 0.0005302 0.0001632 0.0003672 0.0002856 0.0009384 0.0002449\n",
      " 0.0002449 0.0003672 0.0003672 0.000408  0.001796  0.0005713 0.0011425\n",
      " 0.0009384 0.0002856]\n"
     ]
    }
   ],
   "source": [
    "print(rows_prob[:30])"
   ]
  },
  {
   "cell_type": "code",
   "execution_count": 134,
   "metadata": {},
   "outputs": [],
   "source": [
    "cols_prob = np.zeros(num_items, dtype=np.float16)\n",
    "for i in range(num_items):\n",
    "    cols_prob[i] = URM[:, i].sum() / (num_total_users + shrink)"
   ]
  },
  {
   "cell_type": "code",
   "execution_count": 135,
   "metadata": {},
   "outputs": [
    {
     "name": "stdout",
     "output_type": "stream",
     "text": [
      "[0.000529  0.001274  0.0006247 0.000529  0.000793  0.00678   0.006226\n",
      " 0.002523  0.0004807 0.001009  0.000577  0.000913  0.0004325 0.0009375\n",
      " 0.001779  0.0006247 0.0003605 0.0004325 0.0001682 0.008316  0.04745\n",
      " 0.1128    0.05902   0.0429    0.0168    0.03647   0.006298  0.016\n",
      " 0.02019   0.0403   ]\n"
     ]
    }
   ],
   "source": [
    "print(cols_prob[:30])"
   ]
  },
  {
   "attachments": {},
   "cell_type": "markdown",
   "metadata": {},
   "source": [
    "### Calculate custom graph"
   ]
  },
  {
   "cell_type": "code",
   "execution_count": 136,
   "metadata": {},
   "outputs": [],
   "source": [
    "user_nodes = {}\n",
    "\n",
    "for user_mapped_id in range(num_total_users):\n",
    "    # map counter with original id\n",
    "    user_original_id = user_mapped_id_to_original_id[user_mapped_id]\n",
    "    \n",
    "    # extract user items\n",
    "    df = implicit_ratings_df\n",
    "    user_items = df[df['user_id'] == user_original_id]['item_id']\n",
    "    \n",
    "    # prepare new node\n",
    "    user_nodes[user_mapped_id] = []\n",
    "    # save connections for this node\n",
    "    for item_original_id in user_items:\n",
    "        item_mapped_id = item_original_id_to_mapped_id[item_original_id]\n",
    "        user_nodes[user_mapped_id].append(item_mapped_id)"
   ]
  },
  {
   "cell_type": "code",
   "execution_count": 137,
   "metadata": {},
   "outputs": [],
   "source": [
    "item_nodes = {}\n",
    "\n",
    "for item_mapped_id in range(num_items):\n",
    "    # map counter with original id\n",
    "    item_original_id = item_mapped_id_to_original_id[item_mapped_id]\n",
    "    \n",
    "    # extract user items\n",
    "    df = implicit_ratings_df\n",
    "    item_users = df[df['item_id'] == item_original_id]['user_id']\n",
    "    \n",
    "    # prepare new node\n",
    "    item_nodes[item_mapped_id] = []\n",
    "    # save connections for this node\n",
    "    for user_original_id in item_users:\n",
    "        user_mapped_id = user_original_id_to_mapped_id[user_original_id]\n",
    "        item_nodes[item_mapped_id].append(user_mapped_id)"
   ]
  },
  {
   "cell_type": "code",
   "execution_count": 138,
   "metadata": {},
   "outputs": [
    {
     "name": "stdout",
     "output_type": "stream",
     "text": [
      "41607 nodes of 41116 users\n",
      "24507 nodes of 24507 items\n"
     ]
    }
   ],
   "source": [
    "print(\"{} nodes of {} users\".format(len(user_nodes), num_users))\n",
    "print(\"{} nodes of {} items\".format(len(item_nodes), num_items))"
   ]
  },
  {
   "attachments": {},
   "cell_type": "markdown",
   "metadata": {},
   "source": [
    "### Calculate recommendations"
   ]
  },
  {
   "cell_type": "code",
   "execution_count": 158,
   "metadata": {},
   "outputs": [],
   "source": [
    "%%cython\n",
    "def calculate_jumps():\n",
    "    \n",
    "    global user_nodes\n",
    "    global item_nodes\n",
    "    global num_users\n",
    "    global rows_prob\n",
    "    global cols_prob\n",
    "\n",
    "    users_jumps = []\n",
    "\n",
    "    for user1_id in range(num_users):\n",
    "        \n",
    "        user1_items = user_nodes[user1_id]\n",
    "        \n",
    "        user_jumps = {}\n",
    "        \n",
    "        p1 = rows_prob[user1_id]\n",
    "        \n",
    "        for item1_id in user_nodes[user1_id]:\n",
    "            \n",
    "            p2 = cols_prob[item1_id]\n",
    "            \n",
    "            for user2_id in item_nodes[item1_id]:\n",
    "                \n",
    "                p3 = rows_prob[user2_id]\n",
    "                \n",
    "                for item2_id in user_nodes[user2_id]:\n",
    "                    \n",
    "                    if item2_id not in user_jumps.keys():\n",
    "                        user_jumps[item2_id] = []\n",
    "            \n",
    "                    user_jumps[item2_id].append(user_jumps[item2_id], p1 * p2 * p3)\n",
    "                    \n",
    "        users_jumps.append(user_jumps)\n",
    "        \n",
    "    return user_jumps"
   ]
  },
  {
   "cell_type": "code",
   "execution_count": 152,
   "metadata": {},
   "outputs": [
    {
     "ename": "NameError",
     "evalue": "name 'calculate_jumps' is not defined",
     "output_type": "error",
     "traceback": [
      "\u001b[0;31m---------------------------------------------------------------------------\u001b[0m",
      "\u001b[0;31mNameError\u001b[0m                                 Traceback (most recent call last)",
      "\u001b[0;32m/tmp/ipykernel_37068/2112730192.py\u001b[0m in \u001b[0;36m<module>\u001b[0;34m\u001b[0m\n\u001b[0;32m----> 1\u001b[0;31m \u001b[0mcalculate_jumps\u001b[0m\u001b[0;34m(\u001b[0m\u001b[0muser_nodes\u001b[0m\u001b[0;34m,\u001b[0m \u001b[0mitem_nodes\u001b[0m\u001b[0;34m,\u001b[0m \u001b[0mnum_users\u001b[0m\u001b[0;34m)\u001b[0m\u001b[0;34m\u001b[0m\u001b[0;34m\u001b[0m\u001b[0m\n\u001b[0m",
      "\u001b[0;31mNameError\u001b[0m: name 'calculate_jumps' is not defined"
     ]
    }
   ],
   "source": [
    "calculate_jumps(user_nodes, item_nodes, num_users)"
   ]
  }
 ],
 "metadata": {
  "kernelspec": {
   "display_name": "Python 3",
   "language": "python",
   "name": "python3"
  },
  "language_info": {
   "codemirror_mode": {
    "name": "ipython",
    "version": 3
   },
   "file_extension": ".py",
   "mimetype": "text/x-python",
   "name": "python",
   "nbconvert_exporter": "python",
   "pygments_lexer": "ipython3",
   "version": "3.10.7 (main, Nov 24 2022, 19:45:47) [GCC 12.2.0]"
  },
  "orig_nbformat": 4,
  "vscode": {
   "interpreter": {
    "hash": "916dbcbb3f70747c44a77c7bcd40155683ae19c65e1c03b4aa3499c5328201f1"
   }
  }
 },
 "nbformat": 4,
 "nbformat_minor": 2
}
